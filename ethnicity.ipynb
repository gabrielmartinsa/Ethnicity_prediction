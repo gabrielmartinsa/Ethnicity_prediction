{
  "nbformat": 4,
  "nbformat_minor": 0,
  "metadata": {
    "colab": {
      "provenance": []
    },
    "kernelspec": {
      "name": "python3",
      "display_name": "Python 3"
    },
    "language_info": {
      "name": "python"
    }
  },
  "cells": [
    {
      "cell_type": "markdown",
      "source": [
        "# Setup"
      ],
      "metadata": {
        "id": "jXXSprqYEyuz"
      }
    },
    {
      "cell_type": "code",
      "source": [
        "!pip install pandas\n",
        "!pip install ethnicolr\n",
        "!pip install DeepFace"
      ],
      "metadata": {
        "colab": {
          "base_uri": "https://localhost:8080/"
        },
        "id": "y4Fr53EqhaKm",
        "outputId": "7bb70e41-dfa4-4c9a-88cf-81f5c7f52e46"
      },
      "execution_count": null,
      "outputs": [
        {
          "output_type": "stream",
          "name": "stdout",
          "text": [
            "Requirement already satisfied: pandas in /usr/local/lib/python3.10/dist-packages (1.5.3)\n",
            "Requirement already satisfied: python-dateutil>=2.8.1 in /usr/local/lib/python3.10/dist-packages (from pandas) (2.8.2)\n",
            "Requirement already satisfied: pytz>=2020.1 in /usr/local/lib/python3.10/dist-packages (from pandas) (2022.7.1)\n",
            "Requirement already satisfied: numpy>=1.21.0 in /usr/local/lib/python3.10/dist-packages (from pandas) (1.22.4)\n",
            "Requirement already satisfied: six>=1.5 in /usr/local/lib/python3.10/dist-packages (from python-dateutil>=2.8.1->pandas) (1.16.0)\n",
            "Requirement already satisfied: ethnicolr in /usr/local/lib/python3.10/dist-packages (0.9.6)\n",
            "Requirement already satisfied: pandas>=1.3.0 in /usr/local/lib/python3.10/dist-packages (from ethnicolr) (1.5.3)\n",
            "Requirement already satisfied: tensorflow<3,>=2.7.2 in /usr/local/lib/python3.10/dist-packages (from ethnicolr) (2.12.0)\n",
            "Requirement already satisfied: python-dateutil>=2.8.1 in /usr/local/lib/python3.10/dist-packages (from pandas>=1.3.0->ethnicolr) (2.8.2)\n",
            "Requirement already satisfied: pytz>=2020.1 in /usr/local/lib/python3.10/dist-packages (from pandas>=1.3.0->ethnicolr) (2022.7.1)\n",
            "Requirement already satisfied: numpy>=1.21.0 in /usr/local/lib/python3.10/dist-packages (from pandas>=1.3.0->ethnicolr) (1.22.4)\n",
            "Requirement already satisfied: absl-py>=1.0.0 in /usr/local/lib/python3.10/dist-packages (from tensorflow<3,>=2.7.2->ethnicolr) (1.4.0)\n",
            "Requirement already satisfied: astunparse>=1.6.0 in /usr/local/lib/python3.10/dist-packages (from tensorflow<3,>=2.7.2->ethnicolr) (1.6.3)\n",
            "Requirement already satisfied: flatbuffers>=2.0 in /usr/local/lib/python3.10/dist-packages (from tensorflow<3,>=2.7.2->ethnicolr) (23.5.26)\n",
            "Requirement already satisfied: gast<=0.4.0,>=0.2.1 in /usr/local/lib/python3.10/dist-packages (from tensorflow<3,>=2.7.2->ethnicolr) (0.4.0)\n",
            "Requirement already satisfied: google-pasta>=0.1.1 in /usr/local/lib/python3.10/dist-packages (from tensorflow<3,>=2.7.2->ethnicolr) (0.2.0)\n",
            "Requirement already satisfied: grpcio<2.0,>=1.24.3 in /usr/local/lib/python3.10/dist-packages (from tensorflow<3,>=2.7.2->ethnicolr) (1.56.0)\n",
            "Requirement already satisfied: h5py>=2.9.0 in /usr/local/lib/python3.10/dist-packages (from tensorflow<3,>=2.7.2->ethnicolr) (3.8.0)\n",
            "Requirement already satisfied: jax>=0.3.15 in /usr/local/lib/python3.10/dist-packages (from tensorflow<3,>=2.7.2->ethnicolr) (0.4.10)\n",
            "Requirement already satisfied: keras<2.13,>=2.12.0 in /usr/local/lib/python3.10/dist-packages (from tensorflow<3,>=2.7.2->ethnicolr) (2.12.0)\n",
            "Requirement already satisfied: libclang>=13.0.0 in /usr/local/lib/python3.10/dist-packages (from tensorflow<3,>=2.7.2->ethnicolr) (16.0.0)\n",
            "Requirement already satisfied: opt-einsum>=2.3.2 in /usr/local/lib/python3.10/dist-packages (from tensorflow<3,>=2.7.2->ethnicolr) (3.3.0)\n",
            "Requirement already satisfied: packaging in /usr/local/lib/python3.10/dist-packages (from tensorflow<3,>=2.7.2->ethnicolr) (23.1)\n",
            "Requirement already satisfied: protobuf!=4.21.0,!=4.21.1,!=4.21.2,!=4.21.3,!=4.21.4,!=4.21.5,<5.0.0dev,>=3.20.3 in /usr/local/lib/python3.10/dist-packages (from tensorflow<3,>=2.7.2->ethnicolr) (3.20.3)\n",
            "Requirement already satisfied: setuptools in /usr/local/lib/python3.10/dist-packages (from tensorflow<3,>=2.7.2->ethnicolr) (67.7.2)\n",
            "Requirement already satisfied: six>=1.12.0 in /usr/local/lib/python3.10/dist-packages (from tensorflow<3,>=2.7.2->ethnicolr) (1.16.0)\n",
            "Requirement already satisfied: tensorboard<2.13,>=2.12 in /usr/local/lib/python3.10/dist-packages (from tensorflow<3,>=2.7.2->ethnicolr) (2.12.3)\n",
            "Requirement already satisfied: tensorflow-estimator<2.13,>=2.12.0 in /usr/local/lib/python3.10/dist-packages (from tensorflow<3,>=2.7.2->ethnicolr) (2.12.0)\n",
            "Requirement already satisfied: termcolor>=1.1.0 in /usr/local/lib/python3.10/dist-packages (from tensorflow<3,>=2.7.2->ethnicolr) (2.3.0)\n",
            "Requirement already satisfied: typing-extensions>=3.6.6 in /usr/local/lib/python3.10/dist-packages (from tensorflow<3,>=2.7.2->ethnicolr) (4.6.3)\n",
            "Requirement already satisfied: wrapt<1.15,>=1.11.0 in /usr/local/lib/python3.10/dist-packages (from tensorflow<3,>=2.7.2->ethnicolr) (1.14.1)\n",
            "Requirement already satisfied: tensorflow-io-gcs-filesystem>=0.23.1 in /usr/local/lib/python3.10/dist-packages (from tensorflow<3,>=2.7.2->ethnicolr) (0.32.0)\n",
            "Requirement already satisfied: wheel<1.0,>=0.23.0 in /usr/local/lib/python3.10/dist-packages (from astunparse>=1.6.0->tensorflow<3,>=2.7.2->ethnicolr) (0.40.0)\n",
            "Requirement already satisfied: ml-dtypes>=0.1.0 in /usr/local/lib/python3.10/dist-packages (from jax>=0.3.15->tensorflow<3,>=2.7.2->ethnicolr) (0.2.0)\n",
            "Requirement already satisfied: scipy>=1.7 in /usr/local/lib/python3.10/dist-packages (from jax>=0.3.15->tensorflow<3,>=2.7.2->ethnicolr) (1.10.1)\n",
            "Requirement already satisfied: google-auth<3,>=1.6.3 in /usr/local/lib/python3.10/dist-packages (from tensorboard<2.13,>=2.12->tensorflow<3,>=2.7.2->ethnicolr) (2.17.3)\n",
            "Requirement already satisfied: google-auth-oauthlib<1.1,>=0.5 in /usr/local/lib/python3.10/dist-packages (from tensorboard<2.13,>=2.12->tensorflow<3,>=2.7.2->ethnicolr) (1.0.0)\n",
            "Requirement already satisfied: markdown>=2.6.8 in /usr/local/lib/python3.10/dist-packages (from tensorboard<2.13,>=2.12->tensorflow<3,>=2.7.2->ethnicolr) (3.4.3)\n",
            "Requirement already satisfied: requests<3,>=2.21.0 in /usr/local/lib/python3.10/dist-packages (from tensorboard<2.13,>=2.12->tensorflow<3,>=2.7.2->ethnicolr) (2.27.1)\n",
            "Requirement already satisfied: tensorboard-data-server<0.8.0,>=0.7.0 in /usr/local/lib/python3.10/dist-packages (from tensorboard<2.13,>=2.12->tensorflow<3,>=2.7.2->ethnicolr) (0.7.1)\n",
            "Requirement already satisfied: werkzeug>=1.0.1 in /usr/local/lib/python3.10/dist-packages (from tensorboard<2.13,>=2.12->tensorflow<3,>=2.7.2->ethnicolr) (2.3.6)\n",
            "Requirement already satisfied: cachetools<6.0,>=2.0.0 in /usr/local/lib/python3.10/dist-packages (from google-auth<3,>=1.6.3->tensorboard<2.13,>=2.12->tensorflow<3,>=2.7.2->ethnicolr) (5.3.1)\n",
            "Requirement already satisfied: pyasn1-modules>=0.2.1 in /usr/local/lib/python3.10/dist-packages (from google-auth<3,>=1.6.3->tensorboard<2.13,>=2.12->tensorflow<3,>=2.7.2->ethnicolr) (0.3.0)\n",
            "Requirement already satisfied: rsa<5,>=3.1.4 in /usr/local/lib/python3.10/dist-packages (from google-auth<3,>=1.6.3->tensorboard<2.13,>=2.12->tensorflow<3,>=2.7.2->ethnicolr) (4.9)\n",
            "Requirement already satisfied: requests-oauthlib>=0.7.0 in /usr/local/lib/python3.10/dist-packages (from google-auth-oauthlib<1.1,>=0.5->tensorboard<2.13,>=2.12->tensorflow<3,>=2.7.2->ethnicolr) (1.3.1)\n",
            "Requirement already satisfied: urllib3<1.27,>=1.21.1 in /usr/local/lib/python3.10/dist-packages (from requests<3,>=2.21.0->tensorboard<2.13,>=2.12->tensorflow<3,>=2.7.2->ethnicolr) (1.26.16)\n",
            "Requirement already satisfied: certifi>=2017.4.17 in /usr/local/lib/python3.10/dist-packages (from requests<3,>=2.21.0->tensorboard<2.13,>=2.12->tensorflow<3,>=2.7.2->ethnicolr) (2023.5.7)\n",
            "Requirement already satisfied: charset-normalizer~=2.0.0 in /usr/local/lib/python3.10/dist-packages (from requests<3,>=2.21.0->tensorboard<2.13,>=2.12->tensorflow<3,>=2.7.2->ethnicolr) (2.0.12)\n",
            "Requirement already satisfied: idna<4,>=2.5 in /usr/local/lib/python3.10/dist-packages (from requests<3,>=2.21.0->tensorboard<2.13,>=2.12->tensorflow<3,>=2.7.2->ethnicolr) (3.4)\n",
            "Requirement already satisfied: MarkupSafe>=2.1.1 in /usr/local/lib/python3.10/dist-packages (from werkzeug>=1.0.1->tensorboard<2.13,>=2.12->tensorflow<3,>=2.7.2->ethnicolr) (2.1.3)\n",
            "Requirement already satisfied: pyasn1<0.6.0,>=0.4.6 in /usr/local/lib/python3.10/dist-packages (from pyasn1-modules>=0.2.1->google-auth<3,>=1.6.3->tensorboard<2.13,>=2.12->tensorflow<3,>=2.7.2->ethnicolr) (0.5.0)\n",
            "Requirement already satisfied: oauthlib>=3.0.0 in /usr/local/lib/python3.10/dist-packages (from requests-oauthlib>=0.7.0->google-auth-oauthlib<1.1,>=0.5->tensorboard<2.13,>=2.12->tensorflow<3,>=2.7.2->ethnicolr) (3.2.2)\n",
            "Requirement already satisfied: DeepFace in /usr/local/lib/python3.10/dist-packages (0.0.79)\n",
            "Requirement already satisfied: numpy>=1.14.0 in /usr/local/lib/python3.10/dist-packages (from DeepFace) (1.22.4)\n",
            "Requirement already satisfied: pandas>=0.23.4 in /usr/local/lib/python3.10/dist-packages (from DeepFace) (1.5.3)\n",
            "Requirement already satisfied: tqdm>=4.30.0 in /usr/local/lib/python3.10/dist-packages (from DeepFace) (4.65.0)\n",
            "Requirement already satisfied: gdown>=3.10.1 in /usr/local/lib/python3.10/dist-packages (from DeepFace) (4.6.6)\n",
            "Requirement already satisfied: Pillow>=5.2.0 in /usr/local/lib/python3.10/dist-packages (from DeepFace) (8.4.0)\n",
            "Requirement already satisfied: opencv-python>=4.5.5.64 in /usr/local/lib/python3.10/dist-packages (from DeepFace) (4.7.0.72)\n",
            "Requirement already satisfied: tensorflow>=1.9.0 in /usr/local/lib/python3.10/dist-packages (from DeepFace) (2.12.0)\n",
            "Requirement already satisfied: keras>=2.2.0 in /usr/local/lib/python3.10/dist-packages (from DeepFace) (2.12.0)\n",
            "Requirement already satisfied: Flask>=1.1.2 in /usr/local/lib/python3.10/dist-packages (from DeepFace) (2.2.5)\n",
            "Requirement already satisfied: mtcnn>=0.1.0 in /usr/local/lib/python3.10/dist-packages (from DeepFace) (0.1.1)\n",
            "Requirement already satisfied: retina-face>=0.0.1 in /usr/local/lib/python3.10/dist-packages (from DeepFace) (0.0.13)\n",
            "Requirement already satisfied: fire>=0.4.0 in /usr/local/lib/python3.10/dist-packages (from DeepFace) (0.5.0)\n",
            "Requirement already satisfied: gunicorn>=20.1.0 in /usr/local/lib/python3.10/dist-packages (from DeepFace) (20.1.0)\n",
            "Requirement already satisfied: six in /usr/local/lib/python3.10/dist-packages (from fire>=0.4.0->DeepFace) (1.16.0)\n",
            "Requirement already satisfied: termcolor in /usr/local/lib/python3.10/dist-packages (from fire>=0.4.0->DeepFace) (2.3.0)\n",
            "Requirement already satisfied: Werkzeug>=2.2.2 in /usr/local/lib/python3.10/dist-packages (from Flask>=1.1.2->DeepFace) (2.3.6)\n",
            "Requirement already satisfied: Jinja2>=3.0 in /usr/local/lib/python3.10/dist-packages (from Flask>=1.1.2->DeepFace) (3.1.2)\n",
            "Requirement already satisfied: itsdangerous>=2.0 in /usr/local/lib/python3.10/dist-packages (from Flask>=1.1.2->DeepFace) (2.1.2)\n",
            "Requirement already satisfied: click>=8.0 in /usr/local/lib/python3.10/dist-packages (from Flask>=1.1.2->DeepFace) (8.1.3)\n",
            "Requirement already satisfied: filelock in /usr/local/lib/python3.10/dist-packages (from gdown>=3.10.1->DeepFace) (3.12.2)\n",
            "Requirement already satisfied: requests[socks] in /usr/local/lib/python3.10/dist-packages (from gdown>=3.10.1->DeepFace) (2.27.1)\n",
            "Requirement already satisfied: beautifulsoup4 in /usr/local/lib/python3.10/dist-packages (from gdown>=3.10.1->DeepFace) (4.11.2)\n",
            "Requirement already satisfied: setuptools>=3.0 in /usr/local/lib/python3.10/dist-packages (from gunicorn>=20.1.0->DeepFace) (67.7.2)\n",
            "Requirement already satisfied: python-dateutil>=2.8.1 in /usr/local/lib/python3.10/dist-packages (from pandas>=0.23.4->DeepFace) (2.8.2)\n",
            "Requirement already satisfied: pytz>=2020.1 in /usr/local/lib/python3.10/dist-packages (from pandas>=0.23.4->DeepFace) (2022.7.1)\n",
            "Requirement already satisfied: absl-py>=1.0.0 in /usr/local/lib/python3.10/dist-packages (from tensorflow>=1.9.0->DeepFace) (1.4.0)\n",
            "Requirement already satisfied: astunparse>=1.6.0 in /usr/local/lib/python3.10/dist-packages (from tensorflow>=1.9.0->DeepFace) (1.6.3)\n",
            "Requirement already satisfied: flatbuffers>=2.0 in /usr/local/lib/python3.10/dist-packages (from tensorflow>=1.9.0->DeepFace) (23.5.26)\n",
            "Requirement already satisfied: gast<=0.4.0,>=0.2.1 in /usr/local/lib/python3.10/dist-packages (from tensorflow>=1.9.0->DeepFace) (0.4.0)\n",
            "Requirement already satisfied: google-pasta>=0.1.1 in /usr/local/lib/python3.10/dist-packages (from tensorflow>=1.9.0->DeepFace) (0.2.0)\n",
            "Requirement already satisfied: grpcio<2.0,>=1.24.3 in /usr/local/lib/python3.10/dist-packages (from tensorflow>=1.9.0->DeepFace) (1.56.0)\n",
            "Requirement already satisfied: h5py>=2.9.0 in /usr/local/lib/python3.10/dist-packages (from tensorflow>=1.9.0->DeepFace) (3.8.0)\n",
            "Requirement already satisfied: jax>=0.3.15 in /usr/local/lib/python3.10/dist-packages (from tensorflow>=1.9.0->DeepFace) (0.4.10)\n",
            "Requirement already satisfied: libclang>=13.0.0 in /usr/local/lib/python3.10/dist-packages (from tensorflow>=1.9.0->DeepFace) (16.0.0)\n",
            "Requirement already satisfied: opt-einsum>=2.3.2 in /usr/local/lib/python3.10/dist-packages (from tensorflow>=1.9.0->DeepFace) (3.3.0)\n",
            "Requirement already satisfied: packaging in /usr/local/lib/python3.10/dist-packages (from tensorflow>=1.9.0->DeepFace) (23.1)\n",
            "Requirement already satisfied: protobuf!=4.21.0,!=4.21.1,!=4.21.2,!=4.21.3,!=4.21.4,!=4.21.5,<5.0.0dev,>=3.20.3 in /usr/local/lib/python3.10/dist-packages (from tensorflow>=1.9.0->DeepFace) (3.20.3)\n",
            "Requirement already satisfied: tensorboard<2.13,>=2.12 in /usr/local/lib/python3.10/dist-packages (from tensorflow>=1.9.0->DeepFace) (2.12.3)\n",
            "Requirement already satisfied: tensorflow-estimator<2.13,>=2.12.0 in /usr/local/lib/python3.10/dist-packages (from tensorflow>=1.9.0->DeepFace) (2.12.0)\n",
            "Requirement already satisfied: typing-extensions>=3.6.6 in /usr/local/lib/python3.10/dist-packages (from tensorflow>=1.9.0->DeepFace) (4.6.3)\n",
            "Requirement already satisfied: wrapt<1.15,>=1.11.0 in /usr/local/lib/python3.10/dist-packages (from tensorflow>=1.9.0->DeepFace) (1.14.1)\n",
            "Requirement already satisfied: tensorflow-io-gcs-filesystem>=0.23.1 in /usr/local/lib/python3.10/dist-packages (from tensorflow>=1.9.0->DeepFace) (0.32.0)\n",
            "Requirement already satisfied: wheel<1.0,>=0.23.0 in /usr/local/lib/python3.10/dist-packages (from astunparse>=1.6.0->tensorflow>=1.9.0->DeepFace) (0.40.0)\n",
            "Requirement already satisfied: ml-dtypes>=0.1.0 in /usr/local/lib/python3.10/dist-packages (from jax>=0.3.15->tensorflow>=1.9.0->DeepFace) (0.2.0)\n",
            "Requirement already satisfied: scipy>=1.7 in /usr/local/lib/python3.10/dist-packages (from jax>=0.3.15->tensorflow>=1.9.0->DeepFace) (1.10.1)\n",
            "Requirement already satisfied: MarkupSafe>=2.0 in /usr/local/lib/python3.10/dist-packages (from Jinja2>=3.0->Flask>=1.1.2->DeepFace) (2.1.3)\n",
            "Requirement already satisfied: google-auth<3,>=1.6.3 in /usr/local/lib/python3.10/dist-packages (from tensorboard<2.13,>=2.12->tensorflow>=1.9.0->DeepFace) (2.17.3)\n",
            "Requirement already satisfied: google-auth-oauthlib<1.1,>=0.5 in /usr/local/lib/python3.10/dist-packages (from tensorboard<2.13,>=2.12->tensorflow>=1.9.0->DeepFace) (1.0.0)\n",
            "Requirement already satisfied: markdown>=2.6.8 in /usr/local/lib/python3.10/dist-packages (from tensorboard<2.13,>=2.12->tensorflow>=1.9.0->DeepFace) (3.4.3)\n",
            "Requirement already satisfied: tensorboard-data-server<0.8.0,>=0.7.0 in /usr/local/lib/python3.10/dist-packages (from tensorboard<2.13,>=2.12->tensorflow>=1.9.0->DeepFace) (0.7.1)\n",
            "Requirement already satisfied: soupsieve>1.2 in /usr/local/lib/python3.10/dist-packages (from beautifulsoup4->gdown>=3.10.1->DeepFace) (2.4.1)\n",
            "Requirement already satisfied: urllib3<1.27,>=1.21.1 in /usr/local/lib/python3.10/dist-packages (from requests[socks]->gdown>=3.10.1->DeepFace) (1.26.16)\n",
            "Requirement already satisfied: certifi>=2017.4.17 in /usr/local/lib/python3.10/dist-packages (from requests[socks]->gdown>=3.10.1->DeepFace) (2023.5.7)\n",
            "Requirement already satisfied: charset-normalizer~=2.0.0 in /usr/local/lib/python3.10/dist-packages (from requests[socks]->gdown>=3.10.1->DeepFace) (2.0.12)\n",
            "Requirement already satisfied: idna<4,>=2.5 in /usr/local/lib/python3.10/dist-packages (from requests[socks]->gdown>=3.10.1->DeepFace) (3.4)\n",
            "Requirement already satisfied: PySocks!=1.5.7,>=1.5.6 in /usr/local/lib/python3.10/dist-packages (from requests[socks]->gdown>=3.10.1->DeepFace) (1.7.1)\n",
            "Requirement already satisfied: cachetools<6.0,>=2.0.0 in /usr/local/lib/python3.10/dist-packages (from google-auth<3,>=1.6.3->tensorboard<2.13,>=2.12->tensorflow>=1.9.0->DeepFace) (5.3.1)\n",
            "Requirement already satisfied: pyasn1-modules>=0.2.1 in /usr/local/lib/python3.10/dist-packages (from google-auth<3,>=1.6.3->tensorboard<2.13,>=2.12->tensorflow>=1.9.0->DeepFace) (0.3.0)\n",
            "Requirement already satisfied: rsa<5,>=3.1.4 in /usr/local/lib/python3.10/dist-packages (from google-auth<3,>=1.6.3->tensorboard<2.13,>=2.12->tensorflow>=1.9.0->DeepFace) (4.9)\n",
            "Requirement already satisfied: requests-oauthlib>=0.7.0 in /usr/local/lib/python3.10/dist-packages (from google-auth-oauthlib<1.1,>=0.5->tensorboard<2.13,>=2.12->tensorflow>=1.9.0->DeepFace) (1.3.1)\n",
            "Requirement already satisfied: pyasn1<0.6.0,>=0.4.6 in /usr/local/lib/python3.10/dist-packages (from pyasn1-modules>=0.2.1->google-auth<3,>=1.6.3->tensorboard<2.13,>=2.12->tensorflow>=1.9.0->DeepFace) (0.5.0)\n",
            "Requirement already satisfied: oauthlib>=3.0.0 in /usr/local/lib/python3.10/dist-packages (from requests-oauthlib>=0.7.0->google-auth-oauthlib<1.1,>=0.5->tensorboard<2.13,>=2.12->tensorflow>=1.9.0->DeepFace) (3.2.2)\n"
          ]
        }
      ]
    },
    {
      "cell_type": "code",
      "source": [
        "import pandas as pd\n",
        "import numpy as np\n",
        "from google.colab import files\n",
        "from sklearn.model_selection import train_test_split\n",
        "import IPython.display as display\n",
        "from PIL import Image\n",
        "from urllib.request import urlopen\n",
        "import time\n",
        "import requests\n",
        "import csv\n",
        "import io\n",
        "from deepface import DeepFace\n",
        "import matplotlib.pyplot as plt"
      ],
      "metadata": {
        "id": "WzaDjPqzExlm"
      },
      "execution_count": null,
      "outputs": []
    },
    {
      "cell_type": "markdown",
      "source": [
        "# Labeling"
      ],
      "metadata": {
        "id": "y_QTe5Hn6S_C"
      }
    },
    {
      "cell_type": "code",
      "source": [
        "# Load the CSV file\n",
        "df = pd.read_csv('merged_final.csv')\n",
        "\n",
        "\n",
        "# Add a new column \"true_label\" filled with -1\n",
        "if 'true_label' not in df.columns:\n",
        "  df['true_label'] = \"-1\"\n",
        "\n",
        "counter = df[df['true_label'] != \"-1\"].shape[0]\n",
        "\n",
        "wait = 1\n",
        "# Iterate over each row\n",
        "for i, row in df.iterrows():\n",
        "  if (row['true_label'] == \"-1\" and row['invalid'] == 1): # If the true label is -1\n",
        "    try:\n",
        "      print('Label counter: ',counter)\n",
        "      # Open and display the image from the URL\n",
        "      with urlopen(row['image']) as url:\n",
        "        with open('temp.jpg', 'wb') as f:\n",
        "          f.write(url.read())\n",
        "        img = Image.open('temp.jpg')\n",
        "        # Resize the image to 50%\n",
        "        img = img.resize((img.width // 2, img.height // 2))\n",
        "        display.display(img)\n",
        "\n",
        "      # Ask for your input\n",
        "      time.sleep(2)\n",
        "      print(\"Label Guide: 0: Native American | 1: Asian | 2: Black | 3: Latino | 4: Middle Eastern/North African | 5: White | 8: Unknown/Not applicable | 9: Exit program\")\n",
        "      true_label = input(\"Enter the true label(s): \")\n",
        "      # Check if the input is 9\n",
        "      if true_label == '9':\n",
        "        # Stop the loop\n",
        "        break\n",
        "      # Save the input to the DataFrame\n",
        "      df.loc[i, 'true_label'] = \" \".join([num for num in true_label.split()])\n",
        "\n",
        "    except:\n",
        "      print(\"Could not load image\")\n",
        "    finally:\n",
        "      # Clear the output\n",
        "      display.clear_output(wait=True)\n",
        "      counter += 1\n",
        "\n",
        "# Save the DataFrame to a new CSV file\n",
        "df.to_csv('merged_final.csv', index=False)\n",
        "\n",
        "# Download the new CSV file\n",
        "files.download('merged_final.csv')"
      ],
      "metadata": {
        "colab": {
          "base_uri": "https://localhost:8080/",
          "height": 17
        },
        "id": "CQzAdgsRMxOX",
        "outputId": "543ac0f3-87cb-4e28-c46a-622f2c03be96"
      },
      "execution_count": null,
      "outputs": [
        {
          "output_type": "display_data",
          "data": {
            "text/plain": [
              "<IPython.core.display.Javascript object>"
            ],
            "application/javascript": [
              "\n",
              "    async function download(id, filename, size) {\n",
              "      if (!google.colab.kernel.accessAllowed) {\n",
              "        return;\n",
              "      }\n",
              "      const div = document.createElement('div');\n",
              "      const label = document.createElement('label');\n",
              "      label.textContent = `Downloading \"${filename}\": `;\n",
              "      div.appendChild(label);\n",
              "      const progress = document.createElement('progress');\n",
              "      progress.max = size;\n",
              "      div.appendChild(progress);\n",
              "      document.body.appendChild(div);\n",
              "\n",
              "      const buffers = [];\n",
              "      let downloaded = 0;\n",
              "\n",
              "      const channel = await google.colab.kernel.comms.open(id);\n",
              "      // Send a message to notify the kernel that we're ready.\n",
              "      channel.send({})\n",
              "\n",
              "      for await (const message of channel.messages) {\n",
              "        // Send a message to notify the kernel that we're ready.\n",
              "        channel.send({})\n",
              "        if (message.buffers) {\n",
              "          for (const buffer of message.buffers) {\n",
              "            buffers.push(buffer);\n",
              "            downloaded += buffer.byteLength;\n",
              "            progress.value = downloaded;\n",
              "          }\n",
              "        }\n",
              "      }\n",
              "      const blob = new Blob(buffers, {type: 'application/binary'});\n",
              "      const a = document.createElement('a');\n",
              "      a.href = window.URL.createObjectURL(blob);\n",
              "      a.download = filename;\n",
              "      div.appendChild(a);\n",
              "      a.click();\n",
              "      div.remove();\n",
              "    }\n",
              "  "
            ]
          },
          "metadata": {}
        },
        {
          "output_type": "display_data",
          "data": {
            "text/plain": [
              "<IPython.core.display.Javascript object>"
            ],
            "application/javascript": [
              "download(\"download_0d49bcce-6122-4fa3-a8be-732c71c8233f\", \"merged_final.csv\", 3910263)"
            ]
          },
          "metadata": {}
        }
      ]
    },
    {
      "cell_type": "code",
      "source": [
        "# When reading the data:\n",
        "df = pd.read_csv('example.csv')\n",
        "df['true_label'] = df['true_label'].apply(lambda x: [int(num) for num in x.split()])\n",
        "print(df['true_label'])"
      ],
      "metadata": {
        "id": "02HZ4Y5ERYBq"
      },
      "execution_count": null,
      "outputs": []
    },
    {
      "cell_type": "code",
      "source": [
        "response = requests.get('https://www.name-prism.com/api_token/nat/csv/b354822c882cae33/Monica')\n",
        "\n",
        "# Define mapping from detailed to broader categories\n",
        "ethnicity_mapping = {\n",
        "    'Asian': ['EastAsian', 'SouthAsian', 'EastAsian-Indochina-Thailand',\n",
        "              'EastAsian-Indochina-Vietnam', 'EastAsian-Indochina-Cambodia',\n",
        "              'EastAsian-Indochina-Myanmar', 'EastAsian-Japan',\n",
        "              'EastAsian-Chinese', 'EastAsian-South Korea',\n",
        "              'EastAsian-Malay-Malaysia', 'EastAsian-Malay-Indonesia'],\n",
        "    'Black': ['African', 'African-SouthAfrican', 'African-WestAfrican',\n",
        "              'African-EastAfrican'],\n",
        "    'Hispanic/Latino': ['Hispanic', 'Hispanic-Portuguese', 'Hispanic-Spanish',\n",
        "                        'Hispanic-Philippines'],\n",
        "    'Middle Eastern/North African': ['Muslim', 'Muslim-Pakistanis-Bangladesh',\n",
        "                                     'Muslim-Nubian', 'Muslim-Turkic-CentralAsian',\n",
        "                                     'Muslim-Persian', 'Muslim-Maghreb',\n",
        "                                     'Muslim-Pakistanis-Pakistan', 'Muslim-ArabianPeninsula',\n",
        "                                     'Muslim-Turkic-Turkey'],\n",
        "    'White': ['European', 'CelticEnglish', 'Nordic', 'Greek', 'Jewish',\n",
        "              'European-SouthSlavs', 'European-Italian-Italy', 'European-Baltics',\n",
        "              'European-Italian-Romania', 'European-French',\n",
        "              'Nordic-Scandinavian-Denmark', 'Nordic-Finland',\n",
        "              'Nordic-Scandinavian-Sweden', 'Nordic-Scandinavian-Norway',\n",
        "              'European-Russian', 'European-German', 'European-EastEuropean']\n",
        "}\n",
        "\n",
        "# Prepare a dictionary to store probabilities\n",
        "probabilities = {\n",
        "    'Asian': 0.0,\n",
        "    'Black': 0.0,\n",
        "    'Hispanic/Latino': 0.0,\n",
        "    'Middle Eastern/North African': 0.0,\n",
        "    'White': 0.0\n",
        "}\n",
        "\n",
        "# Check if the request was successful\n",
        "if response.status_code == 200:\n",
        "    csv_content = csv.reader(io.StringIO(response.text))\n",
        "\n",
        "    for row in csv_content:\n",
        "        # Get the ethnicity and probability\n",
        "        ethnicity, probability = row[0], float(row[1])\n",
        "\n",
        "        # Map the detailed ethnicity to the broader groups\n",
        "        for broad_group, details in ethnicity_mapping.items():\n",
        "            if any(detail in ethnicity for detail in details):\n",
        "                probabilities[broad_group] += probability\n",
        "\n",
        "    # Sort by probability in descending order\n",
        "    sorted_probabilities = sorted(probabilities.items(), key=lambda x: x[1], reverse=True)\n",
        "\n",
        "    # Print the top 2 broad ethnicities\n",
        "    for ethnicity, probability in sorted_probabilities[:3]:\n",
        "        print(f\"Ethnicity: {ethnicity}, Probability: {probability}\")\n",
        "else:\n",
        "    print(f\"Request failed with status code {response.status_code}\")\n"
      ],
      "metadata": {
        "colab": {
          "base_uri": "https://localhost:8080/"
        },
        "id": "DPSMPIYLqLD_",
        "outputId": "9c2b7781-0ce0-4e93-af1a-c9b6b1dc2ad1"
      },
      "execution_count": null,
      "outputs": [
        {
          "output_type": "stream",
          "name": "stdout",
          "text": [
            "Ethnicity: White, Probability: 0.5407\n",
            "Ethnicity: Hispanic/Latino, Probability: 0.33699999999999997\n",
            "Ethnicity: Asian, Probability: 0.106\n"
          ]
        }
      ]
    },
    {
      "cell_type": "code",
      "source": [
        "# Define mapping from detailed to broader categories\n",
        "ethnicity_mapping = {\n",
        "    'Asian': ['EastAsian', 'SouthAsian', 'EastAsian-Indochina-Thailand',\n",
        "              'EastAsian-Indochina-Vietnam', 'EastAsian-Indochina-Cambodia',\n",
        "              'EastAsian-Indochina-Myanmar', 'EastAsian-Japan',\n",
        "              'EastAsian-Chinese', 'EastAsian-South Korea',\n",
        "              'EastAsian-Malay-Malaysia', 'EastAsian-Malay-Indonesia'],\n",
        "    'Black': ['African', 'African-SouthAfrican', 'African-WestAfrican',\n",
        "              'African-EastAfrican'],\n",
        "    'Hispanic/Latino': ['Hispanic', 'Hispanic-Portuguese', 'Hispanic-Spanish',\n",
        "                        'Hispanic-Philippines'],\n",
        "    'Middle Eastern/North African': ['Muslim', 'Muslim-Pakistanis-Bangladesh',\n",
        "                                     'Muslim-Nubian', 'Muslim-Turkic-CentralAsian',\n",
        "                                     'Muslim-Persian', 'Muslim-Maghreb',\n",
        "                                     'Muslim-Pakistanis-Pakistan', 'Muslim-ArabianPeninsula',\n",
        "                                     'Muslim-Turkic-Turkey'],\n",
        "    'White': ['European', 'CelticEnglish', 'Nordic', 'Greek', 'Jewish',\n",
        "              'European-SouthSlavs', 'European-Italian-Italy', 'European-Baltics',\n",
        "              'European-Italian-Romania', 'European-French',\n",
        "              'Nordic-Scandinavian-Denmark', 'Nordic-Finland',\n",
        "              'Nordic-Scandinavian-Sweden', 'Nordic-Scandinavian-Norway',\n",
        "              'European-Russian', 'European-German', 'European-EastEuropean']\n",
        "}\n",
        "\n",
        "\n",
        "\n",
        "\n",
        "# Read the CSV file into a DataFrame\n",
        "df = pd.read_csv('airbnb_cleaned.csv')\n",
        "\n",
        "# If the 'Name Prism Label' and 'Name Prism Trust' columns don't exist, create them\n",
        "if 'Name Prism Label' not in df.columns:\n",
        "    df['Name Prism Label'] = None\n",
        "if 'Name Prism Trust' not in df.columns:\n",
        "    df['Name Prism Trust'] = None\n",
        "\n",
        "# Create a dictionary to map ethnicities to their corresponding numbers\n",
        "ethnicity_number_mapping = {\n",
        "    'Asian': 1,\n",
        "    'Black': 2,\n",
        "    'Hispanic/Latino': 3,\n",
        "    'Middle Eastern/North African': 4,\n",
        "    'White': 5\n",
        "}\n",
        "\n",
        "# Iterate over each row in the DataFrame\n",
        "for i, row in df.iterrows():\n",
        "    name = row['name']\n",
        "    time.sleep(0.72)\n",
        "    response = requests.get(f'https://www.name-prism.com/api_token/nat/csv/b354822c882cae33/{name}')\n",
        "    if((i%2000 == 0) & (i!=0)):\n",
        "      # Save the DataFrame back to the CSV file\n",
        "      df.to_csv('example_mod_final.csv', index=False)\n",
        "      # Download the new CSV file\n",
        "      files.download('example_mod_final.csv')\n",
        "      time.sleep(3)\n",
        "\n",
        "    # Check if the request was successful\n",
        "    if response.status_code == 200:\n",
        "        # Prepare a dictionary to store probabilities\n",
        "        probabilities = {\n",
        "            'Asian': 0.0,\n",
        "            'Black': 0.0,\n",
        "            'Hispanic/Latino': 0.0,\n",
        "            'Middle Eastern/North African': 0.0,\n",
        "            'White': 0.0\n",
        "        }\n",
        "\n",
        "        csv_content = csv.reader(io.StringIO(response.text))\n",
        "\n",
        "        for row in csv_content:\n",
        "            # Get the ethnicity and probability\n",
        "            ethnicity, probability = row[0], float(row[1])\n",
        "\n",
        "            # Map the detailed ethnicity to the broader groups\n",
        "            for broad_group, details in ethnicity_mapping.items():\n",
        "                if any(detail in ethnicity for detail in details):\n",
        "                    probabilities[broad_group] += probability\n",
        "\n",
        "        # Sort by probability in descending order\n",
        "        sorted_probabilities = sorted(probabilities.items(), key=lambda x: x[1], reverse=True)\n",
        "\n",
        "        # Get the top ethnicity and its corresponding probability\n",
        "        top_ethnicity, top_probability = sorted_probabilities[0]\n",
        "\n",
        "        # Update the 'Name Prism Label' and 'Name Prism Trust' columns\n",
        "        df.loc[i, 'Name Prism Label'] = ethnicity_number_mapping[top_ethnicity]\n",
        "        df.loc[i, 'Name Prism Trust'] = top_probability\n",
        "\n",
        "# Save the DataFrame back to the CSV file\n",
        "df.to_csv('example_mod_final.csv', index=False)\n",
        "\n",
        "# Download the new CSV file\n",
        "files.download('example_mod_final.csv')"
      ],
      "metadata": {
        "colab": {
          "base_uri": "https://localhost:8080/",
          "height": 17
        },
        "id": "LzBkSzYirL1J",
        "outputId": "39323461-08b0-4f33-eabb-0ee6d36c7b8a"
      },
      "execution_count": null,
      "outputs": [
        {
          "output_type": "display_data",
          "data": {
            "text/plain": [
              "<IPython.core.display.Javascript object>"
            ],
            "application/javascript": [
              "\n",
              "    async function download(id, filename, size) {\n",
              "      if (!google.colab.kernel.accessAllowed) {\n",
              "        return;\n",
              "      }\n",
              "      const div = document.createElement('div');\n",
              "      const label = document.createElement('label');\n",
              "      label.textContent = `Downloading \"${filename}\": `;\n",
              "      div.appendChild(label);\n",
              "      const progress = document.createElement('progress');\n",
              "      progress.max = size;\n",
              "      div.appendChild(progress);\n",
              "      document.body.appendChild(div);\n",
              "\n",
              "      const buffers = [];\n",
              "      let downloaded = 0;\n",
              "\n",
              "      const channel = await google.colab.kernel.comms.open(id);\n",
              "      // Send a message to notify the kernel that we're ready.\n",
              "      channel.send({})\n",
              "\n",
              "      for await (const message of channel.messages) {\n",
              "        // Send a message to notify the kernel that we're ready.\n",
              "        channel.send({})\n",
              "        if (message.buffers) {\n",
              "          for (const buffer of message.buffers) {\n",
              "            buffers.push(buffer);\n",
              "            downloaded += buffer.byteLength;\n",
              "            progress.value = downloaded;\n",
              "          }\n",
              "        }\n",
              "      }\n",
              "      const blob = new Blob(buffers, {type: 'application/binary'});\n",
              "      const a = document.createElement('a');\n",
              "      a.href = window.URL.createObjectURL(blob);\n",
              "      a.download = filename;\n",
              "      div.appendChild(a);\n",
              "      a.click();\n",
              "      div.remove();\n",
              "    }\n",
              "  "
            ]
          },
          "metadata": {}
        },
        {
          "output_type": "display_data",
          "data": {
            "text/plain": [
              "<IPython.core.display.Javascript object>"
            ],
            "application/javascript": [
              "download(\"download_1e39abf6-be86-4600-8b40-40e591a3a377\", \"example_mod_final.csv\", 2046556)"
            ]
          },
          "metadata": {}
        },
        {
          "output_type": "display_data",
          "data": {
            "text/plain": [
              "<IPython.core.display.Javascript object>"
            ],
            "application/javascript": [
              "\n",
              "    async function download(id, filename, size) {\n",
              "      if (!google.colab.kernel.accessAllowed) {\n",
              "        return;\n",
              "      }\n",
              "      const div = document.createElement('div');\n",
              "      const label = document.createElement('label');\n",
              "      label.textContent = `Downloading \"${filename}\": `;\n",
              "      div.appendChild(label);\n",
              "      const progress = document.createElement('progress');\n",
              "      progress.max = size;\n",
              "      div.appendChild(progress);\n",
              "      document.body.appendChild(div);\n",
              "\n",
              "      const buffers = [];\n",
              "      let downloaded = 0;\n",
              "\n",
              "      const channel = await google.colab.kernel.comms.open(id);\n",
              "      // Send a message to notify the kernel that we're ready.\n",
              "      channel.send({})\n",
              "\n",
              "      for await (const message of channel.messages) {\n",
              "        // Send a message to notify the kernel that we're ready.\n",
              "        channel.send({})\n",
              "        if (message.buffers) {\n",
              "          for (const buffer of message.buffers) {\n",
              "            buffers.push(buffer);\n",
              "            downloaded += buffer.byteLength;\n",
              "            progress.value = downloaded;\n",
              "          }\n",
              "        }\n",
              "      }\n",
              "      const blob = new Blob(buffers, {type: 'application/binary'});\n",
              "      const a = document.createElement('a');\n",
              "      a.href = window.URL.createObjectURL(blob);\n",
              "      a.download = filename;\n",
              "      div.appendChild(a);\n",
              "      a.click();\n",
              "      div.remove();\n",
              "    }\n",
              "  "
            ]
          },
          "metadata": {}
        },
        {
          "output_type": "display_data",
          "data": {
            "text/plain": [
              "<IPython.core.display.Javascript object>"
            ],
            "application/javascript": [
              "download(\"download_30bb6c0e-bb92-47af-8166-45399c123119\", \"example_mod_final.csv\", 2068700)"
            ]
          },
          "metadata": {}
        },
        {
          "output_type": "display_data",
          "data": {
            "text/plain": [
              "<IPython.core.display.Javascript object>"
            ],
            "application/javascript": [
              "\n",
              "    async function download(id, filename, size) {\n",
              "      if (!google.colab.kernel.accessAllowed) {\n",
              "        return;\n",
              "      }\n",
              "      const div = document.createElement('div');\n",
              "      const label = document.createElement('label');\n",
              "      label.textContent = `Downloading \"${filename}\": `;\n",
              "      div.appendChild(label);\n",
              "      const progress = document.createElement('progress');\n",
              "      progress.max = size;\n",
              "      div.appendChild(progress);\n",
              "      document.body.appendChild(div);\n",
              "\n",
              "      const buffers = [];\n",
              "      let downloaded = 0;\n",
              "\n",
              "      const channel = await google.colab.kernel.comms.open(id);\n",
              "      // Send a message to notify the kernel that we're ready.\n",
              "      channel.send({})\n",
              "\n",
              "      for await (const message of channel.messages) {\n",
              "        // Send a message to notify the kernel that we're ready.\n",
              "        channel.send({})\n",
              "        if (message.buffers) {\n",
              "          for (const buffer of message.buffers) {\n",
              "            buffers.push(buffer);\n",
              "            downloaded += buffer.byteLength;\n",
              "            progress.value = downloaded;\n",
              "          }\n",
              "        }\n",
              "      }\n",
              "      const blob = new Blob(buffers, {type: 'application/binary'});\n",
              "      const a = document.createElement('a');\n",
              "      a.href = window.URL.createObjectURL(blob);\n",
              "      a.download = filename;\n",
              "      div.appendChild(a);\n",
              "      a.click();\n",
              "      div.remove();\n",
              "    }\n",
              "  "
            ]
          },
          "metadata": {}
        },
        {
          "output_type": "display_data",
          "data": {
            "text/plain": [
              "<IPython.core.display.Javascript object>"
            ],
            "application/javascript": [
              "download(\"download_dfdc7dd1-a1eb-4a75-87dd-9aabda2c2b8f\", \"example_mod_final.csv\", 2090951)"
            ]
          },
          "metadata": {}
        },
        {
          "output_type": "display_data",
          "data": {
            "text/plain": [
              "<IPython.core.display.Javascript object>"
            ],
            "application/javascript": [
              "\n",
              "    async function download(id, filename, size) {\n",
              "      if (!google.colab.kernel.accessAllowed) {\n",
              "        return;\n",
              "      }\n",
              "      const div = document.createElement('div');\n",
              "      const label = document.createElement('label');\n",
              "      label.textContent = `Downloading \"${filename}\": `;\n",
              "      div.appendChild(label);\n",
              "      const progress = document.createElement('progress');\n",
              "      progress.max = size;\n",
              "      div.appendChild(progress);\n",
              "      document.body.appendChild(div);\n",
              "\n",
              "      const buffers = [];\n",
              "      let downloaded = 0;\n",
              "\n",
              "      const channel = await google.colab.kernel.comms.open(id);\n",
              "      // Send a message to notify the kernel that we're ready.\n",
              "      channel.send({})\n",
              "\n",
              "      for await (const message of channel.messages) {\n",
              "        // Send a message to notify the kernel that we're ready.\n",
              "        channel.send({})\n",
              "        if (message.buffers) {\n",
              "          for (const buffer of message.buffers) {\n",
              "            buffers.push(buffer);\n",
              "            downloaded += buffer.byteLength;\n",
              "            progress.value = downloaded;\n",
              "          }\n",
              "        }\n",
              "      }\n",
              "      const blob = new Blob(buffers, {type: 'application/binary'});\n",
              "      const a = document.createElement('a');\n",
              "      a.href = window.URL.createObjectURL(blob);\n",
              "      a.download = filename;\n",
              "      div.appendChild(a);\n",
              "      a.click();\n",
              "      div.remove();\n",
              "    }\n",
              "  "
            ]
          },
          "metadata": {}
        },
        {
          "output_type": "display_data",
          "data": {
            "text/plain": [
              "<IPython.core.display.Javascript object>"
            ],
            "application/javascript": [
              "download(\"download_94400782-f947-417e-9e10-ed0ba0019b91\", \"example_mod_final.csv\", 2113742)"
            ]
          },
          "metadata": {}
        },
        {
          "output_type": "display_data",
          "data": {
            "text/plain": [
              "<IPython.core.display.Javascript object>"
            ],
            "application/javascript": [
              "\n",
              "    async function download(id, filename, size) {\n",
              "      if (!google.colab.kernel.accessAllowed) {\n",
              "        return;\n",
              "      }\n",
              "      const div = document.createElement('div');\n",
              "      const label = document.createElement('label');\n",
              "      label.textContent = `Downloading \"${filename}\": `;\n",
              "      div.appendChild(label);\n",
              "      const progress = document.createElement('progress');\n",
              "      progress.max = size;\n",
              "      div.appendChild(progress);\n",
              "      document.body.appendChild(div);\n",
              "\n",
              "      const buffers = [];\n",
              "      let downloaded = 0;\n",
              "\n",
              "      const channel = await google.colab.kernel.comms.open(id);\n",
              "      // Send a message to notify the kernel that we're ready.\n",
              "      channel.send({})\n",
              "\n",
              "      for await (const message of channel.messages) {\n",
              "        // Send a message to notify the kernel that we're ready.\n",
              "        channel.send({})\n",
              "        if (message.buffers) {\n",
              "          for (const buffer of message.buffers) {\n",
              "            buffers.push(buffer);\n",
              "            downloaded += buffer.byteLength;\n",
              "            progress.value = downloaded;\n",
              "          }\n",
              "        }\n",
              "      }\n",
              "      const blob = new Blob(buffers, {type: 'application/binary'});\n",
              "      const a = document.createElement('a');\n",
              "      a.href = window.URL.createObjectURL(blob);\n",
              "      a.download = filename;\n",
              "      div.appendChild(a);\n",
              "      a.click();\n",
              "      div.remove();\n",
              "    }\n",
              "  "
            ]
          },
          "metadata": {}
        },
        {
          "output_type": "display_data",
          "data": {
            "text/plain": [
              "<IPython.core.display.Javascript object>"
            ],
            "application/javascript": [
              "download(\"download_2df756b4-26fb-49bb-8292-1d6b393e8eec\", \"example_mod_final.csv\", 2130656)"
            ]
          },
          "metadata": {}
        }
      ]
    },
    {
      "cell_type": "code",
      "source": [
        "import pandas as pd\n",
        "df = pd.read_csv('name_prism (9).csv')\n",
        "# Define columns to be deleted\n",
        "columns_to_delete = ['genderize', 'opencv', 'opencv_pred', 'genderize_pred']\n",
        "\n",
        "# Delete the columns\n",
        "df = df.drop(columns_to_delete, axis=1, errors='ignore')\n",
        "df.to_csv('name_prisma.csv', index=False)\n",
        "\n",
        "# Download the new CSV file\n",
        "files.download('name_prisma.csv')"
      ],
      "metadata": {
        "colab": {
          "base_uri": "https://localhost:8080/",
          "height": 17
        },
        "id": "VxMuowEVh2oe",
        "outputId": "9440f45c-8faa-490e-c7a2-1cc5265a308c"
      },
      "execution_count": null,
      "outputs": [
        {
          "output_type": "display_data",
          "data": {
            "text/plain": [
              "<IPython.core.display.Javascript object>"
            ],
            "application/javascript": [
              "\n",
              "    async function download(id, filename, size) {\n",
              "      if (!google.colab.kernel.accessAllowed) {\n",
              "        return;\n",
              "      }\n",
              "      const div = document.createElement('div');\n",
              "      const label = document.createElement('label');\n",
              "      label.textContent = `Downloading \"${filename}\": `;\n",
              "      div.appendChild(label);\n",
              "      const progress = document.createElement('progress');\n",
              "      progress.max = size;\n",
              "      div.appendChild(progress);\n",
              "      document.body.appendChild(div);\n",
              "\n",
              "      const buffers = [];\n",
              "      let downloaded = 0;\n",
              "\n",
              "      const channel = await google.colab.kernel.comms.open(id);\n",
              "      // Send a message to notify the kernel that we're ready.\n",
              "      channel.send({})\n",
              "\n",
              "      for await (const message of channel.messages) {\n",
              "        // Send a message to notify the kernel that we're ready.\n",
              "        channel.send({})\n",
              "        if (message.buffers) {\n",
              "          for (const buffer of message.buffers) {\n",
              "            buffers.push(buffer);\n",
              "            downloaded += buffer.byteLength;\n",
              "            progress.value = downloaded;\n",
              "          }\n",
              "        }\n",
              "      }\n",
              "      const blob = new Blob(buffers, {type: 'application/binary'});\n",
              "      const a = document.createElement('a');\n",
              "      a.href = window.URL.createObjectURL(blob);\n",
              "      a.download = filename;\n",
              "      div.appendChild(a);\n",
              "      a.click();\n",
              "      div.remove();\n",
              "    }\n",
              "  "
            ]
          },
          "metadata": {}
        },
        {
          "output_type": "display_data",
          "data": {
            "text/plain": [
              "<IPython.core.display.Javascript object>"
            ],
            "application/javascript": [
              "download(\"download_e5d28b21-8929-4cad-b0c8-c7ab90d982e5\", \"name_prisma.csv\", 2854073)"
            ]
          },
          "metadata": {}
        }
      ]
    },
    {
      "cell_type": "code",
      "source": [
        "# Read the CSV file into a DataFrame\n",
        "df = pd.read_csv('name_prism (9).csv')\n",
        "# Define columns to be deleted\n",
        "columns_to_delete = ['genderize', 'opencv', 'opencv_pred', 'genderize_pred']\n",
        "\n",
        "# Delete the columns\n",
        "df = df.drop(columns_to_delete, axis=1, errors='ignore')\n",
        "\n",
        "# Define columns for each detailed ethnicity if they do not exist\n",
        "detailed_ethnicities = [\n",
        "    'European-SouthSlavs', 'Muslim-Pakistanis-Bangladesh', 'European-Italian-Italy',\n",
        "    'European-Baltics', 'African-SouthAfrican', 'European-Italian-Romania',\n",
        "    'Muslim-Nubian', 'European-French', 'EastAsian-Indochina-Thailand',\n",
        "    'EastAsian-Indochina-Vietnam', 'Jewish', 'Muslim-Turkic-CentralAsian',\n",
        "    'EastAsian-Indochina-Cambodia', 'Nordic-Scandinavian-Denmark',\n",
        "    'EastAsian-Indochina-Myanmar', 'Nordic-Finland', 'Muslim-Persian',\n",
        "    'Nordic-Scandinavian-Sweden', 'Muslim-Maghreb', 'Greek',\n",
        "    'Muslim-Pakistanis-Pakistan', 'Hispanic-Portuguese', 'European-Russian',\n",
        "    'Muslim-ArabianPeninsula', 'African-WestAfrican', 'EastAsian-Japan',\n",
        "    'European-German', 'EastAsian-Chinese', 'SouthAsian', 'Hispanic-Spanish',\n",
        "    'Nordic-Scandinavian-Norway', 'Muslim-Turkic-Turkey', 'Hispanic-Philippines',\n",
        "    'CelticEnglish', 'EastAsian-Malay-Malaysia', 'EastAsian-South Korea',\n",
        "    'African-EastAfrican', 'European-EastEuropean', 'EastAsian-Malay-Indonesia'\n",
        "]\n",
        "for ethnicity in detailed_ethnicities:\n",
        "    if ethnicity not in df.columns:\n",
        "        df[ethnicity] = None\n",
        "\n",
        "# Iterate over each row in the DataFrame\n",
        "for i, row in df.iterrows():\n",
        "    # Skip if this row is already classified\n",
        "    if not pd.isnull(row[detailed_ethnicities[0]]):  # Just check the first column for simplicity\n",
        "        continue\n",
        "\n",
        "    name = row['name']\n",
        "    time.sleep(0.72)\n",
        "    response = requests.get(f'https://www.name-prism.com/api_token/nat/csv/b354822c882cae33/{name}')\n",
        "    if((i%500 == 0) & (i!=0)):\n",
        "      # Save the DataFrame back to the CSV file\n",
        "      df.to_csv('name_prism.csv', index=False)\n",
        "      # Download the new CSV file\n",
        "      files.download('name_prism.csv')\n",
        "      time.sleep(3)\n",
        "\n",
        "    # Check if the request was successful\n",
        "    if response.status_code == 200:\n",
        "        csv_content = csv.reader(io.StringIO(response.text))\n",
        "\n",
        "        for row in csv_content:\n",
        "            # Get the ethnicity and probability\n",
        "            ethnicity, probability = row[0], float(row[1])\n",
        "\n",
        "            # Check if this ethnicity exists in the DataFrame\n",
        "            if ethnicity in df.columns:\n",
        "                df.loc[i, ethnicity] = probability\n",
        "\n",
        "# Save the DataFrame back to the CSV file\n",
        "df.to_csv('name_prism_final.csv', index=False)\n",
        "\n",
        "# Download the new CSV file\n",
        "files.download('name_prism_final.csv')\n"
      ],
      "metadata": {
        "colab": {
          "base_uri": "https://localhost:8080/",
          "height": 17
        },
        "id": "-CU80Ex1MQn-",
        "outputId": "fc22b41b-4f0c-4d97-958f-189d73cd83e1"
      },
      "execution_count": null,
      "outputs": [
        {
          "output_type": "display_data",
          "data": {
            "text/plain": [
              "<IPython.core.display.Javascript object>"
            ],
            "application/javascript": [
              "\n",
              "    async function download(id, filename, size) {\n",
              "      if (!google.colab.kernel.accessAllowed) {\n",
              "        return;\n",
              "      }\n",
              "      const div = document.createElement('div');\n",
              "      const label = document.createElement('label');\n",
              "      label.textContent = `Downloading \"${filename}\": `;\n",
              "      div.appendChild(label);\n",
              "      const progress = document.createElement('progress');\n",
              "      progress.max = size;\n",
              "      div.appendChild(progress);\n",
              "      document.body.appendChild(div);\n",
              "\n",
              "      const buffers = [];\n",
              "      let downloaded = 0;\n",
              "\n",
              "      const channel = await google.colab.kernel.comms.open(id);\n",
              "      // Send a message to notify the kernel that we're ready.\n",
              "      channel.send({})\n",
              "\n",
              "      for await (const message of channel.messages) {\n",
              "        // Send a message to notify the kernel that we're ready.\n",
              "        channel.send({})\n",
              "        if (message.buffers) {\n",
              "          for (const buffer of message.buffers) {\n",
              "            buffers.push(buffer);\n",
              "            downloaded += buffer.byteLength;\n",
              "            progress.value = downloaded;\n",
              "          }\n",
              "        }\n",
              "      }\n",
              "      const blob = new Blob(buffers, {type: 'application/binary'});\n",
              "      const a = document.createElement('a');\n",
              "      a.href = window.URL.createObjectURL(blob);\n",
              "      a.download = filename;\n",
              "      div.appendChild(a);\n",
              "      a.click();\n",
              "      div.remove();\n",
              "    }\n",
              "  "
            ]
          },
          "metadata": {}
        },
        {
          "output_type": "display_data",
          "data": {
            "text/plain": [
              "<IPython.core.display.Javascript object>"
            ],
            "application/javascript": [
              "download(\"download_2f240010-7b58-4305-b0a1-e9d16ad9e697\", \"name_prism.csv\", 2854073)"
            ]
          },
          "metadata": {}
        },
        {
          "output_type": "display_data",
          "data": {
            "text/plain": [
              "<IPython.core.display.Javascript object>"
            ],
            "application/javascript": [
              "\n",
              "    async function download(id, filename, size) {\n",
              "      if (!google.colab.kernel.accessAllowed) {\n",
              "        return;\n",
              "      }\n",
              "      const div = document.createElement('div');\n",
              "      const label = document.createElement('label');\n",
              "      label.textContent = `Downloading \"${filename}\": `;\n",
              "      div.appendChild(label);\n",
              "      const progress = document.createElement('progress');\n",
              "      progress.max = size;\n",
              "      div.appendChild(progress);\n",
              "      document.body.appendChild(div);\n",
              "\n",
              "      const buffers = [];\n",
              "      let downloaded = 0;\n",
              "\n",
              "      const channel = await google.colab.kernel.comms.open(id);\n",
              "      // Send a message to notify the kernel that we're ready.\n",
              "      channel.send({})\n",
              "\n",
              "      for await (const message of channel.messages) {\n",
              "        // Send a message to notify the kernel that we're ready.\n",
              "        channel.send({})\n",
              "        if (message.buffers) {\n",
              "          for (const buffer of message.buffers) {\n",
              "            buffers.push(buffer);\n",
              "            downloaded += buffer.byteLength;\n",
              "            progress.value = downloaded;\n",
              "          }\n",
              "        }\n",
              "      }\n",
              "      const blob = new Blob(buffers, {type: 'application/binary'});\n",
              "      const a = document.createElement('a');\n",
              "      a.href = window.URL.createObjectURL(blob);\n",
              "      a.download = filename;\n",
              "      div.appendChild(a);\n",
              "      a.click();\n",
              "      div.remove();\n",
              "    }\n",
              "  "
            ]
          },
          "metadata": {}
        },
        {
          "output_type": "display_data",
          "data": {
            "text/plain": [
              "<IPython.core.display.Javascript object>"
            ],
            "application/javascript": [
              "download(\"download_07f74e70-e73f-40b9-a8d2-93e4862042ad\", \"name_prism_final.csv\", 2940909)"
            ]
          },
          "metadata": {}
        }
      ]
    },
    {
      "cell_type": "code",
      "source": [
        "# Define the lower and upper bounds\n",
        "lower_bound = 0.98\n",
        "upper_bound = 1.02\n",
        "\n",
        "# Calculate the sum of probabilities for each row\n",
        "sums = df[detailed_ethnicities].sum(axis=1)\n",
        "\n",
        "# Count the number of rows where the sum is between the bounds\n",
        "count = ((sums > lower_bound) & (sums < upper_bound)).sum()\n",
        "# Calculate the total number of rows\n",
        "total_rows = df.shape[0]\n",
        "\n",
        "# Calculate the percentage of rows that fall within the specified range\n",
        "percentage = (count / total_rows) * 100\n",
        "\n",
        "print(f\"Total number of rows: {total_rows}\")\n",
        "print(f\"Number of rows with sum of probabilities between {lower_bound} and {upper_bound}: {count}\")\n",
        "print(f\"Percentage of rows within range: {percentage:.2f}%\")\n"
      ],
      "metadata": {
        "colab": {
          "base_uri": "https://localhost:8080/"
        },
        "id": "-ytPHSp2s9Wt",
        "outputId": "b19e1642-5aa2-4fa8-d45e-f2e7797fe6f6"
      },
      "execution_count": null,
      "outputs": [
        {
          "output_type": "stream",
          "name": "stdout",
          "text": [
            "Total number of rows: 9498\n",
            "Number of rows with sum of probabilities between 0.98 and 1.02: 9498\n",
            "Percentage of rows within range: 100.00%\n"
          ]
        }
      ]
    },
    {
      "cell_type": "code",
      "source": [
        "response = requests.get(f'https://www.name-prism.com/api_token/nat/csv/b354822c882cae33/Aziz')\n",
        "csv_content = csv.reader(io.StringIO(response.text))\n",
        "for row in csv_content:\n",
        "            # Get the ethnicity and probability\n",
        "            ethnicity, probability = row[0], float(row[1])\n",
        "            print(ethnicity)"
      ],
      "metadata": {
        "colab": {
          "base_uri": "https://localhost:8080/"
        },
        "id": "Vo6R5omiCTge",
        "outputId": "f56bdcfe-8fcf-40e1-dc82-a4a3757a1762"
      },
      "execution_count": null,
      "outputs": [
        {
          "output_type": "stream",
          "name": "stdout",
          "text": [
            "European-SouthSlavs\n",
            "Muslim-Pakistanis-Bangladesh\n",
            "European-Italian-Italy\n",
            "European-Baltics\n",
            "African-SouthAfrican\n",
            "European-Italian-Romania\n",
            "Muslim-Nubian\n",
            "European-French\n",
            "EastAsian-Indochina-Thailand\n",
            "EastAsian-Indochina-Vietnam\n",
            "Jewish\n",
            "Muslim-Turkic-CentralAsian\n",
            "EastAsian-Indochina-Cambodia\n",
            "Nordic-Scandinavian-Denmark\n",
            "EastAsian-Indochina-Myanmar\n",
            "Nordic-Finland\n",
            "Muslim-Persian\n",
            "Nordic-Scandinavian-Sweden\n",
            "Muslim-Maghreb\n",
            "Greek\n",
            "Muslim-Pakistanis-Pakistan\n",
            "Hispanic-Portuguese\n",
            "European-Russian\n",
            "Muslim-ArabianPeninsula\n",
            "African-WestAfrican\n",
            "EastAsian-Japan\n",
            "European-German\n",
            "EastAsian-Chinese\n",
            "SouthAsian\n",
            "Hispanic-Spanish\n",
            "Nordic-Scandinavian-Norway\n",
            "Muslim-Turkic-Turkey\n",
            "Hispanic-Philippines\n",
            "CelticEnglish\n",
            "EastAsian-Malay-Malaysia\n",
            "EastAsian-South Korea\n",
            "African-EastAfrican\n",
            "European-EastEuropean\n",
            "EastAsian-Malay-Indonesia\n"
          ]
        }
      ]
    },
    {
      "cell_type": "code",
      "source": [
        "\n",
        "\n",
        "# Define mapping from detailed to broader categories\n",
        "ethnicity_mapping = {\n",
        "    'Asian': ['EastAsian'],\n",
        "    'Black': ['African'],\n",
        "    'Hispanic/Latino': ['Hispanic'],\n",
        "    'Middle Eastern/North African': ['Muslim'],\n",
        "    'White': ['European', 'CelticEnglish', 'Nordic', 'Greek', 'Jewish']\n",
        "}\n",
        "\n",
        "# Read the CSV file into a DataFrame\n",
        "df = pd.read_csv('example.csv')\n",
        "\n",
        "# If the 'Name Prism Label' and 'Name Prism Trust' columns don't exist, create them\n",
        "if 'Name Prism Label' not in df.columns:\n",
        "    df['Name Prism Label'] = None\n",
        "if 'Name Prism Trust' not in df.columns:\n",
        "    df['Name Prism Trust'] = None\n",
        "\n",
        "# Create a dictionary to map ethnicities to their corresponding numbers\n",
        "ethnicity_number_mapping = {\n",
        "    'Asian': 1,\n",
        "    'Black': 2,\n",
        "    'Hispanic/Latino': 3,\n",
        "    'Middle Eastern/North African': 4,\n",
        "    'White': 5\n",
        "}\n",
        "\n",
        "# Number of names to process\n",
        "num_names = 120\n",
        "\n",
        "# Iterate over each row in the DataFrame\n",
        "for i, row in df.iterrows():\n",
        "    if i >= num_names:\n",
        "        break\n",
        "\n",
        "    name = row['name']\n",
        "    time.sleep(0.8)\n",
        "    response = requests.get(f'https://www.name-prism.com/api_token/nat/csv/b354822c882cae33/{name}')\n",
        "\n",
        "    # Check if the request was successful\n",
        "    if response.status_code == 200:\n",
        "        # Prepare a dictionary to store probabilities\n",
        "        probabilities = {\n",
        "            'Asian': 0.0,\n",
        "            'Black': 0.0,\n",
        "            'Hispanic/Latino': 0.0,\n",
        "            'Middle Eastern/North African': 0.0,\n",
        "            'White': 0.0\n",
        "        }\n",
        "\n",
        "        csv_content = csv.reader(io.StringIO(response.text))\n",
        "\n",
        "        for row in csv_content:\n",
        "            # Get the ethnicity and probability\n",
        "            ethnicity, probability = row[0], float(row[1])\n",
        "\n",
        "            # Map the detailed ethnicity to the broader groups\n",
        "            for broad_group, details in ethnicity_mapping.items():\n",
        "                if any(detail in ethnicity for detail in details):\n",
        "                    probabilities[broad_group] += probability\n",
        "\n",
        "        # Sort by probability in descending order\n",
        "        sorted_probabilities = sorted(probabilities.items(), key=lambda x: x[1], reverse=True)\n",
        "\n",
        "        # Get the top ethnicity and its corresponding probability\n",
        "        top_ethnicity, top_probability = sorted_probabilities[0]\n",
        "\n",
        "        # Update the 'Name Prism Label' and 'Name Prism Trust' columns\n",
        "        df.loc[i, 'Name Prism Label'] = ethnicity_number_mapping[top_ethnicity]\n",
        "        df.loc[i, 'Name Prism Trust'] = int(top_probability >= 0.5)\n",
        "\n",
        "# Save the DataFrame back to the CSV file\n",
        "df.to_csv('example_mod.csv', index=False)\n",
        "\n",
        "\n",
        "# Download the new CSV file\n",
        "files.download('example_mod.csv')"
      ],
      "metadata": {
        "colab": {
          "base_uri": "https://localhost:8080/",
          "height": 17
        },
        "id": "cy7tjMw068P9",
        "outputId": "dcbaada3-7372-44a2-ce09-3959106d1f24"
      },
      "execution_count": null,
      "outputs": [
        {
          "output_type": "display_data",
          "data": {
            "text/plain": [
              "<IPython.core.display.Javascript object>"
            ],
            "application/javascript": [
              "\n",
              "    async function download(id, filename, size) {\n",
              "      if (!google.colab.kernel.accessAllowed) {\n",
              "        return;\n",
              "      }\n",
              "      const div = document.createElement('div');\n",
              "      const label = document.createElement('label');\n",
              "      label.textContent = `Downloading \"${filename}\": `;\n",
              "      div.appendChild(label);\n",
              "      const progress = document.createElement('progress');\n",
              "      progress.max = size;\n",
              "      div.appendChild(progress);\n",
              "      document.body.appendChild(div);\n",
              "\n",
              "      const buffers = [];\n",
              "      let downloaded = 0;\n",
              "\n",
              "      const channel = await google.colab.kernel.comms.open(id);\n",
              "      // Send a message to notify the kernel that we're ready.\n",
              "      channel.send({})\n",
              "\n",
              "      for await (const message of channel.messages) {\n",
              "        // Send a message to notify the kernel that we're ready.\n",
              "        channel.send({})\n",
              "        if (message.buffers) {\n",
              "          for (const buffer of message.buffers) {\n",
              "            buffers.push(buffer);\n",
              "            downloaded += buffer.byteLength;\n",
              "            progress.value = downloaded;\n",
              "          }\n",
              "        }\n",
              "      }\n",
              "      const blob = new Blob(buffers, {type: 'application/binary'});\n",
              "      const a = document.createElement('a');\n",
              "      a.href = window.URL.createObjectURL(blob);\n",
              "      a.download = filename;\n",
              "      div.appendChild(a);\n",
              "      a.click();\n",
              "      div.remove();\n",
              "    }\n",
              "  "
            ]
          },
          "metadata": {}
        },
        {
          "output_type": "display_data",
          "data": {
            "text/plain": [
              "<IPython.core.display.Javascript object>"
            ],
            "application/javascript": [
              "download(\"download_ccf9c997-6b23-4971-b056-635d9a746e3a\", \"example_mod.csv\", 205653)"
            ]
          },
          "metadata": {}
        }
      ]
    },
    {
      "cell_type": "markdown",
      "source": [
        "# Deepface"
      ],
      "metadata": {
        "id": "D7MMF-vFQasI"
      }
    },
    {
      "cell_type": "code",
      "source": [
        "prediction = DeepFace.analyze(\"download (24).png\",enforce_detection = 0,actions = ['race'])\n",
        "prediction"
      ],
      "metadata": {
        "id": "nMvbP083T5y5",
        "colab": {
          "base_uri": "https://localhost:8080/"
        },
        "outputId": "88db0989-3839-4e55-a7ed-995df21cad7e"
      },
      "execution_count": null,
      "outputs": [
        {
          "output_type": "execute_result",
          "data": {
            "text/plain": [
              "[]"
            ]
          },
          "metadata": {},
          "execution_count": 9
        }
      ]
    },
    {
      "cell_type": "code",
      "source": [
        "# Read the CSV file into a DataFrame\n",
        "df = pd.read_csv('example_mod_final2 (9).csv')\n",
        "columns_to_delete = ['genderize', 'opencv', 'opencv_pred', 'genderize_pred']\n",
        "# Delete the columns\n",
        "df = df.drop(columns_to_delete, axis=1, errors='ignore')\n",
        "\n",
        "# Define all the races we'll be dealing with\n",
        "races = ['asian', 'indian', 'black', 'white', 'middle eastern', 'latino hispanic']\n",
        "\n",
        "# Create new columns for the probabilities of each race for the first and second face\n",
        "\n",
        "# Create an invalid column\n",
        "if 'invalid' not in df.columns:\n",
        "  for race in races:\n",
        "    df[f'deepface_{race}'] = None\n",
        "\n",
        "  for race in races:\n",
        "    df[f'deepface_{race}2'] = None\n",
        "\n",
        "  df['invalid'] = 0\n",
        "\n",
        "# Iterate over each row in the DataFrame\n",
        "for i, row in df.iterrows():\n",
        "\n",
        "    if df.loc[i, 'invalid'] != 0 or any(pd.notna(row[f'deepface_{race}']) for race in races):\n",
        "        continue\n",
        "    image_path = row['image']\n",
        "\n",
        "    # Get the DeepFace analysis for the image\n",
        "    obj = DeepFace.analyze(img_path=image_path, enforce_detection = 0, actions=['race'], silent = 1)\n",
        "\n",
        "    # If no faces were detected or 3 or more faces were detected, mark as invalid and continue\n",
        "    if len(obj) == 0:\n",
        "        df.loc[i, 'invalid'] = 3\n",
        "        continue\n",
        "    elif len(obj) >= 3:\n",
        "        df.loc[i, 'invalid'] = 2\n",
        "        continue\n",
        "    elif len(obj) ==2:\n",
        "        df.loc[i, 'invalid'] = 1\n",
        "\n",
        "    for j, face in enumerate(obj):\n",
        "        # We only want to deal with the first 2 faces\n",
        "        if j > 1:\n",
        "            break\n",
        "        for race in races:\n",
        "            column_name = f'deepface_{race}' if j == 0 else f'deepface_{race}2'\n",
        "            df.loc[i, column_name] = face['race'][race]\n",
        "\n",
        "    if (i%500 == 0) and (i !=0 ):\n",
        "        print(i)\n",
        "        # Save the DataFrame back to the CSV file\n",
        "        df.to_csv('example_mod_final2.csv', index=False)\n",
        "        # Download the new CSV file\n",
        "        files.download('example_mod_final2.csv')\n",
        "        time.sleep(10)\n",
        "\n",
        "# Save the DataFrame back to the CSV file\n",
        "df.to_csv('deepface_mods_final.csv', index=False)\n",
        "\n",
        "# Download the new CSV file\n",
        "files.download('deepface_mods_final.csv')\n"
      ],
      "metadata": {
        "colab": {
          "base_uri": "https://localhost:8080/",
          "height": 34
        },
        "id": "Qbiz0rohgQod",
        "outputId": "a643bbe9-283a-4974-cc50-8e426de18db4"
      },
      "execution_count": null,
      "outputs": [
        {
          "output_type": "stream",
          "name": "stdout",
          "text": [
            "9000\n"
          ]
        },
        {
          "output_type": "display_data",
          "data": {
            "text/plain": [
              "<IPython.core.display.Javascript object>"
            ],
            "application/javascript": [
              "\n",
              "    async function download(id, filename, size) {\n",
              "      if (!google.colab.kernel.accessAllowed) {\n",
              "        return;\n",
              "      }\n",
              "      const div = document.createElement('div');\n",
              "      const label = document.createElement('label');\n",
              "      label.textContent = `Downloading \"${filename}\": `;\n",
              "      div.appendChild(label);\n",
              "      const progress = document.createElement('progress');\n",
              "      progress.max = size;\n",
              "      div.appendChild(progress);\n",
              "      document.body.appendChild(div);\n",
              "\n",
              "      const buffers = [];\n",
              "      let downloaded = 0;\n",
              "\n",
              "      const channel = await google.colab.kernel.comms.open(id);\n",
              "      // Send a message to notify the kernel that we're ready.\n",
              "      channel.send({})\n",
              "\n",
              "      for await (const message of channel.messages) {\n",
              "        // Send a message to notify the kernel that we're ready.\n",
              "        channel.send({})\n",
              "        if (message.buffers) {\n",
              "          for (const buffer of message.buffers) {\n",
              "            buffers.push(buffer);\n",
              "            downloaded += buffer.byteLength;\n",
              "            progress.value = downloaded;\n",
              "          }\n",
              "        }\n",
              "      }\n",
              "      const blob = new Blob(buffers, {type: 'application/binary'});\n",
              "      const a = document.createElement('a');\n",
              "      a.href = window.URL.createObjectURL(blob);\n",
              "      a.download = filename;\n",
              "      div.appendChild(a);\n",
              "      a.click();\n",
              "      div.remove();\n",
              "    }\n",
              "  "
            ]
          },
          "metadata": {}
        },
        {
          "output_type": "display_data",
          "data": {
            "text/plain": [
              "<IPython.core.display.Javascript object>"
            ],
            "application/javascript": [
              "download(\"download_e5eae994-f28b-481a-819c-fe387e16a127\", \"example_mod_final2.csv\", 1790687)"
            ]
          },
          "metadata": {}
        },
        {
          "output_type": "display_data",
          "data": {
            "text/plain": [
              "<IPython.core.display.Javascript object>"
            ],
            "application/javascript": [
              "\n",
              "    async function download(id, filename, size) {\n",
              "      if (!google.colab.kernel.accessAllowed) {\n",
              "        return;\n",
              "      }\n",
              "      const div = document.createElement('div');\n",
              "      const label = document.createElement('label');\n",
              "      label.textContent = `Downloading \"${filename}\": `;\n",
              "      div.appendChild(label);\n",
              "      const progress = document.createElement('progress');\n",
              "      progress.max = size;\n",
              "      div.appendChild(progress);\n",
              "      document.body.appendChild(div);\n",
              "\n",
              "      const buffers = [];\n",
              "      let downloaded = 0;\n",
              "\n",
              "      const channel = await google.colab.kernel.comms.open(id);\n",
              "      // Send a message to notify the kernel that we're ready.\n",
              "      channel.send({})\n",
              "\n",
              "      for await (const message of channel.messages) {\n",
              "        // Send a message to notify the kernel that we're ready.\n",
              "        channel.send({})\n",
              "        if (message.buffers) {\n",
              "          for (const buffer of message.buffers) {\n",
              "            buffers.push(buffer);\n",
              "            downloaded += buffer.byteLength;\n",
              "            progress.value = downloaded;\n",
              "          }\n",
              "        }\n",
              "      }\n",
              "      const blob = new Blob(buffers, {type: 'application/binary'});\n",
              "      const a = document.createElement('a');\n",
              "      a.href = window.URL.createObjectURL(blob);\n",
              "      a.download = filename;\n",
              "      div.appendChild(a);\n",
              "      a.click();\n",
              "      div.remove();\n",
              "    }\n",
              "  "
            ]
          },
          "metadata": {}
        },
        {
          "output_type": "display_data",
          "data": {
            "text/plain": [
              "<IPython.core.display.Javascript object>"
            ],
            "application/javascript": [
              "download(\"download_31c6344d-c5d3-45b0-a217-22c232e7234b\", \"deepface_mods_final.csv\", 1834830)"
            ]
          },
          "metadata": {}
        }
      ]
    },
    {
      "cell_type": "code",
      "source": [
        "# Read the CSV file into a DataFrame\n",
        "df = pd.read_csv('deepface_mods_final.csv')\n",
        "\n",
        "# Define all the races we'll be dealing with\n",
        "races = ['asian', 'indian', 'black', 'white', 'middle eastern', 'latino hispanic']\n",
        "\n",
        "# Initialize counters\n",
        "no_face = 0\n",
        "one_face = 0\n",
        "one_face_correct = 0\n",
        "two_faces = 0\n",
        "two_faces_correct = 0\n",
        "three_or_more_faces = 0\n",
        "\n",
        "# Iterate over each row in the DataFrame\n",
        "for i, row in df.iterrows():\n",
        "    if row['invalid'] == 3:\n",
        "        no_face += 1\n",
        "    elif row['invalid'] == 2:\n",
        "        three_or_more_faces += 1\n",
        "    elif pd.isna(row['deepface_asian2']):\n",
        "        one_face += 1\n",
        "        face_sum = sum(row[f'deepface_{race}'] for race in races)\n",
        "        if 99.5 <= face_sum <= 100.5:\n",
        "            one_face_correct += 1\n",
        "    else:\n",
        "        two_faces += 1\n",
        "        face1_sum = sum(row[f'deepface_{race}'] for race in races)\n",
        "        face2_sum = sum(row[f'deepface_{race}2'] for race in races)\n",
        "        if 99.5 <= face1_sum <= 100.5 and 99.5 <= face2_sum <= 100.5:\n",
        "            two_faces_correct += 1\n",
        "\n",
        "print(f\"Number of rows where no face was detected: {no_face}\")\n",
        "print(f\"Number of rows where 1 face was detected: {one_face}\")\n",
        "print(f\"Number of rows where 1 face was detected and the probabilities sum to approximately 1: {one_face_correct}\")\n",
        "print(f\"Number of rows where 2 faces were detected: {two_faces}\")\n",
        "print(f\"Number of rows where 2 faces were detected and the probabilities for both faces sum to approximately 1: {two_faces_correct}\")\n",
        "print(f\"Number of rows where 3 or more faces were detected: {three_or_more_faces}\")\n"
      ],
      "metadata": {
        "colab": {
          "base_uri": "https://localhost:8080/"
        },
        "id": "GC7Qkfs1Vyw_",
        "outputId": "013957be-8315-486f-a91b-e059e12452ac"
      },
      "execution_count": null,
      "outputs": [
        {
          "output_type": "stream",
          "name": "stdout",
          "text": [
            "Number of rows where no face was detected: 3027\n",
            "Number of rows where 1 face was detected: 4996\n",
            "Number of rows where 1 face was detected and the probabilities sum to approximately 1: 4996\n",
            "Number of rows where 2 faces were detected: 1135\n",
            "Number of rows where 2 faces were detected and the probabilities for both faces sum to approximately 1: 1135\n",
            "Number of rows where 3 or more faces were detected: 340\n"
          ]
        }
      ]
    },
    {
      "cell_type": "code",
      "source": [
        "# Load the CSV file\n",
        "df = pd.read_csv('merged_final.csv')\n",
        "\n",
        "# Add a new column \"true_number\" filled with -1\n",
        "if 'true_number' not in df.columns:\n",
        "    df['true_number'] = -1\n",
        "\n",
        "counter = df[df['true_number'] != -1].shape[0]\n",
        "\n",
        "# Iterate over each row\n",
        "for i, row in df.iterrows():\n",
        "    if (row['true_number'] == -1 and row['invalid'] != 1): # If the true number is -1\n",
        "        try:\n",
        "            print('Predicted =', row['invalid'])\n",
        "            print('Label counter: ',counter)\n",
        "            # Open and display the image from the URL\n",
        "            with urlopen(row['image']) as url:\n",
        "                with open('temp.jpg', 'wb') as f:\n",
        "                    f.write(url.read())\n",
        "                img = Image.open('temp.jpg')\n",
        "                # Resize the image to 50%\n",
        "                img = img.resize((img.width // 2, img.height // 2))\n",
        "                display.display(img)\n",
        "\n",
        "            # Ask for your input\n",
        "            time.sleep(1)\n",
        "            print(\"Label Guide: 0: 0 faces | 1: 1 face | 2: 2 faces | 3: 3 or more faces\")\n",
        "            true_number = input(\"Enter the true number of faces: \")\n",
        "            # Check if the input is 'exit'\n",
        "            if true_number.lower() == 'exit':\n",
        "                # Stop the loop\n",
        "                break\n",
        "            # Save the input to the DataFrame\n",
        "            df.loc[i, 'true_number'] = int(true_number)\n",
        "\n",
        "        except:\n",
        "            print(\"Could not load image\")\n",
        "        finally:\n",
        "            # Clear the output\n",
        "            display.clear_output(wait=True)\n",
        "            counter += 1\n",
        "\n",
        "# Save the DataFrame to a new CSV file\n",
        "df.to_csv('merged_final.csv', index=False)\n",
        "\n",
        "# Download the new CSV file\n",
        "files.download('merged_final.csv')\n"
      ],
      "metadata": {
        "colab": {
          "base_uri": "https://localhost:8080/",
          "height": 17
        },
        "id": "n4jsPaG3XvRn",
        "outputId": "5a4cf506-eb59-49cf-cfe7-3f14dff14651"
      },
      "execution_count": null,
      "outputs": [
        {
          "output_type": "display_data",
          "data": {
            "text/plain": [
              "<IPython.core.display.Javascript object>"
            ],
            "application/javascript": [
              "\n",
              "    async function download(id, filename, size) {\n",
              "      if (!google.colab.kernel.accessAllowed) {\n",
              "        return;\n",
              "      }\n",
              "      const div = document.createElement('div');\n",
              "      const label = document.createElement('label');\n",
              "      label.textContent = `Downloading \"${filename}\": `;\n",
              "      div.appendChild(label);\n",
              "      const progress = document.createElement('progress');\n",
              "      progress.max = size;\n",
              "      div.appendChild(progress);\n",
              "      document.body.appendChild(div);\n",
              "\n",
              "      const buffers = [];\n",
              "      let downloaded = 0;\n",
              "\n",
              "      const channel = await google.colab.kernel.comms.open(id);\n",
              "      // Send a message to notify the kernel that we're ready.\n",
              "      channel.send({})\n",
              "\n",
              "      for await (const message of channel.messages) {\n",
              "        // Send a message to notify the kernel that we're ready.\n",
              "        channel.send({})\n",
              "        if (message.buffers) {\n",
              "          for (const buffer of message.buffers) {\n",
              "            buffers.push(buffer);\n",
              "            downloaded += buffer.byteLength;\n",
              "            progress.value = downloaded;\n",
              "          }\n",
              "        }\n",
              "      }\n",
              "      const blob = new Blob(buffers, {type: 'application/binary'});\n",
              "      const a = document.createElement('a');\n",
              "      a.href = window.URL.createObjectURL(blob);\n",
              "      a.download = filename;\n",
              "      div.appendChild(a);\n",
              "      a.click();\n",
              "      div.remove();\n",
              "    }\n",
              "  "
            ]
          },
          "metadata": {}
        },
        {
          "output_type": "display_data",
          "data": {
            "text/plain": [
              "<IPython.core.display.Javascript object>"
            ],
            "application/javascript": [
              "download(\"download_c02e8707-666f-44a2-abed-a829fa044962\", \"merged_final.csv\", 3910339)"
            ]
          },
          "metadata": {}
        }
      ]
    },
    {
      "cell_type": "code",
      "source": [
        "# Load the CSV file\n",
        "df = pd.read_csv('deepface_mod_label.csv')\n",
        "\n",
        "# Filter rows that have been labelled\n",
        "df = df[df['true_number'] != -1]\n",
        "\n",
        "# Create a mapping for the 'invalid' column\n",
        "invalid_mapping = {0: 1, 1: 2, 2: 3, 3: 0}\n",
        "\n",
        "# Create a new column 'deepface_number' to map 'invalid' to the actual number of faces\n",
        "df['deepface_number'] = df['invalid'].map(invalid_mapping)\n",
        "\n",
        "# Calculate the accuracy for each category\n",
        "accuracy_0 = sum(df[df['true_number'] == 0]['deepface_number'] == df[df['true_number'] == 0]['true_number']) / len(df[df['true_number'] == 0])\n",
        "accuracy_2 = sum(df[df['true_number'] == 2]['deepface_number'] == df[df['true_number'] == 2]['true_number']) / len(df[df['true_number'] == 2])\n",
        "accuracy_3 = sum(df[df['true_number'] == 3]['deepface_number'] == df[df['true_number'] == 3]['true_number']) / len(df[df['true_number'] == 3])\n",
        "\n",
        "# Print the accuracy for each category\n",
        "print(f'Accuracy for 0 faces: {accuracy_0 * 100}%')\n",
        "print(f'Accuracy for 2 faces: {accuracy_2 * 100}%')\n",
        "print(f'Accuracy for 3 or more faces: {accuracy_3 * 100}%')\n"
      ],
      "metadata": {
        "colab": {
          "base_uri": "https://localhost:8080/"
        },
        "id": "Ap37NkJSe3cj",
        "outputId": "2d720683-f5a3-447d-fa9e-a5a4ca16c7fd"
      },
      "execution_count": null,
      "outputs": [
        {
          "output_type": "stream",
          "name": "stdout",
          "text": [
            "Accuracy for 0 faces: 100.0%\n",
            "Accuracy for 2 faces: 39.130434782608695%\n",
            "Accuracy for 3 or more faces: 38.88888888888889%\n"
          ]
        }
      ]
    },
    {
      "cell_type": "code",
      "source": [
        "# Load the CSV file\n",
        "df = pd.read_csv('deepface_mod_label.csv')\n",
        "\n",
        "# Filter rows that have been labelled\n",
        "df = df[df['true_number'] != -1]\n",
        "\n",
        "# Create a mapping for the 'invalid' column\n",
        "invalid_mapping = {0: 1, 1: 2, 2: 3, 3: 0}\n",
        "\n",
        "# Create a new column 'deepface_number' to map 'invalid' to the actual number of faces\n",
        "df['deepface_number'] = df['invalid'].map(invalid_mapping)\n",
        "\n",
        "# Calculate the accuracy for each category\n",
        "accuracy_true_0 = sum(df[df['true_number'] == 0]['deepface_number'] == df[df['true_number'] == 0]['true_number']) / len(df[df['true_number'] == 0])\n",
        "accuracy_true_2 = sum(df[df['true_number'] == 2]['deepface_number'] == df[df['true_number'] == 2]['true_number']) / len(df[df['true_number'] == 2])\n",
        "accuracy_true_3 = sum(df[df['true_number'] == 3]['deepface_number'] == df[df['true_number'] == 3]['true_number']) / len(df[df['true_number'] == 3])\n",
        "\n",
        "accuracy_pred_0 = sum(df[df['deepface_number'] == 0]['true_number'] == df[df['deepface_number'] == 0]['deepface_number']) / len(df[df['deepface_number'] == 0])\n",
        "accuracy_pred_2 = sum(df[df['deepface_number'] == 2]['true_number'] == df[df['deepface_number'] == 2]['deepface_number']) / len(df[df['deepface_number'] == 2])\n",
        "accuracy_pred_3 = sum(df[df['deepface_number'] == 3]['true_number'] == df[df['deepface_number'] == 3]['deepface_number']) / len(df[df['deepface_number'] == 3])\n",
        "\n",
        "# Print the accuracy for each category\n",
        "print(f'Accuracy for 0 faces (true label): {accuracy_true_0 * 100}%')\n",
        "print(f'Accuracy for 2 faces (true label): {accuracy_true_2 * 100}%')\n",
        "print(f'Accuracy for 3 or more faces (true label): {accuracy_true_3 * 100}%')\n",
        "print()\n",
        "print(f'Accuracy for 0 faces (deepface prediction): {accuracy_pred_0 * 100}%')\n",
        "print(f'Accuracy for 2 faces (deepface prediction): {accuracy_pred_2 * 100}%')\n",
        "print(f'Accuracy for 3 or more faces (deepface prediction): {accuracy_pred_3 * 100}%')\n"
      ],
      "metadata": {
        "colab": {
          "base_uri": "https://localhost:8080/"
        },
        "id": "DA9g86gThkgo",
        "outputId": "2c3a037c-2192-45f3-9f5d-3d4c46e9f2f6"
      },
      "execution_count": null,
      "outputs": [
        {
          "output_type": "stream",
          "name": "stdout",
          "text": [
            "Accuracy for 0 faces (true label): 100.0%\n",
            "Accuracy for 2 faces (true label): 39.130434782608695%\n",
            "Accuracy for 3 or more faces (true label): 38.88888888888889%\n",
            "\n",
            "Accuracy for 0 faces (deepface prediction): 14.184397163120568%\n",
            "Accuracy for 2 faces (deepface prediction): 38.297872340425535%\n",
            "Accuracy for 3 or more faces (deepface prediction): 58.333333333333336%\n"
          ]
        }
      ]
    },
    {
      "cell_type": "markdown",
      "source": [
        "# Analysis\n"
      ],
      "metadata": {
        "id": "6FgZZOXWNv5Y"
      }
    },
    {
      "cell_type": "code",
      "source": [
        "# Read the CSV file into a DataFrame\n",
        "df = pd.read_csv('example_mod_final.csv')\n",
        "\n",
        "# Create the 'NamePrism Check' column\n",
        "df['NamePrism Check'] = None\n",
        "\n",
        "# Iterate over the DataFrame rows\n",
        "for i, row in df.iterrows():\n",
        "    # If the true label is not -1 and is not 8\n",
        "    if row['true_label'] != '-1' and row['true_label'] != '8':\n",
        "        # Split the true labels into a list of integers\n",
        "        true_labels = list(map(int, row['true_label'].split()))\n",
        "\n",
        "        # If the NamePrism label is in the list of true labels\n",
        "        if row['Name Prism Label'] in true_labels:\n",
        "            # Mark the check column as 1\n",
        "            df.loc[i, 'NamePrism Check'] = 1\n",
        "        else:\n",
        "            # Mark the check column as 0\n",
        "            df.loc[i, 'NamePrism Check'] = 0\n",
        "    elif row['true_label'] == '8':\n",
        "        # If the true label is 8, mark the check column as 8\n",
        "        df.loc[i, 'NamePrism Check'] = 8\n",
        "\n",
        "# Save the DataFrame back to the CSV file\n",
        "df.to_csv('example_mod_final.csv', index=False)\n"
      ],
      "metadata": {
        "id": "L2zDqbWCNyDb"
      },
      "execution_count": null,
      "outputs": []
    },
    {
      "cell_type": "code",
      "source": [
        "label_to_ethnicity = {\n",
        "    1: 'Asian',\n",
        "    2: 'Black',\n",
        "    3: 'Latino',\n",
        "    4: 'Middle Eastern/North African',\n",
        "    5: 'White',\n",
        "}\n",
        "\n",
        "# Create a dictionary to store the accuracy for each ethnicity\n",
        "accuracy_per_ethnicity = {}\n",
        "\n",
        "# Iterate over the range of labels (1 to 7)\n",
        "for label, ethnicity in label_to_ethnicity.items():\n",
        "    # Get the rows where NamePrism prediction is the current label\n",
        "    predicted_rows = df[df['Name Prism Label'] == label]\n",
        "\n",
        "    # Calculate how many of these predictions are correct\n",
        "    correct_predictions = sum(predicted_rows['true_label'].apply(lambda x: str(label) in x.split(' ')))\n",
        "\n",
        "    # Calculate the accuracy and store it in the dictionary\n",
        "    accuracy_per_ethnicity[ethnicity] = correct_predictions / len(predicted_rows)\n",
        "\n",
        "# Convert the dictionary to a pandas Series for easier plotting\n",
        "accuracy_series = pd.Series(accuracy_per_ethnicity)\n",
        "\n",
        "# Plot the accuracy for each ethnicity\n",
        "accuracy_series.plot(kind='bar', figsize=(10, 6), rot=45)\n",
        "plt.title('Accuracy of NamePrism for Each Ethnicity')\n",
        "plt.xlabel('Ethnicity')\n",
        "plt.ylabel('Accuracy')\n",
        "plt.show()\n",
        "\n",
        "plt.show()\n"
      ],
      "metadata": {
        "colab": {
          "base_uri": "https://localhost:8080/",
          "height": 701
        },
        "id": "eNBgq8-PPJOe",
        "outputId": "c34fb869-d735-47bc-e580-24d2a522a58e"
      },
      "execution_count": null,
      "outputs": [
        {
          "output_type": "display_data",
          "data": {
            "text/plain": [
              "<Figure size 1000x600 with 1 Axes>"
            ],
            "image/png": "[encoded data removed]"
          },
          "metadata": {}
        }
      ]
    },
    {
      "cell_type": "code",
      "source": [
        "# Read the CSV file into a DataFrame\n",
        "df = pd.read_csv('example_mod_final.csv')\n",
        "\n",
        "# List of all ethnicities\n",
        "ethnicities = [1, 2, 3, 4, 5]\n",
        "\n",
        "# Store accuracy for each ethnicity\n",
        "accuracy_per_ethnicity = {}\n",
        "\n",
        "# For each ethnicity\n",
        "for ethnicity in ethnicities:\n",
        "    # Filter rows where NamePrism Label equals the ethnicity\n",
        "    ethnicity_df = df[df['Name Prism Label'] == ethnicity]\n",
        "\n",
        "    # Calculate accuracy as percentage of correct predictions\n",
        "    correct_predictions = ethnicity_df[ethnicity_df['NamePrism Check'] == 1].shape[0]\n",
        "    total_predictions = ethnicity_df.shape[0]\n",
        "\n",
        "    # In case there are no predictions for this ethnicity, we avoid division by zero\n",
        "    if total_predictions != 0:\n",
        "        accuracy = (correct_predictions / total_predictions) * 100\n",
        "    else:\n",
        "        accuracy = 0\n",
        "\n",
        "    # Store the accuracy\n",
        "    accuracy_per_ethnicity[ethnicity] = accuracy\n",
        "\n",
        "# Convert dictionary to a pandas Series for easy plotting\n",
        "accuracy_series = pd.Series(accuracy_per_ethnicity)\n",
        "\n",
        "# Plot the accuracy for each ethnicity\n",
        "accuracy_series.plot(kind='bar', figsize=(10,6))\n",
        "\n",
        "plt.title('Accuracy of NamePrism predictions for each ethnicity')\n",
        "plt.xlabel('Ethnicity')\n",
        "plt.ylabel('Accuracy (%)')\n",
        "plt.show()\n"
      ],
      "metadata": {
        "colab": {
          "base_uri": "https://localhost:8080/",
          "height": 235
        },
        "id": "917DpMi6RW1U",
        "outputId": "f3af989a-c448-4acc-8b23-0ac743132f1e"
      },
      "execution_count": null,
      "outputs": [
        {
          "output_type": "error",
          "ename": "IndexError",
          "evalue": "ignored",
          "traceback": [
            "\u001b[0;31m---------------------------------------------------------------------------\u001b[0m",
            "\u001b[0;31mIndexError\u001b[0m                                Traceback (most recent call last)",
            "\u001b[0;32m<ipython-input-32-c6040c6b427e>\u001b[0m in \u001b[0;36m<cell line: 11>\u001b[0;34m()\u001b[0m\n\u001b[1;32m     15\u001b[0m     \u001b[0;31m# Calculate accuracy as percentage of correct predictions\u001b[0m\u001b[0;34m\u001b[0m\u001b[0;34m\u001b[0m\u001b[0m\n\u001b[1;32m     16\u001b[0m     \u001b[0mcorrect_predictions\u001b[0m \u001b[0;34m=\u001b[0m \u001b[0methnicity_df\u001b[0m\u001b[0;34m[\u001b[0m\u001b[0methnicity_df\u001b[0m\u001b[0;34m[\u001b[0m\u001b[0;34m'NamePrism Check'\u001b[0m\u001b[0;34m]\u001b[0m \u001b[0;34m==\u001b[0m \u001b[0;36m1\u001b[0m\u001b[0;34m]\u001b[0m\u001b[0;34m.\u001b[0m\u001b[0mshape\u001b[0m\u001b[0;34m[\u001b[0m\u001b[0;36m0\u001b[0m\u001b[0;34m]\u001b[0m\u001b[0;34m\u001b[0m\u001b[0;34m\u001b[0m\u001b[0m\n\u001b[0;32m---> 17\u001b[0;31m     \u001b[0mtotal_predictions\u001b[0m \u001b[0;34m=\u001b[0m \u001b[0methnicity_df\u001b[0m\u001b[0;34m.\u001b[0m\u001b[0mshape\u001b[0m\u001b[0;34m[\u001b[0m\u001b[0methnicity\u001b[0m\u001b[0;34m]\u001b[0m\u001b[0;34m\u001b[0m\u001b[0;34m\u001b[0m\u001b[0m\n\u001b[0m\u001b[1;32m     18\u001b[0m \u001b[0;34m\u001b[0m\u001b[0m\n\u001b[1;32m     19\u001b[0m     \u001b[0;31m# In case there are no predictions for this ethnicity, we avoid division by zero\u001b[0m\u001b[0;34m\u001b[0m\u001b[0;34m\u001b[0m\u001b[0m\n",
            "\u001b[0;31mIndexError\u001b[0m: tuple index out of range"
          ]
        }
      ]
    },
    {
      "cell_type": "code",
      "source": [
        "def transform_label(label):\n",
        "    if '8' in label:\n",
        "        return '8'\n",
        "    elif '5' in label and len(label.split()) == 1:\n",
        "        return '0'\n",
        "    elif '5' in label and len(label.split()) > 1:\n",
        "        return '2'\n",
        "    else:\n",
        "        return '1'\n",
        "\n",
        "# Apply the transformation function to 'true_label' and 'Name Prism Label' columns\n",
        "df['General true_label'] = df['true_label'].apply(transform_label)\n",
        "df['General NamePrism'] = df['Name Prism Label'].apply(transform_label)\n",
        "\n",
        "# Generate 'General NamePrism Check' column\n",
        "df['General NamePrism Check'] = df.apply\n"
      ],
      "metadata": {
        "colab": {
          "base_uri": "https://localhost:8080/",
          "height": 380
        },
        "id": "MxlOxYAebNon",
        "outputId": "d6ab68b8-dada-4d52-c906-a04a9719220f"
      },
      "execution_count": null,
      "outputs": [
        {
          "output_type": "error",
          "ename": "TypeError",
          "evalue": "ignored",
          "traceback": [
            "\u001b[0;31m---------------------------------------------------------------------------\u001b[0m",
            "\u001b[0;31mTypeError\u001b[0m                                 Traceback (most recent call last)",
            "\u001b[0;32m<ipython-input-36-59ddd2285ccc>\u001b[0m in \u001b[0;36m<cell line: 13>\u001b[0;34m()\u001b[0m\n\u001b[1;32m     11\u001b[0m \u001b[0;31m# Apply the transformation function to 'true_label' and 'Name Prism Label' columns\u001b[0m\u001b[0;34m\u001b[0m\u001b[0;34m\u001b[0m\u001b[0m\n\u001b[1;32m     12\u001b[0m \u001b[0mdf\u001b[0m\u001b[0;34m[\u001b[0m\u001b[0;34m'General true_label'\u001b[0m\u001b[0;34m]\u001b[0m \u001b[0;34m=\u001b[0m \u001b[0mdf\u001b[0m\u001b[0;34m[\u001b[0m\u001b[0;34m'true_label'\u001b[0m\u001b[0;34m]\u001b[0m\u001b[0;34m.\u001b[0m\u001b[0mapply\u001b[0m\u001b[0;34m(\u001b[0m\u001b[0mtransform_label\u001b[0m\u001b[0;34m)\u001b[0m\u001b[0;34m\u001b[0m\u001b[0;34m\u001b[0m\u001b[0m\n\u001b[0;32m---> 13\u001b[0;31m \u001b[0mdf\u001b[0m\u001b[0;34m[\u001b[0m\u001b[0;34m'General NamePrism'\u001b[0m\u001b[0;34m]\u001b[0m \u001b[0;34m=\u001b[0m \u001b[0mdf\u001b[0m\u001b[0;34m[\u001b[0m\u001b[0;34m'Name Prism Label'\u001b[0m\u001b[0;34m]\u001b[0m\u001b[0;34m.\u001b[0m\u001b[0mapply\u001b[0m\u001b[0;34m(\u001b[0m\u001b[0mtransform_label\u001b[0m\u001b[0;34m)\u001b[0m\u001b[0;34m\u001b[0m\u001b[0;34m\u001b[0m\u001b[0m\n\u001b[0m\u001b[1;32m     14\u001b[0m \u001b[0;34m\u001b[0m\u001b[0m\n\u001b[1;32m     15\u001b[0m \u001b[0;31m# Generate 'General NamePrism Check' column\u001b[0m\u001b[0;34m\u001b[0m\u001b[0;34m\u001b[0m\u001b[0m\n",
            "\u001b[0;32m/usr/local/lib/python3.10/dist-packages/pandas/core/series.py\u001b[0m in \u001b[0;36mapply\u001b[0;34m(self, func, convert_dtype, args, **kwargs)\u001b[0m\n\u001b[1;32m   4769\u001b[0m         \u001b[0mdtype\u001b[0m\u001b[0;34m:\u001b[0m \u001b[0mfloat64\u001b[0m\u001b[0;34m\u001b[0m\u001b[0;34m\u001b[0m\u001b[0m\n\u001b[1;32m   4770\u001b[0m         \"\"\"\n\u001b[0;32m-> 4771\u001b[0;31m         \u001b[0;32mreturn\u001b[0m \u001b[0mSeriesApply\u001b[0m\u001b[0;34m(\u001b[0m\u001b[0mself\u001b[0m\u001b[0;34m,\u001b[0m \u001b[0mfunc\u001b[0m\u001b[0;34m,\u001b[0m \u001b[0mconvert_dtype\u001b[0m\u001b[0;34m,\u001b[0m \u001b[0margs\u001b[0m\u001b[0;34m,\u001b[0m \u001b[0mkwargs\u001b[0m\u001b[0;34m)\u001b[0m\u001b[0;34m.\u001b[0m\u001b[0mapply\u001b[0m\u001b[0;34m(\u001b[0m\u001b[0;34m)\u001b[0m\u001b[0;34m\u001b[0m\u001b[0;34m\u001b[0m\u001b[0m\n\u001b[0m\u001b[1;32m   4772\u001b[0m \u001b[0;34m\u001b[0m\u001b[0m\n\u001b[1;32m   4773\u001b[0m     def _reduce(\n",
            "\u001b[0;32m/usr/local/lib/python3.10/dist-packages/pandas/core/apply.py\u001b[0m in \u001b[0;36mapply\u001b[0;34m(self)\u001b[0m\n\u001b[1;32m   1121\u001b[0m \u001b[0;34m\u001b[0m\u001b[0m\n\u001b[1;32m   1122\u001b[0m         \u001b[0;31m# self.f is Callable\u001b[0m\u001b[0;34m\u001b[0m\u001b[0;34m\u001b[0m\u001b[0m\n\u001b[0;32m-> 1123\u001b[0;31m         \u001b[0;32mreturn\u001b[0m \u001b[0mself\u001b[0m\u001b[0;34m.\u001b[0m\u001b[0mapply_standard\u001b[0m\u001b[0;34m(\u001b[0m\u001b[0;34m)\u001b[0m\u001b[0;34m\u001b[0m\u001b[0;34m\u001b[0m\u001b[0m\n\u001b[0m\u001b[1;32m   1124\u001b[0m \u001b[0;34m\u001b[0m\u001b[0m\n\u001b[1;32m   1125\u001b[0m     \u001b[0;32mdef\u001b[0m \u001b[0magg\u001b[0m\u001b[0;34m(\u001b[0m\u001b[0mself\u001b[0m\u001b[0;34m)\u001b[0m\u001b[0;34m:\u001b[0m\u001b[0;34m\u001b[0m\u001b[0;34m\u001b[0m\u001b[0m\n",
            "\u001b[0;32m/usr/local/lib/python3.10/dist-packages/pandas/core/apply.py\u001b[0m in \u001b[0;36mapply_standard\u001b[0;34m(self)\u001b[0m\n\u001b[1;32m   1172\u001b[0m             \u001b[0;32melse\u001b[0m\u001b[0;34m:\u001b[0m\u001b[0;34m\u001b[0m\u001b[0;34m\u001b[0m\u001b[0m\n\u001b[1;32m   1173\u001b[0m                 \u001b[0mvalues\u001b[0m \u001b[0;34m=\u001b[0m \u001b[0mobj\u001b[0m\u001b[0;34m.\u001b[0m\u001b[0mastype\u001b[0m\u001b[0;34m(\u001b[0m\u001b[0mobject\u001b[0m\u001b[0;34m)\u001b[0m\u001b[0;34m.\u001b[0m\u001b[0m_values\u001b[0m\u001b[0;34m\u001b[0m\u001b[0;34m\u001b[0m\u001b[0m\n\u001b[0;32m-> 1174\u001b[0;31m                 mapped = lib.map_infer(\n\u001b[0m\u001b[1;32m   1175\u001b[0m                     \u001b[0mvalues\u001b[0m\u001b[0;34m,\u001b[0m\u001b[0;34m\u001b[0m\u001b[0;34m\u001b[0m\u001b[0m\n\u001b[1;32m   1176\u001b[0m                     \u001b[0mf\u001b[0m\u001b[0;34m,\u001b[0m\u001b[0;34m\u001b[0m\u001b[0;34m\u001b[0m\u001b[0m\n",
            "\u001b[0;32m/usr/local/lib/python3.10/dist-packages/pandas/_libs/lib.pyx\u001b[0m in \u001b[0;36mpandas._libs.lib.map_infer\u001b[0;34m()\u001b[0m\n",
            "\u001b[0;32m<ipython-input-36-59ddd2285ccc>\u001b[0m in \u001b[0;36mtransform_label\u001b[0;34m(label)\u001b[0m\n\u001b[1;32m      1\u001b[0m \u001b[0;32mdef\u001b[0m \u001b[0mtransform_label\u001b[0m\u001b[0;34m(\u001b[0m\u001b[0mlabel\u001b[0m\u001b[0;34m)\u001b[0m\u001b[0;34m:\u001b[0m\u001b[0;34m\u001b[0m\u001b[0;34m\u001b[0m\u001b[0m\n\u001b[0;32m----> 2\u001b[0;31m     \u001b[0;32mif\u001b[0m \u001b[0;34m'8'\u001b[0m \u001b[0;32min\u001b[0m \u001b[0mlabel\u001b[0m\u001b[0;34m:\u001b[0m\u001b[0;34m\u001b[0m\u001b[0;34m\u001b[0m\u001b[0m\n\u001b[0m\u001b[1;32m      3\u001b[0m         \u001b[0;32mreturn\u001b[0m \u001b[0;34m'8'\u001b[0m\u001b[0;34m\u001b[0m\u001b[0;34m\u001b[0m\u001b[0m\n\u001b[1;32m      4\u001b[0m     \u001b[0;32melif\u001b[0m \u001b[0;34m'5'\u001b[0m \u001b[0;32min\u001b[0m \u001b[0mlabel\u001b[0m \u001b[0;32mand\u001b[0m \u001b[0mlen\u001b[0m\u001b[0;34m(\u001b[0m\u001b[0mlabel\u001b[0m\u001b[0;34m.\u001b[0m\u001b[0msplit\u001b[0m\u001b[0;34m(\u001b[0m\u001b[0;34m)\u001b[0m\u001b[0;34m)\u001b[0m \u001b[0;34m==\u001b[0m \u001b[0;36m1\u001b[0m\u001b[0;34m:\u001b[0m\u001b[0;34m\u001b[0m\u001b[0;34m\u001b[0m\u001b[0m\n\u001b[1;32m      5\u001b[0m         \u001b[0;32mreturn\u001b[0m \u001b[0;34m'0'\u001b[0m\u001b[0;34m\u001b[0m\u001b[0;34m\u001b[0m\u001b[0m\n",
            "\u001b[0;31mTypeError\u001b[0m: argument of type 'int' is not iterable"
          ]
        }
      ]
    },
    {
      "cell_type": "code",
      "source": [
        "# List of all ethnicities\n",
        "ethnicities = [0,1]\n",
        "\n",
        "# Store accuracy for each ethnicity\n",
        "accuracy_per_ethnicity = {}\n",
        "\n",
        "# For each ethnicity\n",
        "for ethnicity in ethnicities:\n",
        "    # Filter rows where NamePrism Label equals the ethnicity\n",
        "    ethnicity_df = df[df['Name Prism Label'] == ethnicity]\n",
        "\n",
        "    # Calculate accuracy as percentage of correct predictions\n",
        "    correct_predictions = ethnicity_df[ethnicity_df['NamePrism Check'] == 1].shape[0]\n",
        "    total_predictions = ethnicity_df.shape[0]\n",
        "\n",
        "    # In case there are no predictions for this ethnicity, we avoid division by zero\n",
        "    if total_predictions != 0:\n",
        "        accuracy = (correct_predictions / total_predictions) * 100\n",
        "    else:\n",
        "        accuracy = 0\n",
        "\n",
        "    # Store the accuracy\n",
        "    accuracy_per_ethnicity[ethnicity] = accuracy\n",
        "\n",
        "# Convert dictionary to a pandas Series for easy plotting\n",
        "accuracy_series = pd.Series(accuracy_per_ethnicity)\n",
        "\n",
        "# Plot the accuracy for each ethnicity\n",
        "accuracy_series.plot(kind='bar', figsize=(10,6))\n",
        "\n",
        "plt.title('Accuracy of NamePrism predictions for each ethnicity')\n",
        "plt.xlabel('Ethnicity')\n",
        "plt.ylabel('Accuracy (%)')\n",
        "plt.show()\n"
      ],
      "metadata": {
        "colab": {
          "base_uri": "https://localhost:8080/",
          "height": 559
        },
        "id": "tox3t4Geakx0",
        "outputId": "ce1e3620-ea31-4560-c48a-5bbea4225344"
      },
      "execution_count": null,
      "outputs": [
        {
          "output_type": "display_data",
          "data": {
            "text/plain": [
              "<Figure size 1000x600 with 1 Axes>"
            ],
            "image/png": "[encoded data removed]"
          },
          "metadata": {}
        }
      ]
    },
    {
      "cell_type": "code",
      "source": [
        "import matplotlib.pyplot as plt\n",
        "import pandas as pd\n",
        "\n",
        "# Load the CSV file\n",
        "df = pd.read_csv('example_mod_final.csv')\n",
        "\n",
        "# Filter rows where 'true_label' is not -1\n",
        "labeled_data = df[df['true_label'] != \"-1\"]\n",
        "\n",
        "# Function to split and return series\n",
        "def split_labels(label):\n",
        "    return pd.Series(label.split())\n",
        "\n",
        "# Create a dataframe with split labels\n",
        "split_label_data = labeled_data['true_label'].apply(split_labels)\n",
        "\n",
        "# Count the number of each label\n",
        "ethnicity_counts = split_label_data.stack().value_counts()\n",
        "\n",
        "# Create a dictionary mapping labels to ethnicities\n",
        "ethnicity_dict = {\n",
        "    '0': 'Native American',\n",
        "    '1': 'Asian',\n",
        "    '2': 'Black',\n",
        "    '3': 'Latino',\n",
        "    '4': 'Middle Eastern/North African',\n",
        "    '5': 'White',\n",
        "    '8': 'Unknown/Not applicable'\n",
        "}\n",
        "\n",
        "# Create a new Series with the counts, but with the labels replaced by the ethnicities\n",
        "ethnicity_counts = ethnicity_counts.rename(index=ethnicity_dict)\n",
        "\n",
        "# Plot pie chart\n",
        "fig, ax = plt.subplots()\n",
        "ax.pie(ethnicity_counts, labels=ethnicity_counts.index, autopct='%1.1f%%')\n",
        "ax.axis('equal')  # Equal aspect ratio ensures that pie is drawn as a circle.\n",
        "plt.title('Ethnic distribution')\n",
        "plt.show()\n"
      ],
      "metadata": {
        "colab": {
          "base_uri": "https://localhost:8080/"
        },
        "id": "gevuiEd1bxsW",
        "outputId": "be0debd4-da2c-4d53-d28f-009a7055d365"
      },
      "execution_count": null,
      "outputs": [
        {
          "output_type": "stream",
          "name": "stdout",
          "text": [
            "General Accuracy: 28.000000000000004%\n"
          ]
        }
      ]
    },
    {
      "cell_type": "code",
      "source": [
        "df = pd.read_csv('example_mod_final.csv')\n",
        "df.columns"
      ],
      "metadata": {
        "colab": {
          "base_uri": "https://localhost:8080/"
        },
        "id": "_Cfb-lFm7za-",
        "outputId": "6d4398a6-cccc-4858-cc93-c88c7fc353da"
      },
      "execution_count": null,
      "outputs": [
        {
          "output_type": "execute_result",
          "data": {
            "text/plain": [
              "Index(['guest_id', 'name', 'image', 'deepface_asian', 'deepface_indian',\n",
              "       'deepface_black', 'deepface_white', 'deepface_middle eastern',\n",
              "       'deepface_latino hispanic', 'deepface_asian2', 'deepface_indian2',\n",
              "       'deepface_black2', 'deepface_white2', 'deepface_middle eastern2',\n",
              "       'deepface_latino hispanic2', 'invalid', 'true_number', 'true_label'],\n",
              "      dtype='object')"
            ]
          },
          "metadata": {},
          "execution_count": 4
        }
      ]
    },
    {
      "cell_type": "code",
      "source": [
        "df = pd.read_csv('name_prism_final.csv')\n",
        "df.columns"
      ],
      "metadata": {
        "colab": {
          "base_uri": "https://localhost:8080/"
        },
        "id": "-_wSqi-E8A-8",
        "outputId": "c0ffbea6-8268-4228-8a68-a639caecb8cb"
      },
      "execution_count": null,
      "outputs": [
        {
          "output_type": "execute_result",
          "data": {
            "text/plain": [
              "Index(['guest_id', 'name', 'image', 'European-SouthSlavs',\n",
              "       'Muslim-Pakistanis-Bangladesh', 'European-Italian-Italy',\n",
              "       'European-Baltics', 'African-SouthAfrican', 'European-Italian-Romania',\n",
              "       'Muslim-Nubian', 'European-French', 'EastAsian-Indochina-Thailand',\n",
              "       'EastAsian-Indochina-Vietnam', 'Jewish', 'Muslim-Turkic-CentralAsian',\n",
              "       'EastAsian-Indochina-Cambodia', 'Nordic-Scandinavian-Denmark',\n",
              "       'EastAsian-Indochina-Myanmar', 'Nordic-Finland', 'Muslim-Persian',\n",
              "       'Nordic-Scandinavian-Sweden', 'Muslim-Maghreb', 'Greek',\n",
              "       'Muslim-Pakistanis-Pakistan', 'Hispanic-Portuguese', 'European-Russian',\n",
              "       'Muslim-ArabianPeninsula', 'African-WestAfrican', 'EastAsian-Japan',\n",
              "       'European-German', 'EastAsian-Chinese', 'SouthAsian',\n",
              "       'Hispanic-Spanish', 'Nordic-Scandinavian-Norway',\n",
              "       'Muslim-Turkic-Turkey', 'Hispanic-Philippines', 'CelticEnglish',\n",
              "       'EastAsian-Malay-Malaysia', 'EastAsian-South Korea',\n",
              "       'African-EastAfrican', 'European-EastEuropean',\n",
              "       'EastAsian-Malay-Indonesia'],\n",
              "      dtype='object')"
            ]
          },
          "metadata": {},
          "execution_count": 5
        }
      ]
    },
    {
      "cell_type": "code",
      "source": [
        "import pandas as pd\n",
        "\n",
        "# Load the CSV files\n",
        "df1 = pd.read_csv('example_mod_final.csv')\n",
        "df2 = pd.read_csv('name_prism_final.csv')\n",
        "\n",
        "# Rename columns in df2 to have 'NamePrism_' before the original column name, but excluding 'guest_id', 'name', and 'image' columns\n",
        "df2 = df2.rename(columns={col: 'NamePrism_'+col for col in df2.columns if col not in ['guest_id', 'name', 'image']})\n",
        "\n",
        "# Merge the two dataframes on 'guest_id', 'name' and 'image'\n",
        "df_merged = pd.merge(df1, df2, on=['guest_id', 'name', 'image'])\n",
        "\n",
        "# Save the merged dataframe to a new CSV file\n",
        "df_merged.to_csv('merged_final.csv', index=False)"
      ],
      "metadata": {
        "id": "xAVIeroR8MKM"
      },
      "execution_count": null,
      "outputs": []
    },
    {
      "cell_type": "code",
      "source": [
        "df_merged.columns"
      ],
      "metadata": {
        "colab": {
          "base_uri": "https://localhost:8080/"
        },
        "id": "b3EW18sX9gnm",
        "outputId": "29969b48-4f63-4631-c216-43aa18e9151a"
      },
      "execution_count": null,
      "outputs": [
        {
          "output_type": "execute_result",
          "data": {
            "text/plain": [
              "Index(['guest_id', 'name', 'image', 'deepface_asian', 'deepface_indian',\n",
              "       'deepface_black', 'deepface_white', 'deepface_middle eastern',\n",
              "       'deepface_latino hispanic', 'deepface_asian2', 'deepface_indian2',\n",
              "       'deepface_black2', 'deepface_white2', 'deepface_middle eastern2',\n",
              "       'deepface_latino hispanic2', 'invalid', 'true_number', 'true_label',\n",
              "       'NamePrism_European-SouthSlavs',\n",
              "       'NamePrism_Muslim-Pakistanis-Bangladesh',\n",
              "       'NamePrism_European-Italian-Italy', 'NamePrism_European-Baltics',\n",
              "       'NamePrism_African-SouthAfrican', 'NamePrism_European-Italian-Romania',\n",
              "       'NamePrism_Muslim-Nubian', 'NamePrism_European-French',\n",
              "       'NamePrism_EastAsian-Indochina-Thailand',\n",
              "       'NamePrism_EastAsian-Indochina-Vietnam', 'NamePrism_Jewish',\n",
              "       'NamePrism_Muslim-Turkic-CentralAsian',\n",
              "       'NamePrism_EastAsian-Indochina-Cambodia',\n",
              "       'NamePrism_Nordic-Scandinavian-Denmark',\n",
              "       'NamePrism_EastAsian-Indochina-Myanmar', 'NamePrism_Nordic-Finland',\n",
              "       'NamePrism_Muslim-Persian', 'NamePrism_Nordic-Scandinavian-Sweden',\n",
              "       'NamePrism_Muslim-Maghreb', 'NamePrism_Greek',\n",
              "       'NamePrism_Muslim-Pakistanis-Pakistan', 'NamePrism_Hispanic-Portuguese',\n",
              "       'NamePrism_European-Russian', 'NamePrism_Muslim-ArabianPeninsula',\n",
              "       'NamePrism_African-WestAfrican', 'NamePrism_EastAsian-Japan',\n",
              "       'NamePrism_European-German', 'NamePrism_EastAsian-Chinese',\n",
              "       'NamePrism_SouthAsian', 'NamePrism_Hispanic-Spanish',\n",
              "       'NamePrism_Nordic-Scandinavian-Norway',\n",
              "       'NamePrism_Muslim-Turkic-Turkey', 'NamePrism_Hispanic-Philippines',\n",
              "       'NamePrism_CelticEnglish', 'NamePrism_EastAsian-Malay-Malaysia',\n",
              "       'NamePrism_EastAsian-South Korea', 'NamePrism_African-EastAfrican',\n",
              "       'NamePrism_European-EastEuropean',\n",
              "       'NamePrism_EastAsian-Malay-Indonesia'],\n",
              "      dtype='object')"
            ]
          },
          "metadata": {},
          "execution_count": 7
        }
      ]
    },
    {
      "cell_type": "code",
      "source": [
        "df_merged"
      ],
      "metadata": {
        "colab": {
          "base_uri": "https://localhost:8080/",
          "height": 522
        },
        "id": "ELRkgiWX9hmS",
        "outputId": "8cdbc390-523a-43e4-f0cd-abf84b0c5a80"
      },
      "execution_count": null,
      "outputs": [
        {
          "output_type": "execute_result",
          "data": {
            "text/plain": [
              "       guest_id       name                                              image  \\\n",
              "0      93292025  Harjinder  https://a0.muscache.com/im/pictures/user/5f09d...   \n",
              "1     183639942     Taylor  https://a0.muscache.com/im/pictures/user/98383...   \n",
              "2      37846734       John  https://a0.muscache.com/im/pictures/user/054a0...   \n",
              "3      48408491     Andrew  https://a0.muscache.com/im/pictures/user/3f125...   \n",
              "4      51146446  Stephanie  https://a0.muscache.com/im/pictures/user/c7457...   \n",
              "...         ...        ...                                                ...   \n",
              "9493   26610572        Maj  https://a0.muscache.com/im/pictures/user/940cb...   \n",
              "9494   11228108       June  https://a0.muscache.com/im/pictures/user/526f4...   \n",
              "9495  210383801      Lucie  https://a0.muscache.com/im/pictures/user/eeb16...   \n",
              "9496   15554393  Priscilla  https://a0.muscache.com/im/pictures/user/2ac80...   \n",
              "9497   44280196      Kerri  https://a0.muscache.com/im/users/44280196/prof...   \n",
              "\n",
              "      deepface_asian  deepface_indian  deepface_black  deepface_white  \\\n",
              "0                NaN              NaN             NaN             NaN   \n",
              "1       5.917159e-04     2.444860e-01    1.228808e-04       53.419501   \n",
              "2       7.454198e-13     2.445449e-11    1.171675e-15       99.999207   \n",
              "3       9.999976e+01     4.945082e-06    1.493552e-09        0.000094   \n",
              "4       5.683615e+01     5.171231e-01    1.433331e-01       32.356786   \n",
              "...              ...              ...             ...             ...   \n",
              "9493    2.392566e-02     2.633939e-02    1.556720e-03       87.961632   \n",
              "9494             NaN              NaN             NaN             NaN   \n",
              "9495             NaN              NaN             NaN             NaN   \n",
              "9496    6.995009e+01     3.743939e+00    1.309612e+00       13.132593   \n",
              "9497    6.658332e-09     1.976307e-08    3.524942e-12       99.992812   \n",
              "\n",
              "      deepface_middle eastern  deepface_latino hispanic  deepface_asian2  ...  \\\n",
              "0                         NaN                       NaN              NaN  ...   \n",
              "1                4.480564e+01                  1.529657              NaN  ...   \n",
              "2                4.675522e-04                  0.000329              NaN  ...   \n",
              "3                2.202549e-09                  0.000137              NaN  ...   \n",
              "4                2.545941e+00                  7.600672              NaN  ...   \n",
              "...                       ...                       ...              ...  ...   \n",
              "9493             4.666781e+00                  7.319766              NaN  ...   \n",
              "9494                      NaN                       NaN              NaN  ...   \n",
              "9495                      NaN                       NaN              NaN  ...   \n",
              "9496             2.047409e+00                  9.816355              NaN  ...   \n",
              "9497             5.795667e-03                  0.001397              NaN  ...   \n",
              "\n",
              "      NamePrism_Hispanic-Spanish  NamePrism_Nordic-Scandinavian-Norway  \\\n",
              "0                         0.0005                                0.0003   \n",
              "1                         0.0006                                0.0000   \n",
              "2                         0.0004                                0.0003   \n",
              "3                         0.0001                                0.0000   \n",
              "4                         0.0038                                0.0000   \n",
              "...                          ...                                   ...   \n",
              "9493                      0.0007                                0.0564   \n",
              "9494                      0.0001                                0.0041   \n",
              "9495                      0.0000                                0.0000   \n",
              "9496                      0.0086                                0.0000   \n",
              "9497                      0.0000                                0.0000   \n",
              "\n",
              "      NamePrism_Muslim-Turkic-Turkey  NamePrism_Hispanic-Philippines  \\\n",
              "0                             0.0000                          0.0016   \n",
              "1                             0.0000                          0.0023   \n",
              "2                             0.0000                          0.0211   \n",
              "3                             0.0000                          0.0035   \n",
              "4                             0.0000                          0.0030   \n",
              "...                              ...                             ...   \n",
              "9493                          0.0000                          0.0151   \n",
              "9494                          0.0000                          0.0671   \n",
              "9495                          0.0000                          0.0000   \n",
              "9496                          0.0000                          0.0018   \n",
              "9497                          0.0004                          0.0002   \n",
              "\n",
              "      NamePrism_CelticEnglish  NamePrism_EastAsian-Malay-Malaysia  \\\n",
              "0                      0.1011                              0.0005   \n",
              "1                      0.9843                              0.0004   \n",
              "2                      0.6356                              0.0034   \n",
              "3                      0.8422                              0.0047   \n",
              "4                      0.0190                              0.0009   \n",
              "...                       ...                                 ...   \n",
              "9493                   0.1559                              0.0026   \n",
              "9494                   0.5206                              0.0593   \n",
              "9495                   0.0013                              0.0000   \n",
              "9496                   0.0434                              0.0091   \n",
              "9497                   0.9736                              0.0001   \n",
              "\n",
              "      NamePrism_EastAsian-South Korea NamePrism_African-EastAfrican  \\\n",
              "0                              0.0000                        0.0000   \n",
              "1                              0.0000                        0.0006   \n",
              "2                              0.0002                        0.1434   \n",
              "3                              0.0004                        0.1024   \n",
              "4                              0.0000                        0.0004   \n",
              "...                               ...                           ...   \n",
              "9493                           0.0000                        0.0042   \n",
              "9494                           0.0008                        0.0155   \n",
              "9495                           0.0000                        0.0001   \n",
              "9496                           0.0000                        0.0590   \n",
              "9497                           0.0000                        0.0000   \n",
              "\n",
              "      NamePrism_European-EastEuropean  NamePrism_EastAsian-Malay-Indonesia  \n",
              "0                              0.0000                               0.0000  \n",
              "1                              0.0003                               0.0001  \n",
              "2                              0.0002                               0.0005  \n",
              "3                              0.0001                               0.0039  \n",
              "4                              0.0000                               0.0109  \n",
              "...                               ...                                  ...  \n",
              "9493                           0.0006                               0.0002  \n",
              "9494                           0.0004                               0.0088  \n",
              "9495                           0.0110                               0.0000  \n",
              "9496                           0.0000                               0.1000  \n",
              "9497                           0.0000                               0.0017  \n",
              "\n",
              "[9498 rows x 57 columns]"
            ],
            "text/html": [
              "\n",
              "  <div id=\"df-06aa93e7-c3c2-412f-8339-0ecb38ed85cc\">\n",
              "    <div class=\"colab-df-container\">\n",
              "      <div>\n",
              "<style scoped>\n",
              "    .dataframe tbody tr th:only-of-type {\n",
              "        vertical-align: middle;\n",
              "    }\n",
              "\n",
              "    .dataframe tbody tr th {\n",
              "        vertical-align: top;\n",
              "    }\n",
              "\n",
              "    .dataframe thead th {\n",
              "        text-align: right;\n",
              "    }\n",
              "</style>\n",
              "<table border=\"1\" class=\"dataframe\">\n",
              "  <thead>\n",
              "    <tr style=\"text-align: right;\">\n",
              "      <th></th>\n",
              "      <th>guest_id</th>\n",
              "      <th>name</th>\n",
              "      <th>image</th>\n",
              "      <th>deepface_asian</th>\n",
              "      <th>deepface_indian</th>\n",
              "      <th>deepface_black</th>\n",
              "      <th>deepface_white</th>\n",
              "      <th>deepface_middle eastern</th>\n",
              "      <th>deepface_latino hispanic</th>\n",
              "      <th>deepface_asian2</th>\n",
              "      <th>...</th>\n",
              "      <th>NamePrism_Hispanic-Spanish</th>\n",
              "      <th>NamePrism_Nordic-Scandinavian-Norway</th>\n",
              "      <th>NamePrism_Muslim-Turkic-Turkey</th>\n",
              "      <th>NamePrism_Hispanic-Philippines</th>\n",
              "      <th>NamePrism_CelticEnglish</th>\n",
              "      <th>NamePrism_EastAsian-Malay-Malaysia</th>\n",
              "      <th>NamePrism_EastAsian-South Korea</th>\n",
              "      <th>NamePrism_African-EastAfrican</th>\n",
              "      <th>NamePrism_European-EastEuropean</th>\n",
              "      <th>NamePrism_EastAsian-Malay-Indonesia</th>\n",
              "    </tr>\n",
              "  </thead>\n",
              "  <tbody>\n",
              "    <tr>\n",
              "      <th>0</th>\n",
              "      <td>93292025</td>\n",
              "      <td>Harjinder</td>\n",
              "      <td>https://a0.muscache.com/im/pictures/user/5f09d...</td>\n",
              "      <td>NaN</td>\n",
              "      <td>NaN</td>\n",
              "      <td>NaN</td>\n",
              "      <td>NaN</td>\n",
              "      <td>NaN</td>\n",
              "      <td>NaN</td>\n",
              "      <td>NaN</td>\n",
              "      <td>...</td>\n",
              "      <td>0.0005</td>\n",
              "      <td>0.0003</td>\n",
              "      <td>0.0000</td>\n",
              "      <td>0.0016</td>\n",
              "      <td>0.1011</td>\n",
              "      <td>0.0005</td>\n",
              "      <td>0.0000</td>\n",
              "      <td>0.0000</td>\n",
              "      <td>0.0000</td>\n",
              "      <td>0.0000</td>\n",
              "    </tr>\n",
              "    <tr>\n",
              "      <th>1</th>\n",
              "      <td>183639942</td>\n",
              "      <td>Taylor</td>\n",
              "      <td>https://a0.muscache.com/im/pictures/user/98383...</td>\n",
              "      <td>5.917159e-04</td>\n",
              "      <td>2.444860e-01</td>\n",
              "      <td>1.228808e-04</td>\n",
              "      <td>53.419501</td>\n",
              "      <td>4.480564e+01</td>\n",
              "      <td>1.529657</td>\n",
              "      <td>NaN</td>\n",
              "      <td>...</td>\n",
              "      <td>0.0006</td>\n",
              "      <td>0.0000</td>\n",
              "      <td>0.0000</td>\n",
              "      <td>0.0023</td>\n",
              "      <td>0.9843</td>\n",
              "      <td>0.0004</td>\n",
              "      <td>0.0000</td>\n",
              "      <td>0.0006</td>\n",
              "      <td>0.0003</td>\n",
              "      <td>0.0001</td>\n",
              "    </tr>\n",
              "    <tr>\n",
              "      <th>2</th>\n",
              "      <td>37846734</td>\n",
              "      <td>John</td>\n",
              "      <td>https://a0.muscache.com/im/pictures/user/054a0...</td>\n",
              "      <td>7.454198e-13</td>\n",
              "      <td>2.445449e-11</td>\n",
              "      <td>1.171675e-15</td>\n",
              "      <td>99.999207</td>\n",
              "      <td>4.675522e-04</td>\n",
              "      <td>0.000329</td>\n",
              "      <td>NaN</td>\n",
              "      <td>...</td>\n",
              "      <td>0.0004</td>\n",
              "      <td>0.0003</td>\n",
              "      <td>0.0000</td>\n",
              "      <td>0.0211</td>\n",
              "      <td>0.6356</td>\n",
              "      <td>0.0034</td>\n",
              "      <td>0.0002</td>\n",
              "      <td>0.1434</td>\n",
              "      <td>0.0002</td>\n",
              "      <td>0.0005</td>\n",
              "    </tr>\n",
              "    <tr>\n",
              "      <th>3</th>\n",
              "      <td>48408491</td>\n",
              "      <td>Andrew</td>\n",
              "      <td>https://a0.muscache.com/im/pictures/user/3f125...</td>\n",
              "      <td>9.999976e+01</td>\n",
              "      <td>4.945082e-06</td>\n",
              "      <td>1.493552e-09</td>\n",
              "      <td>0.000094</td>\n",
              "      <td>2.202549e-09</td>\n",
              "      <td>0.000137</td>\n",
              "      <td>NaN</td>\n",
              "      <td>...</td>\n",
              "      <td>0.0001</td>\n",
              "      <td>0.0000</td>\n",
              "      <td>0.0000</td>\n",
              "      <td>0.0035</td>\n",
              "      <td>0.8422</td>\n",
              "      <td>0.0047</td>\n",
              "      <td>0.0004</td>\n",
              "      <td>0.1024</td>\n",
              "      <td>0.0001</td>\n",
              "      <td>0.0039</td>\n",
              "    </tr>\n",
              "    <tr>\n",
              "      <th>4</th>\n",
              "      <td>51146446</td>\n",
              "      <td>Stephanie</td>\n",
              "      <td>https://a0.muscache.com/im/pictures/user/c7457...</td>\n",
              "      <td>5.683615e+01</td>\n",
              "      <td>5.171231e-01</td>\n",
              "      <td>1.433331e-01</td>\n",
              "      <td>32.356786</td>\n",
              "      <td>2.545941e+00</td>\n",
              "      <td>7.600672</td>\n",
              "      <td>NaN</td>\n",
              "      <td>...</td>\n",
              "      <td>0.0038</td>\n",
              "      <td>0.0000</td>\n",
              "      <td>0.0000</td>\n",
              "      <td>0.0030</td>\n",
              "      <td>0.0190</td>\n",
              "      <td>0.0009</td>\n",
              "      <td>0.0000</td>\n",
              "      <td>0.0004</td>\n",
              "      <td>0.0000</td>\n",
              "      <td>0.0109</td>\n",
              "    </tr>\n",
              "    <tr>\n",
              "      <th>...</th>\n",
              "      <td>...</td>\n",
              "      <td>...</td>\n",
              "      <td>...</td>\n",
              "      <td>...</td>\n",
              "      <td>...</td>\n",
              "      <td>...</td>\n",
              "      <td>...</td>\n",
              "      <td>...</td>\n",
              "      <td>...</td>\n",
              "      <td>...</td>\n",
              "      <td>...</td>\n",
              "      <td>...</td>\n",
              "      <td>...</td>\n",
              "      <td>...</td>\n",
              "      <td>...</td>\n",
              "      <td>...</td>\n",
              "      <td>...</td>\n",
              "      <td>...</td>\n",
              "      <td>...</td>\n",
              "      <td>...</td>\n",
              "      <td>...</td>\n",
              "    </tr>\n",
              "    <tr>\n",
              "      <th>9493</th>\n",
              "      <td>26610572</td>\n",
              "      <td>Maj</td>\n",
              "      <td>https://a0.muscache.com/im/pictures/user/940cb...</td>\n",
              "      <td>2.392566e-02</td>\n",
              "      <td>2.633939e-02</td>\n",
              "      <td>1.556720e-03</td>\n",
              "      <td>87.961632</td>\n",
              "      <td>4.666781e+00</td>\n",
              "      <td>7.319766</td>\n",
              "      <td>NaN</td>\n",
              "      <td>...</td>\n",
              "      <td>0.0007</td>\n",
              "      <td>0.0564</td>\n",
              "      <td>0.0000</td>\n",
              "      <td>0.0151</td>\n",
              "      <td>0.1559</td>\n",
              "      <td>0.0026</td>\n",
              "      <td>0.0000</td>\n",
              "      <td>0.0042</td>\n",
              "      <td>0.0006</td>\n",
              "      <td>0.0002</td>\n",
              "    </tr>\n",
              "    <tr>\n",
              "      <th>9494</th>\n",
              "      <td>11228108</td>\n",
              "      <td>June</td>\n",
              "      <td>https://a0.muscache.com/im/pictures/user/526f4...</td>\n",
              "      <td>NaN</td>\n",
              "      <td>NaN</td>\n",
              "      <td>NaN</td>\n",
              "      <td>NaN</td>\n",
              "      <td>NaN</td>\n",
              "      <td>NaN</td>\n",
              "      <td>NaN</td>\n",
              "      <td>...</td>\n",
              "      <td>0.0001</td>\n",
              "      <td>0.0041</td>\n",
              "      <td>0.0000</td>\n",
              "      <td>0.0671</td>\n",
              "      <td>0.5206</td>\n",
              "      <td>0.0593</td>\n",
              "      <td>0.0008</td>\n",
              "      <td>0.0155</td>\n",
              "      <td>0.0004</td>\n",
              "      <td>0.0088</td>\n",
              "    </tr>\n",
              "    <tr>\n",
              "      <th>9495</th>\n",
              "      <td>210383801</td>\n",
              "      <td>Lucie</td>\n",
              "      <td>https://a0.muscache.com/im/pictures/user/eeb16...</td>\n",
              "      <td>NaN</td>\n",
              "      <td>NaN</td>\n",
              "      <td>NaN</td>\n",
              "      <td>NaN</td>\n",
              "      <td>NaN</td>\n",
              "      <td>NaN</td>\n",
              "      <td>NaN</td>\n",
              "      <td>...</td>\n",
              "      <td>0.0000</td>\n",
              "      <td>0.0000</td>\n",
              "      <td>0.0000</td>\n",
              "      <td>0.0000</td>\n",
              "      <td>0.0013</td>\n",
              "      <td>0.0000</td>\n",
              "      <td>0.0000</td>\n",
              "      <td>0.0001</td>\n",
              "      <td>0.0110</td>\n",
              "      <td>0.0000</td>\n",
              "    </tr>\n",
              "    <tr>\n",
              "      <th>9496</th>\n",
              "      <td>15554393</td>\n",
              "      <td>Priscilla</td>\n",
              "      <td>https://a0.muscache.com/im/pictures/user/2ac80...</td>\n",
              "      <td>6.995009e+01</td>\n",
              "      <td>3.743939e+00</td>\n",
              "      <td>1.309612e+00</td>\n",
              "      <td>13.132593</td>\n",
              "      <td>2.047409e+00</td>\n",
              "      <td>9.816355</td>\n",
              "      <td>NaN</td>\n",
              "      <td>...</td>\n",
              "      <td>0.0086</td>\n",
              "      <td>0.0000</td>\n",
              "      <td>0.0000</td>\n",
              "      <td>0.0018</td>\n",
              "      <td>0.0434</td>\n",
              "      <td>0.0091</td>\n",
              "      <td>0.0000</td>\n",
              "      <td>0.0590</td>\n",
              "      <td>0.0000</td>\n",
              "      <td>0.1000</td>\n",
              "    </tr>\n",
              "    <tr>\n",
              "      <th>9497</th>\n",
              "      <td>44280196</td>\n",
              "      <td>Kerri</td>\n",
              "      <td>https://a0.muscache.com/im/users/44280196/prof...</td>\n",
              "      <td>6.658332e-09</td>\n",
              "      <td>1.976307e-08</td>\n",
              "      <td>3.524942e-12</td>\n",
              "      <td>99.992812</td>\n",
              "      <td>5.795667e-03</td>\n",
              "      <td>0.001397</td>\n",
              "      <td>NaN</td>\n",
              "      <td>...</td>\n",
              "      <td>0.0000</td>\n",
              "      <td>0.0000</td>\n",
              "      <td>0.0004</td>\n",
              "      <td>0.0002</td>\n",
              "      <td>0.9736</td>\n",
              "      <td>0.0001</td>\n",
              "      <td>0.0000</td>\n",
              "      <td>0.0000</td>\n",
              "      <td>0.0000</td>\n",
              "      <td>0.0017</td>\n",
              "    </tr>\n",
              "  </tbody>\n",
              "</table>\n",
              "<p>9498 rows × 57 columns</p>\n",
              "</div>\n",
              "      <button class=\"colab-df-convert\" onclick=\"convertToInteractive('df-06aa93e7-c3c2-412f-8339-0ecb38ed85cc')\"\n",
              "              title=\"Convert this dataframe to an interactive table.\"\n",
              "              style=\"display:none;\">\n",
              "        \n",
              "  <svg xmlns=\"http://www.w3.org/2000/svg\" height=\"24px\"viewBox=\"0 0 24 24\"\n",
              "       width=\"24px\">\n",
              "    <path d=\"M0 0h24v24H0V0z\" fill=\"none\"/>\n",
              "    <path d=\"M18.56 5.44l.94 2.06.94-2.06 2.06-.94-2.06-.94-.94-2.06-.94 2.06-2.06.94zm-11 1L8.5 8.5l.94-2.06 2.06-.94-2.06-.94L8.5 2.5l-.94 2.06-2.06.94zm10 10l.94 2.06.94-2.06 2.06-.94-2.06-.94-.94-2.06-.94 2.06-2.06.94z\"/><path d=\"M17.41 7.96l-1.37-1.37c-.4-.4-.92-.59-1.43-.59-.52 0-1.04.2-1.43.59L10.3 9.45l-7.72 7.72c-.78.78-.78 2.05 0 2.83L4 21.41c.39.39.9.59 1.41.59.51 0 1.02-.2 1.41-.59l7.78-7.78 2.81-2.81c.8-.78.8-2.07 0-2.86zM5.41 20L4 18.59l7.72-7.72 1.47 1.35L5.41 20z\"/>\n",
              "  </svg>\n",
              "      </button>\n",
              "      \n",
              "  <style>\n",
              "    .colab-df-container {\n",
              "      display:flex;\n",
              "      flex-wrap:wrap;\n",
              "      gap: 12px;\n",
              "    }\n",
              "\n",
              "    .colab-df-convert {\n",
              "      background-color: #E8F0FE;\n",
              "      border: none;\n",
              "      border-radius: 50%;\n",
              "      cursor: pointer;\n",
              "      display: none;\n",
              "      fill: #1967D2;\n",
              "      height: 32px;\n",
              "      padding: 0 0 0 0;\n",
              "      width: 32px;\n",
              "    }\n",
              "\n",
              "    .colab-df-convert:hover {\n",
              "      background-color: #E2EBFA;\n",
              "      box-shadow: 0px 1px 2px rgba(60, 64, 67, 0.3), 0px 1px 3px 1px rgba(60, 64, 67, 0.15);\n",
              "      fill: #174EA6;\n",
              "    }\n",
              "\n",
              "    [theme=dark] .colab-df-convert {\n",
              "      background-color: #3B4455;\n",
              "      fill: #D2E3FC;\n",
              "    }\n",
              "\n",
              "    [theme=dark] .colab-df-convert:hover {\n",
              "      background-color: #434B5C;\n",
              "      box-shadow: 0px 1px 3px 1px rgba(0, 0, 0, 0.15);\n",
              "      filter: drop-shadow(0px 1px 2px rgba(0, 0, 0, 0.3));\n",
              "      fill: #FFFFFF;\n",
              "    }\n",
              "  </style>\n",
              "\n",
              "      <script>\n",
              "        const buttonEl =\n",
              "          document.querySelector('#df-06aa93e7-c3c2-412f-8339-0ecb38ed85cc button.colab-df-convert');\n",
              "        buttonEl.style.display =\n",
              "          google.colab.kernel.accessAllowed ? 'block' : 'none';\n",
              "\n",
              "        async function convertToInteractive(key) {\n",
              "          const element = document.querySelector('#df-06aa93e7-c3c2-412f-8339-0ecb38ed85cc');\n",
              "          const dataTable =\n",
              "            await google.colab.kernel.invokeFunction('convertToInteractive',\n",
              "                                                     [key], {});\n",
              "          if (!dataTable) return;\n",
              "\n",
              "          const docLinkHtml = 'Like what you see? Visit the ' +\n",
              "            '<a target=\"_blank\" href=https://colab.research.google.com/notebooks/data_table.ipynb>data table notebook</a>'\n",
              "            + ' to learn more about interactive tables.';\n",
              "          element.innerHTML = '';\n",
              "          dataTable['output_type'] = 'display_data';\n",
              "          await google.colab.output.renderOutput(dataTable, element);\n",
              "          const docLink = document.createElement('div');\n",
              "          docLink.innerHTML = docLinkHtml;\n",
              "          element.appendChild(docLink);\n",
              "        }\n",
              "      </script>\n",
              "    </div>\n",
              "  </div>\n",
              "  "
            ]
          },
          "metadata": {},
          "execution_count": 11
        }
      ]
    },
    {
      "cell_type": "code",
      "source": [
        "import pandas as pd\n",
        "import matplotlib.pyplot as plt\n",
        "\n",
        "# Load the merged CSV file\n",
        "df = pd.read_csv('merged_final.csv')\n",
        "\n",
        "# Calculate the relative frequencies of each \"invalid\" value\n",
        "rel_freq = df['invalid'].value_counts(normalize=True).sort_index()\n",
        "\n",
        "# Convert to percentage\n",
        "percentage = rel_freq * 100\n",
        "\n",
        "# Define labels\n",
        "labels = ['No faces recognized','1 face recognized', '2 faces recognized', '3 or more faces recognized']\n",
        "\n",
        "# Create the bar plot\n",
        "plt.figure(figsize=(10,6))\n",
        "plt.bar(labels, percentage)\n",
        "\n",
        "# Add title and labels\n",
        "plt.title('Faces Recognized')\n",
        "plt.xlabel('Recognition')\n",
        "plt.ylabel('Total Percentage')\n",
        "\n",
        "# Turn on the grid\n",
        "plt.grid()\n",
        "\n",
        "# Show the plot\n",
        "plt.show()\n"
      ],
      "metadata": {
        "colab": {
          "base_uri": "https://localhost:8080/",
          "height": 564
        },
        "id": "liKA8aso9nc7",
        "outputId": "242756df-4fc8-4b62-a273-cd5bd252e0f7"
      },
      "execution_count": null,
      "outputs": [
        {
          "output_type": "display_data",
          "data": {
            "text/plain": [
              "<Figure size 1000x600 with 1 Axes>"
            ],
            "image/png": "[encoded data removed]"
          },
          "metadata": {}
        }
      ]
    },
    {
      "cell_type": "code",
      "source": [
        "# Define the mapping\n",
        "invalid_mapping = {0:1, 1:2, 2:3, 3:0}\n",
        "\n",
        "# Replace the values\n",
        "df['invalid'] = df['invalid'].replace(invalid_mapping)\n",
        "\n",
        "# Save the DataFrame to a new CSV file\n",
        "df.to_csv('merged_final.csv', index=False)\n"
      ],
      "metadata": {
        "id": "bA_GWH6dGprT"
      },
      "execution_count": null,
      "outputs": []
    },
    {
      "cell_type": "code",
      "source": [
        "(df['true_number'] >= 0).mean() * len(df)"
      ],
      "metadata": {
        "colab": {
          "base_uri": "https://localhost:8080/"
        },
        "id": "DWx4oAk1G-HW",
        "outputId": "435fe445-cec5-4fa5-cc17-290b597719ed"
      },
      "execution_count": null,
      "outputs": [
        {
          "output_type": "execute_result",
          "data": {
            "text/plain": [
              "200.0"
            ]
          },
          "metadata": {},
          "execution_count": 24
        }
      ]
    },
    {
      "cell_type": "code",
      "source": [
        "from sklearn.metrics import confusion_matrix\n",
        "import seaborn as sns\n",
        "import matplotlib.pyplot as plt\n",
        "\n",
        "\n",
        "# Filter rows where 'true_number' is not -1\n",
        "df_filtered = df[df['true_number'] != -1]\n",
        "\n",
        "# Calculate confusion matrix\n",
        "matrix = confusion_matrix(df_filtered['true_number'], df_filtered['invalid'])\n",
        "\n",
        "# Normalize the matrix to get percentages\n",
        "matrix = matrix.astype('float') / matrix.sum(axis=1)[:, np.newaxis]\n",
        "\n",
        "# Convert matrix to dataframe to label indices for better visualisation\n",
        "matrix_df = pd.DataFrame(matrix, columns=[f\"Predicted {i}\" for i in range(4)], index=[f\"True {i}\" for i in range(4)])\n",
        "\n",
        "# Create a heatmap\n",
        "plt.figure(figsize=(10,7))\n",
        "sns.heatmap(matrix_df, annot=True, fmt='.2%', cmap='Blues')\n",
        "plt.title('Confusion matrix')\n",
        "plt.show()\n"
      ],
      "metadata": {
        "colab": {
          "base_uri": "https://localhost:8080/",
          "height": 622
        },
        "id": "WN2C1Z4KG_Cq",
        "outputId": "2164dae4-4272-4eab-916a-53be781928d2"
      },
      "execution_count": null,
      "outputs": [
        {
          "output_type": "display_data",
          "data": {
            "text/plain": [
              "<Figure size 1000x700 with 2 Axes>"
            ],
            "image/png": "[encoded data removed]"
          },
          "metadata": {}
        }
      ]
    },
    {
      "cell_type": "code",
      "source": [
        " from sklearn.metrics import confusion_matrix\n",
        "import seaborn as sns\n",
        "import matplotlib.pyplot as plt\n",
        "\n",
        "# Filter rows where 'true_number' is not -1\n",
        "df_filtered = df[df['true_number'] != -1]\n",
        "\n",
        "# Calculate confusion matrix (notice the reversed order of arguments)\n",
        "matrix = confusion_matrix(df_filtered['invalid'], df_filtered['true_number'])\n",
        "\n",
        "# Normalize the matrix to get percentages\n",
        "matrix = matrix.astype('float') / matrix.sum(axis=1)[:, np.newaxis]\n",
        "\n",
        "# Convert matrix to dataframe to label indices for better visualisation\n",
        "matrix_df = pd.DataFrame(matrix, columns=[f\"Actual {i}\" for i in range(4)], index=[f\"Predicted {i}\" for i in range(4)])\n",
        "\n",
        "# Create a heatmap\n",
        "plt.figure(figsize=(10,7))\n",
        "sns.heatmap(matrix_df, annot=True, fmt='.2%', cmap='Blues')\n",
        "plt.title('Confusion matrix')\n",
        "plt.show()\n"
      ],
      "metadata": {
        "colab": {
          "base_uri": "https://localhost:8080/",
          "height": 622
        },
        "id": "M79Y-jkhNV1o",
        "outputId": "24375325-b670-4cfc-a9d8-ac038eee4f1c"
      },
      "execution_count": null,
      "outputs": [
        {
          "output_type": "display_data",
          "data": {
            "text/plain": [
              "<Figure size 1000x700 with 2 Axes>"
            ],
            "image/png": "[encoded data removed]"
          },
          "metadata": {}
        }
      ]
    },
    {
      "cell_type": "code",
      "source": [
        "import matplotlib.pyplot as plt\n",
        "df = pd.read_csv('merged_final.csv')\n",
        "# Define lists with the names of the columns with the race probabilities for each face\n",
        "prob_columns_face1 = ['deepface_asian', 'deepface_indian', 'deepface_black', 'deepface_white', 'deepface_middle eastern', 'deepface_latino hispanic']\n",
        "prob_columns_face2 = ['deepface_asian2', 'deepface_indian2', 'deepface_black2', 'deepface_white2', 'deepface_middle eastern2', 'deepface_latino hispanic2']\n",
        "\n",
        "# Get the maximum probability from each row for the first face\n",
        "max_prob_face1 = df[prob_columns_face1].max(axis=1)\n",
        "\n",
        "# Get the maximum probability from each row for the second face\n",
        "max_prob_face2 = df[prob_columns_face2].max(axis=1)\n",
        "\n",
        "# Combine the two into a single series\n",
        "max_prob_all = pd.concat([max_prob_face1, max_prob_face2])\n",
        "\n",
        "# Plot a histogram of the probabilities\n",
        "plt.figure(figsize=(10,7))\n",
        "plt.hist(max_prob_all, bins=50, alpha=0.5, color='g')\n",
        "plt.title('Distribution of Maximum Probability Predictions by DeepFace')\n",
        "plt.xlabel('Probability')\n",
        "plt.ylabel('Count')\n",
        "plt.grid(True)\n",
        "plt.show()\n"
      ],
      "metadata": {
        "colab": {
          "base_uri": "https://localhost:8080/",
          "height": 641
        },
        "id": "zOcCj8YQXx8r",
        "outputId": "39cdf6e0-810f-4197-ca99-13e90b1fb7e8"
      },
      "execution_count": null,
      "outputs": [
        {
          "output_type": "display_data",
          "data": {
            "text/plain": [
              "<Figure size 1000x700 with 1 Axes>"
            ],
            "image/png": "[encoded data removed]"
          },
          "metadata": {}
        }
      ]
    },
    {
      "cell_type": "code",
      "source": [
        "import pandas as pd\n",
        "import numpy as np\n",
        "import matplotlib.pyplot as plt\n",
        "import seaborn as sns\n",
        "df = pd.read_csv('merged_final.csv')\n",
        "\n",
        "# Combine Asian and Indian into a single category\n",
        "df['deepface_asian_combined'] = df[['deepface_asian', 'deepface_indian']].max(axis=1)\n",
        "\n",
        "# Create the deepface_prediction column based on the max value among the categories\n",
        "columns = ['deepface_asian_combined', 'deepface_black', 'deepface_white', 'deepface_middle eastern', 'deepface_latino hispanic']\n",
        "df['deepface_prediction'] = df[columns].idxmax(axis=1)\n",
        "\n",
        "# Mapping the predictions to numbers for comparison with 'true_label'\n",
        "mapping = {\n",
        "    'deepface_asian_combined': '1',\n",
        "    'deepface_black': '2',\n",
        "    'deepface_white': '5',\n",
        "    'deepface_middle eastern': '4',\n",
        "    'deepface_latino hispanic': '3'\n",
        "}\n",
        "df['deepface_prediction'] = df['deepface_prediction'].map(mapping)\n",
        "\n",
        "# Remove the rows where 'true_label' is -1 or 8\n",
        "df_filtered = df[~df['true_label'].isin(['-1', '8'])]\n",
        "\n",
        "# Determine the max probability value\n",
        "df_filtered['max_probability'] = df_filtered[['deepface_asian', 'deepface_black', 'deepface_white', 'deepface_middle eastern', 'deepface_latino hispanic']].max(axis=1)\n",
        "\n",
        "# Create a new column that indicates if the prediction was correct or not\n",
        "df_filtered['correct_prediction'] = df_filtered.apply(lambda row: 1 if str(row['deepface_prediction']) in str(row['true_label']).split() else 0, axis=1)\n",
        "\n",
        "# Define probability intervals\n",
        "bins = [0, 10, 20, 30, 40, 50, 60, 70, 80, 90, 100]\n",
        "df_filtered['prob_bucket'] = pd.cut(df_filtered['max_probability'], bins=bins)\n",
        "\n",
        "# Calculate accuracy for each probability interval\n",
        "accuracy_per_bucket = df_filtered.groupby('prob_bucket')['correct_prediction'].mean() * 100\n",
        "\n",
        "# Plot the graph\n",
        "plt.figure(figsize=(10,6))\n",
        "sns.barplot(x=accuracy_per_bucket.index.astype(str), y=accuracy_per_bucket.values)\n",
        "plt.xlabel('Max Probability Interval')\n",
        "plt.ylabel('Accuracy (%)')\n",
        "plt.title('Accuracy of Predictions Across Different Probability Intervals')\n",
        "plt.xticks(rotation=45)\n",
        "plt.grid(True)\n",
        "plt.show()\n",
        "\n"
      ],
      "metadata": {
        "colab": {
          "base_uri": "https://localhost:8080/",
          "height": 605
        },
        "id": "uunxn6nrczTF",
        "outputId": "804787ea-41a7-4ac3-ba03-76428841dec4"
      },
      "execution_count": null,
      "outputs": [
        {
          "output_type": "display_data",
          "data": {
            "text/plain": [
              "<Figure size 1000x600 with 1 Axes>"
            ],
            "image/png": "[encoded data removed]"
          },
          "metadata": {}
        }
      ]
    },
    {
      "cell_type": "code",
      "source": [
        "# Calculate the count of rows in each bin\n",
        "bin_counts = df_filtered['prob_bucket'].value_counts()\n",
        "\n",
        "# Normalize the counts to get percentages\n",
        "bin_percentages = (bin_counts / len(df_filtered)) * 100\n",
        "\n",
        "# Sort the index (which is the bin) for better visualization\n",
        "bin_percentages = bin_percentages.sort_index()\n",
        "\n",
        "# Plot the graph\n",
        "plt.figure(figsize=(10,6))\n",
        "sns.barplot(x=bin_percentages.index.astype(str), y=bin_percentages.values)\n",
        "plt.xlabel('Max Probability Interval')\n",
        "plt.ylabel('Percentage of Data (%)')\n",
        "plt.title('Percentage of Data in Each Probability Interval')\n",
        "plt.xticks(rotation=45)\n",
        "plt.grid(True)\n",
        "plt.show()\n"
      ],
      "metadata": {
        "colab": {
          "base_uri": "https://localhost:8080/",
          "height": 605
        },
        "id": "VnrRwafNdOEI",
        "outputId": "68d263c0-70e9-4fbe-a6a1-77ca1ed92501"
      },
      "execution_count": null,
      "outputs": [
        {
          "output_type": "display_data",
          "data": {
            "text/plain": [
              "<Figure size 1000x600 with 1 Axes>"
            ],
            "image/png": "[encoded data removed]"
          },
          "metadata": {}
        }
      ]
    },
    {
      "cell_type": "code",
      "source": [
        "accuracy_per_bucket\n"
      ],
      "metadata": {
        "colab": {
          "base_uri": "https://localhost:8080/"
        },
        "id": "elyJ6pqDc-AD",
        "outputId": "050c274e-745e-4153-f1ab-57d24d64ab12"
      },
      "execution_count": null,
      "outputs": [
        {
          "output_type": "execute_result",
          "data": {
            "text/plain": [
              "prob_bucket\n",
              "(0, 10]             NaN\n",
              "(10, 20]     100.000000\n",
              "(20, 30]      57.142857\n",
              "(30, 40]      50.000000\n",
              "(40, 50]      70.212766\n",
              "(50, 60]      75.000000\n",
              "(60, 70]      75.609756\n",
              "(70, 80]      78.787879\n",
              "(80, 90]      90.000000\n",
              "(90, 100]     92.178771\n",
              "Name: correct_prediction, dtype: float64"
            ]
          },
          "metadata": {},
          "execution_count": 24
        }
      ]
    },
    {
      "cell_type": "code",
      "source": [
        "bin_percentages"
      ],
      "metadata": {
        "colab": {
          "base_uri": "https://localhost:8080/"
        },
        "id": "mLmzXWeBlZwj",
        "outputId": "225c4a9d-e42a-46fe-9534-f16e8ab41d2e"
      },
      "execution_count": null,
      "outputs": [
        {
          "output_type": "execute_result",
          "data": {
            "text/plain": [
              "(0, 10]       0.000000\n",
              "(10, 20]      0.388350\n",
              "(20, 30]      1.359223\n",
              "(30, 40]      6.213592\n",
              "(40, 50]      9.126214\n",
              "(50, 60]      8.543689\n",
              "(60, 70]      7.961165\n",
              "(70, 80]      6.407767\n",
              "(80, 90]      7.766990\n",
              "(90, 100]    34.757282\n",
              "Name: prob_bucket, dtype: float64"
            ]
          },
          "metadata": {},
          "execution_count": 25
        }
      ]
    },
    {
      "cell_type": "code",
      "source": [
        "weighted_accuracy = (accuracy_per_bucket * bin_percentages).sum() / 100\n",
        "print(f\"Weighted Accuracy: {weighted_accuracy}%\")\n"
      ],
      "metadata": {
        "colab": {
          "base_uri": "https://localhost:8080/"
        },
        "id": "ky3u254Kll9f",
        "outputId": "4a46ba35-7139-4a4c-fbc6-728631b6a123"
      },
      "execution_count": null,
      "outputs": [
        {
          "output_type": "stream",
          "name": "stdout",
          "text": [
            "Weighted Accuracy: 67.18446601941747%\n"
          ]
        }
      ]
    },
    {
      "cell_type": "code",
      "source": [
        "(accuracy_per_bucket * bin_percentages / 100).sum()"
      ],
      "metadata": {
        "colab": {
          "base_uri": "https://localhost:8080/"
        },
        "id": "vsIC4EXXlpf6",
        "outputId": "deca7a1f-7a9f-4361-8071-91739dece491"
      },
      "execution_count": null,
      "outputs": [
        {
          "output_type": "execute_result",
          "data": {
            "text/plain": [
              "67.18446601941747"
            ]
          },
          "metadata": {},
          "execution_count": 32
        }
      ]
    },
    {
      "cell_type": "code",
      "source": [],
      "metadata": {
        "id": "nW61G8zdy1HL"
      },
      "execution_count": null,
      "outputs": []
    },
    {
      "cell_type": "markdown",
      "source": [
        "# BWB"
      ],
      "metadata": {
        "id": "d2WVMK-8y11O"
      }
    },
    {
      "cell_type": "code",
      "source": [
        "# Creating the WNWtrue_label column\n",
        "def calculate_WNWtrue_label(row):\n",
        "    if row['true_label'] in [1,2,3,4]:\n",
        "        return 1\n",
        "    else:\n",
        "        return 2\n",
        "df = pd.read_csv('merged_final.csv')\n",
        "df = df[~df['true_label'].isin(['-1', '8'])]\n",
        "df['WNWtrue_label'] = df.apply(calculate_WNWtrue_label, axis=1)\n",
        "\n",
        "# Creating the WNWdeepface_white and WNWdeepface_non_white columns\n",
        "df['WNWdeepface_white'] = df['deepface_white']\n",
        "df['WNWdeepface_non_white'] = 100 - df['deepface_white']\n",
        "\n",
        "# Creating the WNWdeepface_prediction column\n",
        "def calculate_WNWdeepface_prediction(row):\n",
        "    if row['WNWdeepface_white'] > row['WNWdeepface_non_white']:\n",
        "        return 1\n",
        "    else:\n",
        "        return 2\n",
        "\n",
        "df['WNWdeepface_prediction'] = df.apply(calculate_WNWdeepface_prediction, axis=1)\n",
        "\n",
        "df.to_csv('combined_mod_final_wnw.csv', index=False)\n"
      ],
      "metadata": {
        "id": "THCaMV3IlwYq"
      },
      "execution_count": null,
      "outputs": []
    },
    {
      "cell_type": "code",
      "source": [
        "import pandas as pd\n",
        "\n",
        "# Load the data\n",
        "df = pd.read_csv('merged_final.csv')\n",
        "\n",
        "# Filter out unlabeled data and unknown cases\n",
        "df_filtered = df[(df['true_label'] != '-1') & (df['true_label'] != '8')]\n",
        "\n",
        "# Map the labels into white and non-white\n",
        "def map_wnw_labels(label):\n",
        "    if '5' in label and len(label) == 1:  # Only 5 (White)\n",
        "        return 1\n",
        "    elif '5' in label:  # Mixed with 5 (White)\n",
        "        return 0\n",
        "    else:  # Non-white\n",
        "        return 2\n",
        "\n",
        "df_filtered['WNWtrue_label'] = df_filtered['true_label'].apply(map_wnw_labels)\n",
        "\n",
        "# Create the white and non-white probabilities and prediction\n",
        "df_filtered['WNWdeepface_white'] = df_filtered['deepface_white']\n",
        "df_filtered['WNWdeepface_non-white'] = 100 - df_filtered['deepface_white']\n",
        "\n",
        "# The prediction is the category with the highest probability\n",
        "df_filtered['WNWdeepface_prediction'] = df_filtered[['WNWdeepface_white', 'WNWdeepface_non-white']].idxmax(axis=1)\n",
        "df_filtered['WNWdeepface_prediction'] = df_filtered['WNWdeepface_prediction'].map({'WNWdeepface_white': 1, 'WNWdeepface_non-white': 2})\n",
        "\n",
        "# Calculate max probability\n",
        "df_filtered['max_probability'] = df_filtered[['WNWdeepface_white', 'WNWdeepface_non-white']].max(axis=1)\n",
        "\n",
        "# Define function to calculate if prediction is correct\n",
        "def calculate_accuracy(row):\n",
        "    if row['WNWdeepface_prediction'] == row['WNWtrue_label'] or row['WNWtrue_label'] == 0:\n",
        "        return 1\n",
        "    else:\n",
        "        return 0\n",
        "\n",
        "# Apply function to calculate accuracy\n",
        "df_filtered['correct_prediction'] = df_filtered.apply(calculate_accuracy, axis=1)\n",
        "\n",
        "# Define bins for grouping probabilities\n",
        "bins = [0, 10, 20, 30, 40, 50, 60, 70, 80, 90, 100]\n",
        "bucket_names = ['(0, 10]', '(10, 20]', '(20, 30]', '(30, 40]', '(40, 50]', '(50, 60]', '(60, 70]', '(70, 80]', '(80, 90]', '(90, 100]']\n",
        "\n",
        "# Create bins\n",
        "df_filtered['prob_bucket'] = pd.cut(df_filtered['max_probability'], bins=bins, labels=bucket_names)\n",
        "\n",
        "# Calculate accuracy per bucket\n",
        "accuracy_per_bucket = df_filtered.groupby('prob_bucket')['correct_prediction'].mean()\n",
        "\n",
        "# Output the results\n",
        "print(accuracy_per_bucket)\n"
      ],
      "metadata": {
        "colab": {
          "base_uri": "https://localhost:8080/"
        },
        "id": "gV5LFgOd0pNB",
        "outputId": "655df51e-ae5d-473f-f1cd-c3943b9f2405"
      },
      "execution_count": null,
      "outputs": [
        {
          "output_type": "stream",
          "name": "stdout",
          "text": [
            "prob_bucket\n",
            "(0, 10]           NaN\n",
            "(10, 20]          NaN\n",
            "(20, 30]          NaN\n",
            "(30, 40]          NaN\n",
            "(40, 50]          NaN\n",
            "(50, 60]     0.547170\n",
            "(60, 70]     0.644068\n",
            "(70, 80]     0.666667\n",
            "(80, 90]     0.819672\n",
            "(90, 100]    0.932367\n",
            "Name: correct_prediction, dtype: float64\n"
          ]
        }
      ]
    },
    {
      "cell_type": "code",
      "source": [
        "import matplotlib.pyplot as plt\n",
        "\n",
        "# Convert accuracy_per_bucket to percentages\n",
        "accuracy_per_bucket_percentage = accuracy_per_bucket * 100\n",
        "\n",
        "# Plot the bar graph\n",
        "plt.figure(figsize=(10,6))\n",
        "plt.bar(accuracy_per_bucket_percentage.index, accuracy_per_bucket_percentage.values, color='steelblue')\n",
        "\n",
        "plt.xlabel('Probability Bucket')\n",
        "plt.ylabel('Accuracy (%)')\n",
        "plt.title('Accuracy of White/Non-White Predictions by Probability Bucket')\n",
        "plt.xticks(rotation=45)\n",
        "plt.grid(axis='y')\n",
        "\n",
        "plt.show()\n"
      ],
      "metadata": {
        "colab": {
          "base_uri": "https://localhost:8080/",
          "height": 605
        },
        "id": "wTIahfAG0vjZ",
        "outputId": "feb4de0b-937c-4716-8819-0ac408024b6a"
      },
      "execution_count": null,
      "outputs": [
        {
          "output_type": "display_data",
          "data": {
            "text/plain": [
              "<Figure size 1000x600 with 1 Axes>"
            ],
            "image/png": "[encoded data removed]"
          },
          "metadata": {}
        }
      ]
    },
    {
      "cell_type": "code",
      "source": [
        "# Calculate the percentage of data in each bucket\n",
        "bin_percentages_WNW = df_filtered['prob_bucket'].value_counts(normalize=True).sort_index() * 100\n",
        "\n",
        "# Plotting distribution\n",
        "plt.figure(figsize=(10,6))\n",
        "plt.bar(bin_percentages_WNW.index, bin_percentages_WNW.values, color='steelblue')\n",
        "plt.xlabel('Probability Bucket')\n",
        "plt.ylabel('Percentage of data (%)')\n",
        "plt.title('Distribution of max probabilities (White/Non-White)')\n",
        "plt.xticks(rotation=45)\n",
        "plt.grid(axis='y')\n",
        "plt.show()\n",
        "\n",
        "# Calculate overall accuracy for white/non-white\n",
        "overall_accuracy_WNW = df_filtered['correct_prediction'].mean() * 100\n",
        "\n",
        "print(f'The overall accuracy of the white/non-white predictions is: {overall_accuracy_WNW:.2f}%')\n"
      ],
      "metadata": {
        "colab": {
          "base_uri": "https://localhost:8080/",
          "height": 622
        },
        "id": "zTd5Lb0F1xAw",
        "outputId": "0f11882c-ca9d-4ee8-c3aa-0314cef50699"
      },
      "execution_count": null,
      "outputs": [
        {
          "output_type": "display_data",
          "data": {
            "text/plain": [
              "<Figure size 1000x600 with 1 Axes>"
            ],
            "image/png": "[encoded data removed]"
          },
          "metadata": {}
        },
        {
          "output_type": "stream",
          "name": "stdout",
          "text": [
            "The overall accuracy of the white/non-white predictions is: 66.99%\n"
          ]
        }
      ]
    },
    {
      "cell_type": "code",
      "source": [
        "(accuracy_per_bucket * bin_percentages_WNW).sum()"
      ],
      "metadata": {
        "colab": {
          "base_uri": "https://localhost:8080/"
        },
        "id": "DuGAz0LQ16Ro",
        "outputId": "ead28008-eea9-4a82-fb61-7e17c54b7c99"
      },
      "execution_count": null,
      "outputs": [
        {
          "output_type": "execute_result",
          "data": {
            "text/plain": [
              "80.0"
            ]
          },
          "metadata": {},
          "execution_count": 70
        }
      ]
    },
    {
      "cell_type": "code",
      "source": [
        "accuracy_per_bucket"
      ],
      "metadata": {
        "colab": {
          "base_uri": "https://localhost:8080/"
        },
        "id": "a0R4_6XG5SBf",
        "outputId": "868f3559-2dcd-46fd-afe6-4d5096ae1901"
      },
      "execution_count": null,
      "outputs": [
        {
          "output_type": "execute_result",
          "data": {
            "text/plain": [
              "prob_bucket\n",
              "(0, 10]           NaN\n",
              "(10, 20]          NaN\n",
              "(20, 30]          NaN\n",
              "(30, 40]          NaN\n",
              "(40, 50]          NaN\n",
              "(50, 60]     0.547170\n",
              "(60, 70]     0.644068\n",
              "(70, 80]     0.666667\n",
              "(80, 90]     0.819672\n",
              "(90, 100]    0.932367\n",
              "Name: correct_prediction, dtype: float64"
            ]
          },
          "metadata": {},
          "execution_count": 68
        }
      ]
    },
    {
      "cell_type": "code",
      "source": [
        "df.columns"
      ],
      "metadata": {
        "colab": {
          "base_uri": "https://localhost:8080/"
        },
        "id": "dmn6X7ON5TA9",
        "outputId": "7d392be5-2805-4014-9160-097c00c75ba3"
      },
      "execution_count": null,
      "outputs": [
        {
          "output_type": "execute_result",
          "data": {
            "text/plain": [
              "Index(['guest_id', 'name', 'image', 'deepface_asian', 'deepface_indian',\n",
              "       'deepface_black', 'deepface_white', 'deepface_middle eastern',\n",
              "       'deepface_latino hispanic', 'deepface_asian2', 'deepface_indian2',\n",
              "       'deepface_black2', 'deepface_white2', 'deepface_middle eastern2',\n",
              "       'deepface_latino hispanic2', 'invalid', 'true_number', 'true_label',\n",
              "       'NamePrism_European-SouthSlavs',\n",
              "       'NamePrism_Muslim-Pakistanis-Bangladesh',\n",
              "       'NamePrism_European-Italian-Italy', 'NamePrism_European-Baltics',\n",
              "       'NamePrism_African-SouthAfrican', 'NamePrism_European-Italian-Romania',\n",
              "       'NamePrism_Muslim-Nubian', 'NamePrism_European-French',\n",
              "       'NamePrism_EastAsian-Indochina-Thailand',\n",
              "       'NamePrism_EastAsian-Indochina-Vietnam', 'NamePrism_Jewish',\n",
              "       'NamePrism_Muslim-Turkic-CentralAsian',\n",
              "       'NamePrism_EastAsian-Indochina-Cambodia',\n",
              "       'NamePrism_Nordic-Scandinavian-Denmark',\n",
              "       'NamePrism_EastAsian-Indochina-Myanmar', 'NamePrism_Nordic-Finland',\n",
              "       'NamePrism_Muslim-Persian', 'NamePrism_Nordic-Scandinavian-Sweden',\n",
              "       'NamePrism_Muslim-Maghreb', 'NamePrism_Greek',\n",
              "       'NamePrism_Muslim-Pakistanis-Pakistan', 'NamePrism_Hispanic-Portuguese',\n",
              "       'NamePrism_European-Russian', 'NamePrism_Muslim-ArabianPeninsula',\n",
              "       'NamePrism_African-WestAfrican', 'NamePrism_EastAsian-Japan',\n",
              "       'NamePrism_European-German', 'NamePrism_EastAsian-Chinese',\n",
              "       'NamePrism_SouthAsian', 'NamePrism_Hispanic-Spanish',\n",
              "       'NamePrism_Nordic-Scandinavian-Norway',\n",
              "       'NamePrism_Muslim-Turkic-Turkey', 'NamePrism_Hispanic-Philippines',\n",
              "       'NamePrism_CelticEnglish', 'NamePrism_EastAsian-Malay-Malaysia',\n",
              "       'NamePrism_EastAsian-South Korea', 'NamePrism_African-EastAfrican',\n",
              "       'NamePrism_European-EastEuropean',\n",
              "       'NamePrism_EastAsian-Malay-Indonesia'],\n",
              "      dtype='object')"
            ]
          },
          "metadata": {},
          "execution_count": 72
        }
      ]
    },
    {
      "cell_type": "code",
      "source": [],
      "metadata": {
        "id": "OKoTbD527apv"
      },
      "execution_count": null,
      "outputs": []
    },
    {
      "cell_type": "markdown",
      "source": [
        "# NamePrism"
      ],
      "metadata": {
        "id": "QQrJ29ym8PRv"
      }
    },
    {
      "cell_type": "code",
      "source": [
        "# Define the mapping from specific to general categories\n",
        "mapping = {\n",
        "    \"Asian\": [\"EastAsian\", \"SouthAsian\"],\n",
        "    \"Black\": [\"African\"],\n",
        "    \"Latino\": [\"Hispanic\"],\n",
        "    \"MiddleEastern/NorthAfrican\": [\"Muslim\", \"Jewish\"],\n",
        "    \"White\": [\"European\", \"Nordic\", \"CelticEnglish\", \"Greek\"]\n",
        "}\n",
        "\n",
        "# Create new columns for the general categories\n",
        "for general, specifics in mapping.items():\n",
        "    # Identify specific columns that belong to each general category\n",
        "    specific_columns = [col for col in df.columns if any(specific in col for specific in specifics)]\n",
        "    # Create new column by summing the specific columns\n",
        "    df[f\"NamePrism_{general}\"] = df[specific_columns].sum(axis=1)\n"
      ],
      "metadata": {
        "id": "S13rs1CF8Q7T"
      },
      "execution_count": null,
      "outputs": []
    },
    {
      "cell_type": "code",
      "source": [
        "df['NamePrism_White']"
      ],
      "metadata": {
        "colab": {
          "base_uri": "https://localhost:8080/"
        },
        "id": "sQJkGPpU8Twf",
        "outputId": "437d250e-24b8-4058-88c5-6e93875170a9"
      },
      "execution_count": null,
      "outputs": [
        {
          "output_type": "execute_result",
          "data": {
            "text/plain": [
              "0       0.1148\n",
              "1       0.9871\n",
              "2       0.6616\n",
              "3       0.8449\n",
              "4       0.9533\n",
              "         ...  \n",
              "9493    0.8912\n",
              "9494    0.5303\n",
              "9495    0.9997\n",
              "9496    0.1912\n",
              "9497    0.9955\n",
              "Name: NamePrism_White, Length: 9498, dtype: float64"
            ]
          },
          "metadata": {},
          "execution_count": 75
        }
      ]
    },
    {
      "cell_type": "code",
      "source": [
        "# Define mapping from general categories to numeric labels\n",
        "category_to_numeric = {\"Asian\": 1, \"Black\": 2, \"Latino\": 3, \"MiddleEastern/NorthAfrican\": 4, \"White\": 5}\n",
        "\n",
        "# Get the general category with the highest probability\n",
        "df[\"NamePrism_max_category\"] = df[[\"NamePrism_Asian\", \"NamePrism_Black\", \"NamePrism_Latino\", \"NamePrism_MiddleEastern/NorthAfrican\", \"NamePrism_White\"]].idxmax(axis=1)\n",
        "\n",
        "# Remove the \"NamePrism_\" prefix to get only the category name\n",
        "df[\"NamePrism_max_category\"] = df[\"NamePrism_max_category\"].str.replace(\"NamePrism_\", \"\")\n",
        "\n",
        "# Map from category names to numeric labels\n",
        "df[\"NamePrism_prediction\"] = df[\"NamePrism_max_category\"].map(category_to_numeric)\n"
      ],
      "metadata": {
        "id": "N3Lk1W1d8UjX"
      },
      "execution_count": null,
      "outputs": []
    },
    {
      "cell_type": "code",
      "source": [
        "def calculate_accuracy(row):\n",
        "    true_labels = row['true_label'].split()\n",
        "    if str(row['NamePrism_prediction']) in true_labels:\n",
        "        return 1\n",
        "    else:\n",
        "        return 0\n",
        "\n",
        "# Filter rows where true_label is not -1 or 8\n",
        "df_filtered = df[(df['true_label'] != '-1') & (df['true_label'] != '8')]\n",
        "\n",
        "# Compute the maximum probability for each row\n",
        "df_filtered[\"NamePrism_max_probability\"] = df_filtered[[\"NamePrism_Asian\", \"NamePrism_Black\", \"NamePrism_Latino\", \"NamePrism_MiddleEastern/NorthAfrican\", \"NamePrism_White\"]].max(axis=1)\n",
        "\n",
        "# Create probability buckets\n",
        "df_filtered['prob_bucket'] = pd.cut(df_filtered['NamePrism_max_probability'], bins=np.linspace(0, 1, 11))\n",
        "\n",
        "# Calculate accuracy per bucket\n",
        "df_filtered['correct_prediction'] = df_filtered.apply(calculate_accuracy, axis=1)\n",
        "accuracy_per_bucket = df_filtered.groupby('prob_bucket')['correct_prediction'].mean()\n",
        "\n",
        "# Plot accuracy per bucket\n",
        "accuracy_per_bucket.plot(kind='bar', color='skyblue')\n",
        "plt.xlabel('Probability Bucket')\n",
        "plt.ylabel('Accuracy')\n",
        "plt.title('Accuracy as a function of the max probability')\n",
        "plt.grid(True)\n",
        "plt.show()\n",
        "\n",
        "# Plot distribution of max probabilities\n",
        "df_filtered['NamePrism_max_probability'].plot(kind='hist', bins=20, color='skyblue')\n",
        "plt.xlabel('Max Probability')\n",
        "plt.ylabel('Frequency')\n",
        "plt.title('Distribution of max probabilities')\n",
        "plt.grid(True)\n",
        "plt.show()\n",
        "\n",
        "# Calculate and print overall accuracy\n",
        "overall_accuracy = df_filtered['correct_prediction'].mean()\n",
        "print(f'Overall accuracy: {overall_accuracy*100:.2f}%')\n"
      ],
      "metadata": {
        "colab": {
          "base_uri": "https://localhost:8080/",
          "height": 993
        },
        "id": "f9yHl7a19tOL",
        "outputId": "e91aac20-49ee-4f57-9ec1-47e236e8074d"
      },
      "execution_count": null,
      "outputs": [
        {
          "output_type": "display_data",
          "data": {
            "text/plain": [
              "<Figure size 640x480 with 1 Axes>"
            ],
            "image/png": "[encoded data removed]"
          },
          "metadata": {}
        },
        {
          "output_type": "display_data",
          "data": {
            "text/plain": [
              "<Figure size 640x480 with 1 Axes>"
            ],
            "image/png": "[encoded data removed]"
          },
          "metadata": {}
        },
        {
          "output_type": "stream",
          "name": "stdout",
          "text": [
            "Overall accuracy: 66.60%\n"
          ]
        }
      ]
    },
    {
      "cell_type": "code",
      "source": [
        "accuracy_per_bucket"
      ],
      "metadata": {
        "colab": {
          "base_uri": "https://localhost:8080/"
        },
        "id": "homPJRZi92U1",
        "outputId": "70177910-2b76-4ab6-d349-91a5bf2eccae"
      },
      "execution_count": null,
      "outputs": [
        {
          "output_type": "execute_result",
          "data": {
            "text/plain": [
              "prob_bucket\n",
              "(0.0, 0.1]    NaN\n",
              "(0.1, 0.2]    NaN\n",
              "(0.2, 0.3]    0.0\n",
              "(0.3, 0.4]    0.0\n",
              "(0.4, 0.5]    0.0\n",
              "(0.5, 0.6]    0.0\n",
              "(0.6, 0.7]    0.0\n",
              "(0.7, 0.8]    0.0\n",
              "(0.8, 0.9]    0.0\n",
              "(0.9, 1.0]    0.0\n",
              "Name: correct_prediction, dtype: float64"
            ]
          },
          "metadata": {},
          "execution_count": 78
        }
      ]
    },
    {
      "cell_type": "code",
      "source": [
        "def map_wnw_label(label_str):\n",
        "    labels = label_str.split(\" \")\n",
        "    if '5' in labels and len(labels) == 1:\n",
        "        return 1  # white\n",
        "    elif '5' in labels:\n",
        "        return 0  # always correct\n",
        "    else:\n",
        "        return 2  # non-white\n",
        "\n",
        "def calculate_accuracy(row):\n",
        "    if row['WNWNamePrism_prediction'] == row['WNWtrue_label'] or row['WNWtrue_label'] == 0:\n",
        "        return 1\n",
        "    else:\n",
        "        return 0\n",
        "\n",
        "# Creating the White/Non-White labels and predictions\n",
        "df_filtered['WNWtrue_label'] = df_filtered['true_label'].apply(map_wnw_label)\n",
        "df_filtered['WNWNamePrism_White'] = df_filtered['NamePrism_White']\n",
        "df_filtered['WNWNamePrism_Non-White'] = 1 - df_filtered['NamePrism_White']\n",
        "df_filtered['WNWNamePrism_prediction'] = df_filtered[['WNWNamePrism_White', 'WNWNamePrism_Non-White']].idxmax(axis=1).apply(lambda x: 1 if x.endswith('White') else 2)\n",
        "\n",
        "# Compute the maximum probability for each row\n",
        "df_filtered[\"NamePrism_max_probability\"] = df_filtered[['WNWNamePrism_White', 'WNWNamePrism_Non-White']].max(axis=1)\n",
        "\n",
        "# Create probability buckets\n",
        "df_filtered['prob_bucket'] = pd.cut(df_filtered['NamePrism_max_probability'], bins=np.linspace(0, 1, 11))\n",
        "\n",
        "# Calculate accuracy per bucket\n",
        "df_filtered['correct_prediction'] = df_filtered.apply(calculate_accuracy, axis=1)\n",
        "accuracy_per_bucket = df_filtered.groupby('prob_bucket')['correct_prediction'].mean()\n",
        "\n",
        "# Plot accuracy per bucket\n",
        "accuracy_per_bucket.plot(kind='bar', color='skyblue')\n",
        "plt.xlabel('Probability Bucket')\n",
        "plt.ylabel('Accuracy')\n",
        "plt.title('Accuracy as a function of the max probability (White/Non-White)')\n",
        "plt.grid(True)\n",
        "plt.show()\n",
        "\n",
        "# Plot distribution of max probabilities\n",
        "df_filtered['NamePrism_max_probability'].plot(kind='hist', bins=20, color='skyblue')\n",
        "plt.xlabel('Max Probability')\n",
        "plt.ylabel('Frequency')\n",
        "plt.title('Distribution of max probabilities (White/Non-White)')\n",
        "plt.grid(True)\n",
        "plt.show()\n",
        "\n",
        "# Calculate and print overall accuracy\n",
        "overall_accuracy = df_filtered['correct_prediction'].mean()\n",
        "print(f'Overall accuracy (White/Non-White): {overall_accuracy*100:.2f}%')\n"
      ],
      "metadata": {
        "colab": {
          "base_uri": "https://localhost:8080/",
          "height": 993
        },
        "id": "pD67lKjDD1uU",
        "outputId": "a2e689e3-e11e-4295-d955-0b8791a9ab18"
      },
      "execution_count": null,
      "outputs": [
        {
          "output_type": "display_data",
          "data": {
            "text/plain": [
              "<Figure size 640x480 with 1 Axes>"
            ],
            "image/png": "[encoded data removed]"
          },
          "metadata": {}
        },
        {
          "output_type": "display_data",
          "data": {
            "text/plain": [
              "<Figure size 640x480 with 1 Axes>"
            ],
            "image/png": "[encoded data removed]"
          },
          "metadata": {}
        },
        {
          "output_type": "stream",
          "name": "stdout",
          "text": [
            "Overall accuracy (White/Non-White): 74.56%\n"
          ]
        }
      ]
    },
    {
      "cell_type": "code",
      "source": [
        "def map_wnw_label(label_str):\n",
        "    labels = label_str.split(\" \")\n",
        "    if '5' in labels and len(labels) == 1:\n",
        "        return 1  # white\n",
        "    elif '5' in labels:\n",
        "        return 0  # always correct\n",
        "    else:\n",
        "        return 2  # non-white\n",
        "def calculate_accuracy_per_bucket(df, prob_column, true_label_column, prediction_column, bins=10):\n",
        "    df['prob_bucket'] = pd.cut(df[prob_column], bins=np.linspace(0, 1, bins+1), include_lowest=True)\n",
        "    grouped = df.groupby('prob_bucket')\n",
        "\n",
        "    def calculate_bucket_accuracy(group):\n",
        "        correct_predictions = group[group[true_label_column] == group[prediction_column]].shape[0]\n",
        "        total_predictions = group.shape[0]\n",
        "        return correct_predictions / total_predictions\n",
        "\n",
        "    return grouped.apply(calculate_bucket_accuracy)\n",
        "\n",
        "\n",
        "# Creating the White/Non-White labels and predictions\n",
        "df_filtered['WNWtrue_label'] = df_filtered['true_label'].apply(map_wnw_label)\n",
        "df_filtered['WNWNamePrism_White'] = df_filtered['NamePrism_White']\n",
        "df_filtered['WNWNamePrism_Non-White'] = 1 - df_filtered['NamePrism_White']\n",
        "df_filtered['WNWNamePrism_prediction'] = df_filtered[['WNWNamePrism_White', 'WNWNamePrism_Non-White']].idxmax(axis=1).apply(lambda x: 1 if x.endswith('White') else 2)\n",
        "\n",
        "# Adjust for always correct cases\n",
        "df_filtered.loc[df_filtered['WNWtrue_label'] == 0, 'WNWNamePrism_prediction'] = 0\n",
        "\n",
        "# Calculate accuracies per probability bucket\n",
        "accuracy_per_bucket = calculate_accuracy_per_bucket(df_filtered, 'WNWNamePrism_White', 'WNWtrue_label', 'WNWNamePrism_prediction')\n",
        "print(accuracy_per_bucket)\n",
        "\n",
        "# Plot distribution of max probabilities\n",
        "plot_prob_distribution(df_filtered, 'WNWNamePrism_White', bins=10)\n",
        "\n",
        "# Calculate overall accuracy\n",
        "overall_accuracy = calculate_overall_accuracy(df_filtered, 'WNWtrue_label', 'WNWNamePrism_prediction')\n",
        "print(f'Overall accuracy: {overall_accuracy*100:.2f}%')\n",
        "\n",
        "# Plot accuracy per probability interval\n",
        "plot_accuracy_per_prob_interval(accuracy_per_bucket)\n"
      ],
      "metadata": {
        "colab": {
          "base_uri": "https://localhost:8080/",
          "height": 443
        },
        "id": "ZT5NZutXD-vn",
        "outputId": "85513470-8b12-4386-e527-ee452b5f190e"
      },
      "execution_count": null,
      "outputs": [
        {
          "output_type": "stream",
          "name": "stdout",
          "text": [
            "prob_bucket\n",
            "(-0.001, 0.1]    0.480769\n",
            "(0.1, 0.2]       0.565217\n",
            "(0.2, 0.3]       0.652174\n",
            "(0.3, 0.4]       0.607143\n",
            "(0.4, 0.5]       0.692308\n",
            "(0.5, 0.6]       0.833333\n",
            "(0.6, 0.7]       0.717391\n",
            "(0.7, 0.8]       0.746667\n",
            "(0.8, 0.9]       0.875000\n",
            "(0.9, 1.0]       0.849206\n",
            "dtype: float64\n"
          ]
        },
        {
          "output_type": "error",
          "ename": "NameError",
          "evalue": "ignored",
          "traceback": [
            "\u001b[0;31m---------------------------------------------------------------------------\u001b[0m",
            "\u001b[0;31mNameError\u001b[0m                                 Traceback (most recent call last)",
            "\u001b[0;32m<ipython-input-85-c04f1d57379d>\u001b[0m in \u001b[0;36m<cell line: 35>\u001b[0;34m()\u001b[0m\n\u001b[1;32m     33\u001b[0m \u001b[0;34m\u001b[0m\u001b[0m\n\u001b[1;32m     34\u001b[0m \u001b[0;31m# Plot distribution of max probabilities\u001b[0m\u001b[0;34m\u001b[0m\u001b[0;34m\u001b[0m\u001b[0m\n\u001b[0;32m---> 35\u001b[0;31m \u001b[0mplot_prob_distribution\u001b[0m\u001b[0;34m(\u001b[0m\u001b[0mdf_filtered\u001b[0m\u001b[0;34m,\u001b[0m \u001b[0;34m'WNWNamePrism_White'\u001b[0m\u001b[0;34m,\u001b[0m \u001b[0mbins\u001b[0m\u001b[0;34m=\u001b[0m\u001b[0;36m10\u001b[0m\u001b[0;34m)\u001b[0m\u001b[0;34m\u001b[0m\u001b[0;34m\u001b[0m\u001b[0m\n\u001b[0m\u001b[1;32m     36\u001b[0m \u001b[0;34m\u001b[0m\u001b[0m\n\u001b[1;32m     37\u001b[0m \u001b[0;31m# Calculate overall accuracy\u001b[0m\u001b[0;34m\u001b[0m\u001b[0;34m\u001b[0m\u001b[0m\n",
            "\u001b[0;31mNameError\u001b[0m: name 'plot_prob_distribution' is not defined"
          ]
        }
      ]
    },
    {
      "cell_type": "code",
      "source": [
        "# First create a DeepFace prediction column\n",
        "df_filtered['deepface_prediction'] = df_filtered[['deepface_asian', 'deepface_black', 'deepface_latino hispanic', 'deepface_middle eastern', 'deepface_white']].idxmax(axis=1)\n",
        "\n",
        "# Define ethnicities mapping for DeepFace\n",
        "deepface_ethnicities = {\n",
        "    'deepface_asian': '1',\n",
        "    'deepface_black': '2',\n",
        "    'deepface_latino hispanic': '3',\n",
        "    'deepface_middle eastern': '4',\n",
        "    'deepface_white': '5'\n",
        "}\n",
        "\n",
        "# Now create a new DeepFace prediction column with numeric codes for simplicity\n",
        "df_filtered['deepface_prediction_code'] = df_filtered['deepface_prediction'].map(deepface_ethnicities)\n",
        "\n",
        "# Then, follow the same steps for multi-ethnicity accuracy calculation\n",
        "# Create a subset of data containing multiple ethnicities\n",
        "multi_ethnicity_df = df_filtered[df_filtered['true_label'].str.contains(' ')]\n",
        "\n",
        "# Define ethnicities\n",
        "ethnicities = {\n",
        "    '1': 'Asian',\n",
        "    '2': 'Black',\n",
        "    '3': 'Latino',\n",
        "    '4': 'Middle Eastern',\n",
        "    '5': 'White'\n",
        "}\n",
        "\n",
        "# Initialize accuracy dictionary\n",
        "accuracy_per_ethnicity = {}\n",
        "\n",
        "# Calculate accuracy for each ethnicity\n",
        "for code, ethnicity in ethnicities.items():\n",
        "    total = 0\n",
        "    correct = 0\n",
        "    for i, row in multi_ethnicity_df.iterrows():\n",
        "        true_labels = row['true_label'].split()\n",
        "        if code in true_labels:\n",
        "            total += 1\n",
        "            if row['deepface_prediction_code'] in true_labels:\n",
        "                correct += 1\n",
        "    if total > 0:\n",
        "        accuracy_per_ethnicity[ethnicity] = correct / total\n",
        "    else:\n",
        "        accuracy_per_ethnicity[ethnicity] = np.nan  # Avoid division by zero\n",
        "\n",
        "# Print accuracy per ethnicity\n",
        "for ethnicity, accuracy in accuracy_per_ethnicity.items():\n",
        "    print(f'{ethnicity}: {accuracy*100:.2f}%')\n",
        "\n",
        "# Plot accuracy per ethnicity\n",
        "plt.figure(figsize=(10, 6))\n",
        "plt.bar(accuracy_per_ethnicity.keys(), accuracy_per_ethnicity.values())\n",
        "plt.xlabel('Ethnicity')\n",
        "plt.ylabel('Accuracy')\n",
        "plt.title('Accuracy per Ethnicity for Multi-Ethnicity Photos (Deepface)')\n",
        "plt.xticks(rotation=45)  # Rotate x-labels for better visibility\n",
        "plt.show()\n"
      ],
      "metadata": {
        "colab": {
          "base_uri": "https://localhost:8080/",
          "height": 720
        },
        "id": "WXSbwSkbHTC2",
        "outputId": "f96cf37b-9976-4c52-d76c-f153fb638aa6"
      },
      "execution_count": null,
      "outputs": [
        {
          "output_type": "stream",
          "name": "stdout",
          "text": [
            "Asian: 64.29%\n",
            "Black: 55.56%\n",
            "Latino: 61.54%\n",
            "Middle Eastern: 71.43%\n",
            "White: 80.00%\n"
          ]
        },
        {
          "output_type": "display_data",
          "data": {
            "text/plain": [
              "<Figure size 1000x600 with 1 Axes>"
            ],
            "image/png": "[encoded data removed]"
          },
          "metadata": {}
        }
      ]
    },
    {
      "cell_type": "code",
      "source": [
        "df_filtered.columns"
      ],
      "metadata": {
        "colab": {
          "base_uri": "https://localhost:8080/"
        },
        "id": "sJn2riG5JYZS",
        "outputId": "434ced8e-5797-46dc-b904-5cee279fd37f"
      },
      "execution_count": null,
      "outputs": [
        {
          "output_type": "execute_result",
          "data": {
            "text/plain": [
              "Index(['guest_id', 'name', 'image', 'deepface_asian', 'deepface_indian',\n",
              "       'deepface_black', 'deepface_white', 'deepface_middle eastern',\n",
              "       'deepface_latino hispanic', 'deepface_asian2', 'deepface_indian2',\n",
              "       'deepface_black2', 'deepface_white2', 'deepface_middle eastern2',\n",
              "       'deepface_latino hispanic2', 'invalid', 'true_number', 'true_label',\n",
              "       'NamePrism_European-SouthSlavs',\n",
              "       'NamePrism_Muslim-Pakistanis-Bangladesh',\n",
              "       'NamePrism_European-Italian-Italy', 'NamePrism_European-Baltics',\n",
              "       'NamePrism_African-SouthAfrican', 'NamePrism_European-Italian-Romania',\n",
              "       'NamePrism_Muslim-Nubian', 'NamePrism_European-French',\n",
              "       'NamePrism_EastAsian-Indochina-Thailand',\n",
              "       'NamePrism_EastAsian-Indochina-Vietnam', 'NamePrism_Jewish',\n",
              "       'NamePrism_Muslim-Turkic-CentralAsian',\n",
              "       'NamePrism_EastAsian-Indochina-Cambodia',\n",
              "       'NamePrism_Nordic-Scandinavian-Denmark',\n",
              "       'NamePrism_EastAsian-Indochina-Myanmar', 'NamePrism_Nordic-Finland',\n",
              "       'NamePrism_Muslim-Persian', 'NamePrism_Nordic-Scandinavian-Sweden',\n",
              "       'NamePrism_Muslim-Maghreb', 'NamePrism_Greek',\n",
              "       'NamePrism_Muslim-Pakistanis-Pakistan', 'NamePrism_Hispanic-Portuguese',\n",
              "       'NamePrism_European-Russian', 'NamePrism_Muslim-ArabianPeninsula',\n",
              "       'NamePrism_African-WestAfrican', 'NamePrism_EastAsian-Japan',\n",
              "       'NamePrism_European-German', 'NamePrism_EastAsian-Chinese',\n",
              "       'NamePrism_SouthAsian', 'NamePrism_Hispanic-Spanish',\n",
              "       'NamePrism_Nordic-Scandinavian-Norway',\n",
              "       'NamePrism_Muslim-Turkic-Turkey', 'NamePrism_Hispanic-Philippines',\n",
              "       'NamePrism_CelticEnglish', 'NamePrism_EastAsian-Malay-Malaysia',\n",
              "       'NamePrism_EastAsian-South Korea', 'NamePrism_African-EastAfrican',\n",
              "       'NamePrism_European-EastEuropean',\n",
              "       'NamePrism_EastAsian-Malay-Indonesia', 'NamePrism_Asian',\n",
              "       'NamePrism_Black', 'NamePrism_Latino',\n",
              "       'NamePrism_MiddleEastern/NorthAfrican', 'NamePrism_White',\n",
              "       'NamePrism_max_category', 'NamePrism_prediction',\n",
              "       'NamePrism_max_probability', 'prob_bucket', 'correct_prediction',\n",
              "       'WNWtrue_label', 'WNWNamePrism_White', 'WNWNamePrism_Non-White',\n",
              "       'WNWNamePrism_prediction'],\n",
              "      dtype='object')"
            ]
          },
          "metadata": {},
          "execution_count": 89
        }
      ]
    },
    {
      "cell_type": "code",
      "source": [
        "# Map DeepFace columns to NamePrism codes\n",
        "deepface_to_nameprism_map = {\n",
        "    'deepface_asian': 1,\n",
        "    'deepface_black': 2,\n",
        "    'deepface_latino hispanic': 3,\n",
        "    'deepface_middle eastern': 4,\n",
        "    'deepface_white': 5,\n",
        "    'deepface_asian2': 1,\n",
        "    'deepface_black2': 2,\n",
        "    'deepface_latino hispanic2': 3,\n",
        "    'deepface_middle eastern2': 4,\n",
        "    'deepface_white2': 5\n",
        "}\n",
        "def calculate_bucket_accuracy(group):\n",
        "    if group.shape[0] == 0:\n",
        "        return np.nan\n",
        "    else:\n",
        "        correct_predictions = group[group[true_label_column] == group[prediction_column]].shape[0]\n",
        "        total_predictions = group.shape[0]\n",
        "        return correct_predictions / total_predictions\n",
        "\n",
        "# Step 1: Find the cases where DeepFace predicted with 50% or over probability\n",
        "df_deepface_confident = df_filtered[(df_filtered[list(deepface_to_nameprism_map.keys())] >= 50).any(axis=1)]\n",
        "\n",
        "# Create a DeepFace prediction column mapping it to the corresponding NamePrism code\n",
        "df_deepface_confident['DeepFace_prediction_code'] = df_deepface_confident[list(deepface_to_nameprism_map.keys())].idxmax(axis=1).map(deepface_to_nameprism_map)\n",
        "\n",
        "# Step 2: Get cases where NamePrism predicted the same ethnicity\n",
        "df_agreement = df_deepface_confident[df_deepface_confident['DeepFace_prediction_code'] == df_deepface_confident['NamePrism_prediction']]\n",
        "\n",
        "# Step 3: Calculate accuracy based on NamePrism probability\n",
        "# Here I'm considering that NamePrism_max_probability is the maximum probability amongst all NamePrism predictions\n",
        "accuracy_per_bucket = calculate_accuracy_per_bucket(df_agreement, 'NamePrism_max_probability', 'true_label', 'NamePrism_prediction')\n",
        "\n",
        "# Graph accuracy per NamePrism probability\n",
        "accuracy_per_bucket.plot(kind='bar', figsize=(12, 6))\n",
        "plt.xlabel(\"NamePrism Prediction Probability\")\n",
        "plt.ylabel(\"Accuracy\")\n",
        "plt.title(\"Accuracy of predictions where DeepFace and NamePrism agree, per NamePrism Prediction Probability\")\n",
        "plt.show()\n"
      ],
      "metadata": {
        "colab": {
          "base_uri": "https://localhost:8080/",
          "height": 380
        },
        "id": "X8QDuv-lJZBg",
        "outputId": "715d6899-7e6a-4f03-d094-90b51e619452"
      },
      "execution_count": null,
      "outputs": [
        {
          "output_type": "error",
          "ename": "ZeroDivisionError",
          "evalue": "ignored",
          "traceback": [
            "\u001b[0;31m---------------------------------------------------------------------------\u001b[0m",
            "\u001b[0;31mZeroDivisionError\u001b[0m                         Traceback (most recent call last)",
            "\u001b[0;32m<ipython-input-99-b36da41a252e>\u001b[0m in \u001b[0;36m<cell line: 33>\u001b[0;34m()\u001b[0m\n\u001b[1;32m     31\u001b[0m \u001b[0;31m# Step 3: Calculate accuracy based on NamePrism probability\u001b[0m\u001b[0;34m\u001b[0m\u001b[0;34m\u001b[0m\u001b[0m\n\u001b[1;32m     32\u001b[0m \u001b[0;31m# Here I'm considering that NamePrism_max_probability is the maximum probability amongst all NamePrism predictions\u001b[0m\u001b[0;34m\u001b[0m\u001b[0;34m\u001b[0m\u001b[0m\n\u001b[0;32m---> 33\u001b[0;31m \u001b[0maccuracy_per_bucket\u001b[0m \u001b[0;34m=\u001b[0m \u001b[0mcalculate_accuracy_per_bucket\u001b[0m\u001b[0;34m(\u001b[0m\u001b[0mdf_agreement\u001b[0m\u001b[0;34m,\u001b[0m \u001b[0;34m'NamePrism_max_probability'\u001b[0m\u001b[0;34m,\u001b[0m \u001b[0;34m'true_label'\u001b[0m\u001b[0;34m,\u001b[0m \u001b[0;34m'NamePrism_prediction'\u001b[0m\u001b[0;34m)\u001b[0m\u001b[0;34m\u001b[0m\u001b[0;34m\u001b[0m\u001b[0m\n\u001b[0m\u001b[1;32m     34\u001b[0m \u001b[0;34m\u001b[0m\u001b[0m\n\u001b[1;32m     35\u001b[0m \u001b[0;31m# Graph accuracy per NamePrism probability\u001b[0m\u001b[0;34m\u001b[0m\u001b[0;34m\u001b[0m\u001b[0m\n",
            "\u001b[0;32m<ipython-input-85-c04f1d57379d>\u001b[0m in \u001b[0;36mcalculate_accuracy_per_bucket\u001b[0;34m(df, prob_column, true_label_column, prediction_column, bins)\u001b[0m\n\u001b[1;32m     16\u001b[0m         \u001b[0;32mreturn\u001b[0m \u001b[0mcorrect_predictions\u001b[0m \u001b[0;34m/\u001b[0m \u001b[0mtotal_predictions\u001b[0m\u001b[0;34m\u001b[0m\u001b[0;34m\u001b[0m\u001b[0m\n\u001b[1;32m     17\u001b[0m \u001b[0;34m\u001b[0m\u001b[0m\n\u001b[0;32m---> 18\u001b[0;31m     \u001b[0;32mreturn\u001b[0m \u001b[0mgrouped\u001b[0m\u001b[0;34m.\u001b[0m\u001b[0mapply\u001b[0m\u001b[0;34m(\u001b[0m\u001b[0mcalculate_bucket_accuracy\u001b[0m\u001b[0;34m)\u001b[0m\u001b[0;34m\u001b[0m\u001b[0;34m\u001b[0m\u001b[0m\n\u001b[0m\u001b[1;32m     19\u001b[0m \u001b[0;34m\u001b[0m\u001b[0m\n\u001b[1;32m     20\u001b[0m \u001b[0;34m\u001b[0m\u001b[0m\n",
            "\u001b[0;32m/usr/local/lib/python3.10/dist-packages/pandas/core/groupby/groupby.py\u001b[0m in \u001b[0;36mapply\u001b[0;34m(self, func, *args, **kwargs)\u001b[0m\n\u001b[1;32m   1565\u001b[0m                     \u001b[0mold_msg\u001b[0m\u001b[0;34m,\u001b[0m \u001b[0mFutureWarning\u001b[0m\u001b[0;34m,\u001b[0m \u001b[0mnew_msg\u001b[0m\u001b[0;34m\u001b[0m\u001b[0;34m\u001b[0m\u001b[0m\n\u001b[1;32m   1566\u001b[0m                 ) if is_np_func else nullcontext():\n\u001b[0;32m-> 1567\u001b[0;31m                     \u001b[0mresult\u001b[0m \u001b[0;34m=\u001b[0m \u001b[0mself\u001b[0m\u001b[0;34m.\u001b[0m\u001b[0m_python_apply_general\u001b[0m\u001b[0;34m(\u001b[0m\u001b[0mf\u001b[0m\u001b[0;34m,\u001b[0m \u001b[0mself\u001b[0m\u001b[0;34m.\u001b[0m\u001b[0m_selected_obj\u001b[0m\u001b[0;34m)\u001b[0m\u001b[0;34m\u001b[0m\u001b[0;34m\u001b[0m\u001b[0m\n\u001b[0m\u001b[1;32m   1568\u001b[0m             \u001b[0;32mexcept\u001b[0m \u001b[0mTypeError\u001b[0m\u001b[0;34m:\u001b[0m\u001b[0;34m\u001b[0m\u001b[0;34m\u001b[0m\u001b[0m\n\u001b[1;32m   1569\u001b[0m                 \u001b[0;31m# gh-20949\u001b[0m\u001b[0;34m\u001b[0m\u001b[0;34m\u001b[0m\u001b[0m\n",
            "\u001b[0;32m/usr/local/lib/python3.10/dist-packages/pandas/core/groupby/groupby.py\u001b[0m in \u001b[0;36m_python_apply_general\u001b[0;34m(self, f, data, not_indexed_same, is_transform, is_agg)\u001b[0m\n\u001b[1;32m   1627\u001b[0m             \u001b[0mdata\u001b[0m \u001b[0mafter\u001b[0m \u001b[0mapplying\u001b[0m \u001b[0mf\u001b[0m\u001b[0;34m\u001b[0m\u001b[0;34m\u001b[0m\u001b[0m\n\u001b[1;32m   1628\u001b[0m         \"\"\"\n\u001b[0;32m-> 1629\u001b[0;31m         \u001b[0mvalues\u001b[0m\u001b[0;34m,\u001b[0m \u001b[0mmutated\u001b[0m \u001b[0;34m=\u001b[0m \u001b[0mself\u001b[0m\u001b[0;34m.\u001b[0m\u001b[0mgrouper\u001b[0m\u001b[0;34m.\u001b[0m\u001b[0mapply\u001b[0m\u001b[0;34m(\u001b[0m\u001b[0mf\u001b[0m\u001b[0;34m,\u001b[0m \u001b[0mdata\u001b[0m\u001b[0;34m,\u001b[0m \u001b[0mself\u001b[0m\u001b[0;34m.\u001b[0m\u001b[0maxis\u001b[0m\u001b[0;34m)\u001b[0m\u001b[0;34m\u001b[0m\u001b[0;34m\u001b[0m\u001b[0m\n\u001b[0m\u001b[1;32m   1630\u001b[0m         \u001b[0;32mif\u001b[0m \u001b[0mnot_indexed_same\u001b[0m \u001b[0;32mis\u001b[0m \u001b[0;32mNone\u001b[0m\u001b[0;34m:\u001b[0m\u001b[0;34m\u001b[0m\u001b[0;34m\u001b[0m\u001b[0m\n\u001b[1;32m   1631\u001b[0m             \u001b[0mnot_indexed_same\u001b[0m \u001b[0;34m=\u001b[0m \u001b[0mmutated\u001b[0m \u001b[0;32mor\u001b[0m \u001b[0mself\u001b[0m\u001b[0;34m.\u001b[0m\u001b[0mmutated\u001b[0m\u001b[0;34m\u001b[0m\u001b[0;34m\u001b[0m\u001b[0m\n",
            "\u001b[0;32m/usr/local/lib/python3.10/dist-packages/pandas/core/groupby/ops.py\u001b[0m in \u001b[0;36mapply\u001b[0;34m(self, f, data, axis)\u001b[0m\n\u001b[1;32m    837\u001b[0m             \u001b[0;31m# group might be modified\u001b[0m\u001b[0;34m\u001b[0m\u001b[0;34m\u001b[0m\u001b[0m\n\u001b[1;32m    838\u001b[0m             \u001b[0mgroup_axes\u001b[0m \u001b[0;34m=\u001b[0m \u001b[0mgroup\u001b[0m\u001b[0;34m.\u001b[0m\u001b[0maxes\u001b[0m\u001b[0;34m\u001b[0m\u001b[0;34m\u001b[0m\u001b[0m\n\u001b[0;32m--> 839\u001b[0;31m             \u001b[0mres\u001b[0m \u001b[0;34m=\u001b[0m \u001b[0mf\u001b[0m\u001b[0;34m(\u001b[0m\u001b[0mgroup\u001b[0m\u001b[0;34m)\u001b[0m\u001b[0;34m\u001b[0m\u001b[0;34m\u001b[0m\u001b[0m\n\u001b[0m\u001b[1;32m    840\u001b[0m             \u001b[0;32mif\u001b[0m \u001b[0;32mnot\u001b[0m \u001b[0mmutated\u001b[0m \u001b[0;32mand\u001b[0m \u001b[0;32mnot\u001b[0m \u001b[0m_is_indexed_like\u001b[0m\u001b[0;34m(\u001b[0m\u001b[0mres\u001b[0m\u001b[0;34m,\u001b[0m \u001b[0mgroup_axes\u001b[0m\u001b[0;34m,\u001b[0m \u001b[0maxis\u001b[0m\u001b[0;34m)\u001b[0m\u001b[0;34m:\u001b[0m\u001b[0;34m\u001b[0m\u001b[0;34m\u001b[0m\u001b[0m\n\u001b[1;32m    841\u001b[0m                 \u001b[0mmutated\u001b[0m \u001b[0;34m=\u001b[0m \u001b[0;32mTrue\u001b[0m\u001b[0;34m\u001b[0m\u001b[0;34m\u001b[0m\u001b[0m\n",
            "\u001b[0;32m<ipython-input-85-c04f1d57379d>\u001b[0m in \u001b[0;36mcalculate_bucket_accuracy\u001b[0;34m(group)\u001b[0m\n\u001b[1;32m     14\u001b[0m         \u001b[0mcorrect_predictions\u001b[0m \u001b[0;34m=\u001b[0m \u001b[0mgroup\u001b[0m\u001b[0;34m[\u001b[0m\u001b[0mgroup\u001b[0m\u001b[0;34m[\u001b[0m\u001b[0mtrue_label_column\u001b[0m\u001b[0;34m]\u001b[0m \u001b[0;34m==\u001b[0m \u001b[0mgroup\u001b[0m\u001b[0;34m[\u001b[0m\u001b[0mprediction_column\u001b[0m\u001b[0;34m]\u001b[0m\u001b[0;34m]\u001b[0m\u001b[0;34m.\u001b[0m\u001b[0mshape\u001b[0m\u001b[0;34m[\u001b[0m\u001b[0;36m0\u001b[0m\u001b[0;34m]\u001b[0m\u001b[0;34m\u001b[0m\u001b[0;34m\u001b[0m\u001b[0m\n\u001b[1;32m     15\u001b[0m         \u001b[0mtotal_predictions\u001b[0m \u001b[0;34m=\u001b[0m \u001b[0mgroup\u001b[0m\u001b[0;34m.\u001b[0m\u001b[0mshape\u001b[0m\u001b[0;34m[\u001b[0m\u001b[0;36m0\u001b[0m\u001b[0;34m]\u001b[0m\u001b[0;34m\u001b[0m\u001b[0;34m\u001b[0m\u001b[0m\n\u001b[0;32m---> 16\u001b[0;31m         \u001b[0;32mreturn\u001b[0m \u001b[0mcorrect_predictions\u001b[0m \u001b[0;34m/\u001b[0m \u001b[0mtotal_predictions\u001b[0m\u001b[0;34m\u001b[0m\u001b[0;34m\u001b[0m\u001b[0m\n\u001b[0m\u001b[1;32m     17\u001b[0m \u001b[0;34m\u001b[0m\u001b[0m\n\u001b[1;32m     18\u001b[0m     \u001b[0;32mreturn\u001b[0m \u001b[0mgrouped\u001b[0m\u001b[0;34m.\u001b[0m\u001b[0mapply\u001b[0m\u001b[0;34m(\u001b[0m\u001b[0mcalculate_bucket_accuracy\u001b[0m\u001b[0;34m)\u001b[0m\u001b[0;34m\u001b[0m\u001b[0;34m\u001b[0m\u001b[0m\n",
            "\u001b[0;31mZeroDivisionError\u001b[0m: division by zero"
          ]
        }
      ]
    },
    {
      "cell_type": "code",
      "source": [
        "df_filtered.columns"
      ],
      "metadata": {
        "colab": {
          "base_uri": "https://localhost:8080/"
        },
        "id": "4-E-weA_TPUi",
        "outputId": "4031ec8c-057b-4797-cedf-b27edd47add0"
      },
      "execution_count": null,
      "outputs": [
        {
          "output_type": "execute_result",
          "data": {
            "text/plain": [
              "Index(['guest_id', 'name', 'image', 'deepface_asian', 'deepface_indian',\n",
              "       'deepface_black', 'deepface_white', 'deepface_middle eastern',\n",
              "       'deepface_latino hispanic', 'deepface_asian2', 'deepface_indian2',\n",
              "       'deepface_black2', 'deepface_white2', 'deepface_middle eastern2',\n",
              "       'deepface_latino hispanic2', 'invalid', 'true_number', 'true_label',\n",
              "       'NamePrism_European-SouthSlavs',\n",
              "       'NamePrism_Muslim-Pakistanis-Bangladesh',\n",
              "       'NamePrism_European-Italian-Italy', 'NamePrism_European-Baltics',\n",
              "       'NamePrism_African-SouthAfrican', 'NamePrism_European-Italian-Romania',\n",
              "       'NamePrism_Muslim-Nubian', 'NamePrism_European-French',\n",
              "       'NamePrism_EastAsian-Indochina-Thailand',\n",
              "       'NamePrism_EastAsian-Indochina-Vietnam', 'NamePrism_Jewish',\n",
              "       'NamePrism_Muslim-Turkic-CentralAsian',\n",
              "       'NamePrism_EastAsian-Indochina-Cambodia',\n",
              "       'NamePrism_Nordic-Scandinavian-Denmark',\n",
              "       'NamePrism_EastAsian-Indochina-Myanmar', 'NamePrism_Nordic-Finland',\n",
              "       'NamePrism_Muslim-Persian', 'NamePrism_Nordic-Scandinavian-Sweden',\n",
              "       'NamePrism_Muslim-Maghreb', 'NamePrism_Greek',\n",
              "       'NamePrism_Muslim-Pakistanis-Pakistan', 'NamePrism_Hispanic-Portuguese',\n",
              "       'NamePrism_European-Russian', 'NamePrism_Muslim-ArabianPeninsula',\n",
              "       'NamePrism_African-WestAfrican', 'NamePrism_EastAsian-Japan',\n",
              "       'NamePrism_European-German', 'NamePrism_EastAsian-Chinese',\n",
              "       'NamePrism_SouthAsian', 'NamePrism_Hispanic-Spanish',\n",
              "       'NamePrism_Nordic-Scandinavian-Norway',\n",
              "       'NamePrism_Muslim-Turkic-Turkey', 'NamePrism_Hispanic-Philippines',\n",
              "       'NamePrism_CelticEnglish', 'NamePrism_EastAsian-Malay-Malaysia',\n",
              "       'NamePrism_EastAsian-South Korea', 'NamePrism_African-EastAfrican',\n",
              "       'NamePrism_European-EastEuropean',\n",
              "       'NamePrism_EastAsian-Malay-Indonesia', 'NamePrism_Asian',\n",
              "       'NamePrism_Black', 'NamePrism_Latino',\n",
              "       'NamePrism_MiddleEastern/NorthAfrican', 'NamePrism_White',\n",
              "       'NamePrism_max_category', 'NamePrism_prediction',\n",
              "       'NamePrism_max_probability', 'prob_bucket', 'correct_prediction',\n",
              "       'WNWtrue_label', 'WNWNamePrism_White', 'WNWNamePrism_Non-White',\n",
              "       'WNWNamePrism_prediction', 'deepface_prediction',\n",
              "       'deepface_prediction_code'],\n",
              "      dtype='object')"
            ]
          },
          "metadata": {},
          "execution_count": 97
        }
      ]
    },
    {
      "cell_type": "code",
      "source": [
        "import numpy as np\n",
        "import matplotlib.pyplot as plt\n",
        "\n",
        "# Mapping dictionary for DeepFace to our defined groups\n",
        "deepface_to_ethnicity_mapping = {\n",
        "    \"deepface_asian\": 1,\n",
        "    \"deepface_black\": 2,\n",
        "    \"deepface_latino hispanic\": 3,\n",
        "    \"deepface_middle eastern\": 4,\n",
        "    \"deepface_white\": 5\n",
        "}\n",
        "\n",
        "# 1. Filter out the cases where DeepFace is confident (> 50%)\n",
        "df_deepface_confident = df_filtered[df_filtered[['deepface_asian', 'deepface_black', 'deepface_latino hispanic', 'deepface_middle eastern', 'deepface_white']].max(axis=1) > 50]\n",
        "\n",
        "# 2. Create prediction column for DeepFace with the ethnicity prediction\n",
        "df_deepface_confident['deepface_ethnicity_prediction'] = df_deepface_confident[['deepface_asian', 'deepface_black', 'deepface_latino hispanic', 'deepface_middle eastern', 'deepface_white']].idxmax(axis=1).map(deepface_to_ethnicity_mapping)\n",
        "\n",
        "# Filter out cases where DeepFace's prediction is the same as NamePrism's prediction\n",
        "df_agreement = df_deepface_confident[df_deepface_confident['deepface_ethnicity_prediction'] == df_deepface_confident['NamePrism_prediction']]\n",
        "\n",
        "# Define a function to compute accuracy\n",
        "def calculate_accuracy(df, prob_column, true_label_column, prediction_column):\n",
        "    df['correct_prediction'] = df.apply(lambda row: str(row[prediction_column]) in row[true_label_column].split(), axis=1)\n",
        "    df['prob_bucket'] = df[prob_column].apply(lambda x: np.floor(x*10)/10)\n",
        "    accuracy_per_bucket = df.groupby('prob_bucket')['correct_prediction'].mean()\n",
        "    return accuracy_per_bucket\n",
        "\n",
        "# 3. Calculate accuracy based on NamePrism probability\n",
        "accuracy_per_bucket = calculate_accuracy(df_agreement, 'NamePrism_max_probability', 'true_label', 'NamePrism_prediction')\n",
        "\n",
        "# Visualize the accuracy per probability bucket\n",
        "plt.figure(figsize=(10, 6))\n",
        "plt.grid()\n",
        "accuracy_per_bucket.plot(kind='bar', color='skyblue')\n",
        "plt.title(\"Accuracy per Probability Bucket\")\n",
        "plt.xlabel(\"Probability Bucket\")\n",
        "plt.ylabel(\"Accuracy\")\n",
        "plt.show()\n"
      ],
      "metadata": {
        "colab": {
          "base_uri": "https://localhost:8080/",
          "height": 572
        },
        "id": "ZHopvydeTTCm",
        "outputId": "99dd1a46-f803-41e0-db64-e95581c06e60"
      },
      "execution_count": null,
      "outputs": [
        {
          "output_type": "display_data",
          "data": {
            "text/plain": [
              "<Figure size 1000x600 with 1 Axes>"
            ],
            "image/png": "[encoded data removed]"
          },
          "metadata": {}
        }
      ]
    },
    {
      "cell_type": "code",
      "source": [
        "accuracy_per_bucket"
      ],
      "metadata": {
        "colab": {
          "base_uri": "https://localhost:8080/"
        },
        "id": "PuGF9s-3Z3c4",
        "outputId": "4486a604-7607-410c-eda2-627ae9d987a6"
      },
      "execution_count": null,
      "outputs": [
        {
          "output_type": "execute_result",
          "data": {
            "text/plain": [
              "prob_bucket\n",
              "0.5    0.888889\n",
              "0.6    0.920000\n",
              "0.7    0.969697\n",
              "0.8    1.000000\n",
              "0.9    0.974026\n",
              "1.0    1.000000\n",
              "Name: correct_prediction, dtype: float64"
            ]
          },
          "metadata": {},
          "execution_count": 104
        }
      ]
    },
    {
      "cell_type": "code",
      "source": [
        "# Count instances per probability bucket\n",
        "instances_per_bucket = df_agreement.groupby('prob_bucket').size()\n",
        "\n",
        "# Visualize the counts per probability bucket\n",
        "plt.figure(figsize=(10, 6))\n",
        "instances_per_bucket.plot(kind='bar', color='skyblue')\n",
        "plt.title(\"Counts per Probability Bucket\")\n",
        "plt.xlabel(\"Probability Bucket\")\n",
        "plt.ylabel(\"Counts\")\n",
        "plt.show()\n"
      ],
      "metadata": {
        "colab": {
          "base_uri": "https://localhost:8080/",
          "height": 572
        },
        "id": "l8-d972bf8iS",
        "outputId": "c4052d58-1d1a-44e3-8cac-a0e8d136cd84"
      },
      "execution_count": null,
      "outputs": [
        {
          "output_type": "display_data",
          "data": {
            "text/plain": [
              "<Figure size 1000x600 with 1 Axes>"
            ],
            "image/png": "[encoded data removed]"
          },
          "metadata": {}
        }
      ]
    },
    {
      "cell_type": "code",
      "source": [
        "# Calculate overall accuracy\n",
        "overall_accuracy = df_agreement['correct_prediction'].mean()\n",
        "\n",
        "print(f'Overall accuracy: {overall_accuracy*100:.2f}%')\n"
      ],
      "metadata": {
        "colab": {
          "base_uri": "https://localhost:8080/"
        },
        "id": "8pJ8Bw5pgOT-",
        "outputId": "400fa765-0033-49a2-9a9b-f0c0f7a7ad27"
      },
      "execution_count": null,
      "outputs": [
        {
          "output_type": "stream",
          "name": "stdout",
          "text": [
            "Overall accuracy: 96.10%\n"
          ]
        }
      ]
    },
    {
      "cell_type": "code",
      "source": [
        "plt.figure(figsize=(10, 6))\n",
        "bars = plt.bar(cumulative_accuracy_per_bucket.index, cumulative_accuracy_per_bucket['accuracy'], color='skyblue', width=0.07)\n",
        "\n",
        "plt.title(\"Cumulative Accuracy per Probability Bucket\")\n",
        "plt.xlabel(\"Probability Bucket\")\n",
        "plt.ylabel(\"Cumulative Accuracy\")\n",
        "plt.yticks(np.arange(0, 1.1, 0.1)) # Show every 10% from 0% to 100%\n",
        "plt.grid(axis='y')\n",
        "\n",
        "# Adding accuracy values on top of the bars\n",
        "for bar in bars:\n",
        "    yval = bar.get_height()\n",
        "    plt.text(bar.get_x() + bar.get_width()/2, yval + 0.01, round(yval, 4), ha='center', va='bottom')\n",
        "\n",
        "plt.show()\n"
      ],
      "metadata": {
        "colab": {
          "base_uri": "https://localhost:8080/",
          "height": 564
        },
        "id": "YOUSr2STjGUT",
        "outputId": "56e0d59b-a3af-4458-c3f0-1e592bef7b11"
      },
      "execution_count": null,
      "outputs": [
        {
          "output_type": "display_data",
          "data": {
            "text/plain": [
              "<Figure size 1000x600 with 1 Axes>"
            ],
            "image/png": "[encoded data removed]"
          },
          "metadata": {}
        }
      ]
    },
    {
      "cell_type": "code",
      "source": [
        "cumulative_accuracy_per_bucket['accuracy']"
      ],
      "metadata": {
        "colab": {
          "base_uri": "https://localhost:8080/"
        },
        "id": "vX1kRW19jJ2w",
        "outputId": "ad6ac131-a4da-4cad-ccb2-6af74b6337b8"
      },
      "execution_count": null,
      "outputs": [
        {
          "output_type": "execute_result",
          "data": {
            "text/plain": [
              "prob_bucket\n",
              "0.5    0.960976\n",
              "0.6    0.971910\n",
              "0.7    0.980392\n",
              "0.8    0.983333\n",
              "0.9    0.974359\n",
              "1.0    1.000000\n",
              "Name: accuracy, dtype: float64"
            ]
          },
          "metadata": {},
          "execution_count": 108
        }
      ]
    },
    {
      "cell_type": "code",
      "source": [
        "# Filter out rows with NaN values in the 'deepface_WNW_prediction' column\n",
        "df_filtered = df_filtered.dropna(subset=['deepface_WNW_prediction'])\n",
        "\n",
        "# After filtering, we can continue with the rest of the code\n",
        "\n",
        "# Filter the cases where both DeepFace and NamePrism agree on the predictions\n",
        "df_filtered_wnw_agree = df_filtered[df_filtered['deepface_WNW_prediction'] == df_filtered['WNWNamePrism_prediction']]\n",
        "\n",
        "# Create the bucket of NamePrism probabilities\n",
        "df_filtered_wnw_agree['prob_bucket'] = pd.cut(df_filtered_wnw_agree['WNWNamePrism_White'], bins=np.arange(0, 1.1, 0.1), include_lowest=True)\n",
        "\n",
        "# Calculate the accuracy per bucket\n",
        "df_filtered_wnw_agree['correct_prediction'] = df_filtered_wnw_agree['WNWtrue_label'].apply(lambda x: df_filtered_wnw_agree['WNWNamePrism_prediction'] in x.split(' ')).astype(int)\n",
        "accuracy_per_bucket_wnw = df_filtered_wnw_agree.groupby('prob_bucket')['correct_prediction'].mean()\n",
        "\n",
        "# Create an accumulative average of the accuracies per bucket\n",
        "cumulative_accuracy_per_bucket_wnw = accuracy_per_bucket_wnw[::-1].cumsum()[::-1] / (np.arange(len(accuracy_per_bucket_wnw)) + 1)\n",
        "\n",
        "# For visualization, let's convert the Interval index to its mid-point values\n",
        "cumulative_accuracy_per_bucket_wnw.index = cumulative_accuracy_per_bucket_wnw.index.map(lambda interval: interval.mid)\n",
        "\n",
        "# Plot the data\n",
        "plt.figure(figsize=(10, 6))\n",
        "bars = plt.bar(cumulative_accuracy_per_bucket_wnw.index, cumulative_accuracy_per_bucket_wnw, color='skyblue', width=0.07)\n",
        "\n",
        "plt.title(\"Cumulative Accuracy per Probability Bucket for White/Non-White Model\")\n",
        "plt.xlabel(\"Probability Bucket\")\n",
        "plt.ylabel(\"Cumulative Accuracy\")\n",
        "plt.yticks(np.linspace(0, 1, 11)) # Show every 10% from 0% to 100%\n",
        "plt.grid(axis='y')\n",
        "\n",
        "# Adding accuracy values on top of the bars\n",
        "for bar in bars:\n",
        "    yval = bar.get_height()\n",
        "    plt.text(bar.get_x() + bar.get_width()/2, yval + 0.01, round(yval, 2), ha='center', va='bottom')\n",
        "\n",
        "plt.show()\n"
      ],
      "metadata": {
        "colab": {
          "base_uri": "https://localhost:8080/",
          "height": 911
        },
        "id": "lKyeVsNPlr8Y",
        "outputId": "cdacbd4c-a3a3-477f-c7bc-0518d2a285af"
      },
      "execution_count": null,
      "outputs": [
        {
          "output_type": "stream",
          "name": "stderr",
          "text": [
            "WARNING:matplotlib.text:posx and posy should be finite values\n",
            "WARNING:matplotlib.text:posx and posy should be finite values\n",
            "WARNING:matplotlib.text:posx and posy should be finite values\n",
            "WARNING:matplotlib.text:posx and posy should be finite values\n",
            "WARNING:matplotlib.text:posx and posy should be finite values\n",
            "WARNING:matplotlib.text:posx and posy should be finite values\n",
            "WARNING:matplotlib.text:posx and posy should be finite values\n",
            "WARNING:matplotlib.text:posx and posy should be finite values\n",
            "WARNING:matplotlib.text:posx and posy should be finite values\n",
            "WARNING:matplotlib.text:posx and posy should be finite values\n",
            "WARNING:matplotlib.text:posx and posy should be finite values\n",
            "WARNING:matplotlib.text:posx and posy should be finite values\n",
            "WARNING:matplotlib.text:posx and posy should be finite values\n",
            "WARNING:matplotlib.text:posx and posy should be finite values\n",
            "WARNING:matplotlib.text:posx and posy should be finite values\n",
            "WARNING:matplotlib.text:posx and posy should be finite values\n",
            "WARNING:matplotlib.text:posx and posy should be finite values\n",
            "WARNING:matplotlib.text:posx and posy should be finite values\n",
            "WARNING:matplotlib.text:posx and posy should be finite values\n",
            "WARNING:matplotlib.text:posx and posy should be finite values\n"
          ]
        },
        {
          "output_type": "display_data",
          "data": {
            "text/plain": [
              "<Figure size 1000x600 with 1 Axes>"
            ],
            "image/png": "[encoded data removed]"
          },
          "metadata": {}
        }
      ]
    },
    {
      "cell_type": "code",
      "source": [
        "df_filtered['deepface_prediction_code']"
      ],
      "metadata": {
        "colab": {
          "base_uri": "https://localhost:8080/",
          "height": 165
        },
        "id": "5G-7ieIwoX-e",
        "outputId": "2b200bb4-2e2b-4f11-b9cd-6a843920f9a3"
      },
      "execution_count": null,
      "outputs": [
        {
          "output_type": "error",
          "ename": "TypeError",
          "evalue": "ignored",
          "traceback": [
            "\u001b[0;31m---------------------------------------------------------------------------\u001b[0m",
            "\u001b[0;31mTypeError\u001b[0m                                 Traceback (most recent call last)",
            "\u001b[0;32m<ipython-input-121-89aade54453b>\u001b[0m in \u001b[0;36m<cell line: 1>\u001b[0;34m()\u001b[0m\n\u001b[0;32m----> 1\u001b[0;31m \u001b[0mdf_filtered\u001b[0m\u001b[0;34m[\u001b[0m\u001b[0;34m'deepface_prediction_code'\u001b[0m\u001b[0;34m]\u001b[0m\u001b[0;34m[\u001b[0m\u001b[0;36m1\u001b[0m\u001b[0;34m]\u001b[0m \u001b[0;34m-\u001b[0m \u001b[0;36m5\u001b[0m\u001b[0;34m\u001b[0m\u001b[0;34m\u001b[0m\u001b[0m\n\u001b[0m",
            "\u001b[0;31mTypeError\u001b[0m: unsupported operand type(s) for -: 'str' and 'int'"
          ]
        }
      ]
    },
    {
      "cell_type": "code",
      "source": [],
      "metadata": {
        "id": "fZfT4BI7oaFT"
      },
      "execution_count": null,
      "outputs": []
    }
  ]
}